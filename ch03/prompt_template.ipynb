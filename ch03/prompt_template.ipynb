{
 "cells": [
  {
   "cell_type": "code",
   "execution_count": 5,
   "id": "06b18e0a",
   "metadata": {},
   "outputs": [
    {
     "data": {
      "text/plain": [
       "True"
      ]
     },
     "execution_count": 5,
     "metadata": {},
     "output_type": "execute_result"
    }
   ],
   "source": [
    "from dotenv import load_dotenv\n",
    "\n",
    "load_dotenv(\"../.envrc\")"
   ]
  },
  {
   "cell_type": "code",
   "execution_count": 6,
   "id": "24d6695b",
   "metadata": {},
   "outputs": [
    {
     "data": {
      "text/plain": [
       "PromptTemplate(input_variables=['개수', '재료'], input_types={}, partial_variables={}, template='\\n        너는 요리사야. 내가 가진 재료들을 갖고 만들 수 있는 요리를 {개수}추천하고,\\n        그 요리의 레시피를 제시해줘. 내가 가진 재료는 아래와 같아.\\n        <재료>\\n        {재료}\\n        ')"
      ]
     },
     "execution_count": 6,
     "metadata": {},
     "output_type": "execute_result"
    }
   ],
   "source": [
    "from langchain.prompts import PromptTemplate\n",
    "\n",
    "prompt= (\n",
    "    PromptTemplate.from_template(\n",
    "        \"\"\"\n",
    "        너는 요리사야. 내가 가진 재료들을 갖고 만들 수 있는 요리를 {개수}추천하고,\n",
    "        그 요리의 레시피를 제시해줘. 내가 가진 재료는 아래와 같아.\n",
    "        <재료>\n",
    "        {재료}\n",
    "        \"\"\"\n",
    "        )\n",
    "    )\n",
    "\n",
    "prompt"
   ]
  },
  {
   "cell_type": "code",
   "execution_count": 7,
   "id": "1965220a",
   "metadata": {},
   "outputs": [
    {
     "data": {
      "text/plain": [
       "'\\n        너는 요리사야. 내가 가진 재료들을 갖고 만들 수 있는 요리를 3추천하고,\\n        그 요리의 레시피를 제시해줘. 내가 가진 재료는 아래와 같아.\\n        <재료>\\n        사과, 양파, 계란\\n        '"
      ]
     },
     "execution_count": 7,
     "metadata": {},
     "output_type": "execute_result"
    }
   ],
   "source": [
    "\n",
    "prompt.format(개수= 3, 재료=\"사과, 양파, 계란\")"
   ]
  },
  {
   "cell_type": "code",
   "execution_count": 8,
   "id": "dab3c78a",
   "metadata": {},
   "outputs": [
    {
     "data": {
      "text/plain": [
       "[SystemMessage(content='\\n        너는 항상 밝은 말투로 대화하는 챗봇이야. 답변의 끝에 이모티콘을 붙여줘.\\n        ', additional_kwargs={}, response_metadata={}),\n",
       " HumanMessage(content='\\n                          오늘은 날씨가 어때?\\n                          ', additional_kwargs={}, response_metadata={}),\n",
       " AIMessage(content='\\n                         오늘은 날씨가 아주 좋아요!\\n                         ', additional_kwargs={}, response_metadata={}),\n",
       " HumanMessage(content='오늘 너의 기분은 어때?', additional_kwargs={}, response_metadata={})]"
      ]
     },
     "execution_count": 8,
     "metadata": {},
     "output_type": "execute_result"
    }
   ],
   "source": [
    "from langchain_openai import ChatOpenAI\n",
    "from langchain.schema import HumanMessage, SystemMessage, AIMessage\n",
    "prompt = SystemMessage(content=\n",
    "        \"\"\"\n",
    "        너는 항상 밝은 말투로 대화하는 챗봇이야. 답변의 끝에 이모티콘을 붙여줘.\n",
    "        \"\"\"\n",
    "        )\n",
    "new_prompt = (\n",
    "    prompt\n",
    "    + HumanMessage(content=\n",
    "                          \"\"\"\n",
    "                          오늘은 날씨가 어때?\n",
    "                          \"\"\")\n",
    "    + AIMessage(content=\n",
    "                         \"\"\"\n",
    "                         오늘은 날씨가 아주 좋아요!\n",
    "                         \"\"\")\n",
    "    + \"\"\"{input}\"\"\"\n",
    ")\n",
    "new_prompt.format_messages(input = \"오늘 너의 기분은 어때?\")"
   ]
  },
  {
   "cell_type": "code",
   "execution_count": null,
   "id": "def2d1d2",
   "metadata": {},
   "outputs": [
    {
     "data": {
      "text/plain": [
       "{'input': '오늘 너의 기분은 어때?', 'text': '오늘도 아주 기분이 좋아요! 너와 대화할 수 있어서 정말 즐거워요. 😊'}"
      ]
     },
     "execution_count": 10,
     "metadata": {},
     "output_type": "execute_result"
    }
   ],
   "source": [
    "from langchain.chains import LLMChain\n",
    "from langchain_openai import ChatOpenAI\n",
    "\n",
    "model = ChatOpenAI(model = 'gpt-4o-mini')\n",
    "chain = LLMChain(llm=model, prompt=new_prompt)\n",
    "chain.invoke(\"오늘 너의 기분은 어때?\")"
   ]
  },
  {
   "cell_type": "code",
   "execution_count": 11,
   "id": "91862c2f",
   "metadata": {},
   "outputs": [
    {
     "name": "stdout",
     "output_type": "stream",
     "text": [
      "Question: 아이유로 삼행시 만들어줘\n",
      "\n",
      "                아: 아이유는\n",
      "                이: 이런 강의를 들을 이\n",
      "                유: 유가 없다.\n",
      "                \n"
     ]
    }
   ],
   "source": [
    "from langchain.prompts.few_shot import FewShotPromptTemplate\n",
    "from langchain.prompts.prompt import PromptTemplate\n",
    "examples = [\n",
    "    {\n",
    "        \"question\": \"아이유로 삼행시 만들어줘\",\n",
    "        \"answer\":\n",
    "                \"\"\"\n",
    "                아: 아이유는\n",
    "                이: 이런 강의를 들을 이\n",
    "                유: 유가 없다.\n",
    "                \"\"\"\n",
    "    }\n",
    "]\n",
    "\n",
    "example_prompt = PromptTemplate(\n",
    "                                input_variables=[\"question\", \"answer\"],\n",
    "                                template=\"Question: {question}\\n{answer}\"\n",
    "                                )\n",
    "\n",
    "print(example_prompt.format(**examples[0]))"
   ]
  },
  {
   "cell_type": "code",
   "execution_count": 12,
   "id": "764792d5",
   "metadata": {},
   "outputs": [
    {
     "name": "stdout",
     "output_type": "stream",
     "text": [
      "Question: 아이유로 삼행시 만들어줘\n",
      "\n",
      "                아: 아이유는\n",
      "                이: 이런 강의를 들을 이\n",
      "                유: 유가 없다.\n",
      "                \n",
      "\n",
      "Question: 호날두로 삼행시 만들어줘\n"
     ]
    }
   ],
   "source": [
    "prompt = FewShotPromptTemplate(\n",
    "    examples=examples,\n",
    "    example_prompt=example_prompt,\n",
    "    suffix=\"Question: {input}\",\n",
    "    input_variables=[\"input\"]\n",
    ")\n",
    "\n",
    "print(prompt.format(input=\"호날두로 삼행시 만들어줘\"))"
   ]
  },
  {
   "cell_type": "code",
   "execution_count": 13,
   "id": "8dad600e",
   "metadata": {},
   "outputs": [
    {
     "name": "stdout",
     "output_type": "stream",
     "text": [
      "호: 호쾌한 드리블로  \n",
      "날: 날아오르는 골망을  \n",
      "두: 두드리는 그의 발끝!\n"
     ]
    }
   ],
   "source": [
    "model = ChatOpenAI(model_name = \"gpt-4o-mini\", temperature = 1)\n",
    "result = model.invoke(\"호날두로 삼행시 만들어줘\")\n",
    "print(result.content)"
   ]
  },
  {
   "cell_type": "markdown",
   "id": "0095c15b",
   "metadata": {},
   "source": [
    "- 현재는 그냥 잘 나오는 듯..."
   ]
  },
  {
   "cell_type": "code",
   "execution_count": 14,
   "id": "0f7274d0",
   "metadata": {},
   "outputs": [
    {
     "name": "stdout",
     "output_type": "stream",
     "text": [
      "호: 호감이 가는 모습\n",
      "날: 날마다 성장하는 열정\n",
      "두: 두려움 없이 도전하는 전설!\n"
     ]
    }
   ],
   "source": [
    "result = model.invoke(prompt.format(input=\"호날두로 삼행시 만들어줘\"))\n",
    "print(result.content)"
   ]
  },
  {
   "cell_type": "code",
   "execution_count": 21,
   "id": "cc70b239",
   "metadata": {},
   "outputs": [
    {
     "name": "stdout",
     "output_type": "stream",
     "text": [
      "나이: 20 \n",
      "직업: 개발자\n"
     ]
    }
   ],
   "source": [
    "from langchain.prompts import PromptTemplate\n",
    "\n",
    "prompt = PromptTemplate.from_template(\"나이: {age} \\n직업: {job}\")\n",
    "partial_prompt = prompt.partial(age=\"20\")\n",
    "print(partial_prompt.format(job=\"개발자\"))"
   ]
  },
  {
   "cell_type": "code",
   "execution_count": 22,
   "id": "2f5d3781",
   "metadata": {},
   "outputs": [],
   "source": [
    "from datetime import datetime\n",
    "\n",
    "\n",
    "def _get_datetime():\n",
    "    now = datetime.now()\n",
    "    return now.strftime(\"%m/%d/%Y, %H:%M:%S\")"
   ]
  },
  {
   "cell_type": "code",
   "execution_count": 25,
   "id": "de0b7861",
   "metadata": {},
   "outputs": [
    {
     "name": "stdout",
     "output_type": "stream",
     "text": [
      "Tell me a funny joke about the day 04/16/2025, 19:30:47\n"
     ]
    }
   ],
   "source": [
    "prompt = PromptTemplate(\n",
    "    template=\"Tell me a {adjective} joke about the day {date}\",\n",
    "    input_variables=[\"adjective\", \"date\"],\n",
    ")\n",
    "partial_prompt = prompt.partial(date=_get_datetime)\n",
    "print(partial_prompt.format(adjective=\"funny\"))"
   ]
  }
 ],
 "metadata": {
  "kernelspec": {
   "display_name": "venv",
   "language": "python",
   "name": "python3"
  },
  "language_info": {
   "codemirror_mode": {
    "name": "ipython",
    "version": 3
   },
   "file_extension": ".py",
   "mimetype": "text/x-python",
   "name": "python",
   "nbconvert_exporter": "python",
   "pygments_lexer": "ipython3",
   "version": "3.13.3"
  }
 },
 "nbformat": 4,
 "nbformat_minor": 5
}
