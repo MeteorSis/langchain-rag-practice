{
 "cells": [
  {
   "cell_type": "code",
   "execution_count": 1,
   "id": "fd0ce773",
   "metadata": {},
   "outputs": [
    {
     "data": {
      "text/plain": [
       "True"
      ]
     },
     "execution_count": 1,
     "metadata": {},
     "output_type": "execute_result"
    }
   ],
   "source": [
    "from dotenv import load_dotenv\n",
    "\n",
    "load_dotenv(\"../.envrc\")"
   ]
  },
  {
   "cell_type": "code",
   "execution_count": 2,
   "id": "5f46ec41",
   "metadata": {},
   "outputs": [
    {
     "data": {
      "text/plain": [
       "'Why did the ice cream truck break down?  \\n\\nBecause it had too many problems and couldn\\'t find a \"scoop\" solution! 🍦'"
      ]
     },
     "execution_count": 2,
     "metadata": {},
     "output_type": "execute_result"
    }
   ],
   "source": [
    "from langchain_core.output_parsers import StrOutputParser\n",
    "from langchain_core.prompts import ChatPromptTemplate\n",
    "from langchain_openai import ChatOpenAI\n",
    "\n",
    "#프롬프트 템플릿 설정\n",
    "prompt = ChatPromptTemplate.from_template(\"tell me a short joke about {topic}\")\n",
    "\n",
    "#LLM 호출\n",
    "model = ChatOpenAI(model=\"gpt-4o-mini\")\n",
    "\n",
    "#출력 파서 설정\n",
    "output_parser = StrOutputParser()\n",
    "\n",
    "#LCEL로 프롬프트템플릿-LLM-출력 파서 연결하기\n",
    "chain = prompt | model | output_parser\n",
    "\n",
    "#invoke함수로 chain 실행하기\n",
    "chain.invoke({\"topic\": \"ice cream\"})"
   ]
  },
  {
   "cell_type": "code",
   "execution_count": 3,
   "id": "885de70e",
   "metadata": {},
   "outputs": [
    {
     "name": "stdout",
     "output_type": "stream",
     "text": [
      "Why do bears have hairy coats?\n",
      "\n",
      "Because they look silly in jackets!"
     ]
    }
   ],
   "source": [
    "from langchain.prompts import ChatPromptTemplate\n",
    "from langchain_openai import ChatOpenAI\n",
    "\n",
    "#Chain 선언\n",
    "model = ChatOpenAI(model=\"gpt-4o-mini\")\n",
    "prompt = ChatPromptTemplate.from_template(\"tell me a joke about {topic}\")\n",
    "chain = prompt | model\n",
    "\n",
    "#Chain의 stream()함수를 통해 스트리밍 기능 추가\n",
    "for s in chain.stream({\"topic\": \"bears\"}):\n",
    "    print(s.content, end=\"\", flush=True)"
   ]
  },
  {
   "cell_type": "code",
   "execution_count": 8,
   "id": "b34930c9",
   "metadata": {},
   "outputs": [
    {
     "name": "stdout",
     "output_type": "stream",
     "text": [
      "[AIMessage(content='그녀는 매일 아침 책을 읽습니다.는 프랑스어로 \"Elle lit un livre tous les matins.\" 입니다.', additional_kwargs={'refusal': None}, response_metadata={'token_usage': {'completion_tokens': 30, 'prompt_tokens': 33, 'total_tokens': 63, 'completion_tokens_details': {'accepted_prediction_tokens': 0, 'audio_tokens': 0, 'reasoning_tokens': 0, 'rejected_prediction_tokens': 0}, 'prompt_tokens_details': {'audio_tokens': 0, 'cached_tokens': 0}}, 'model_name': 'gpt-4o-mini-2024-07-18', 'system_fingerprint': 'fp_34a54ae93c', 'id': 'chatcmpl-BhbjWLSZ5fyXuCJjfWubCywfqnwrf', 'finish_reason': 'stop', 'logprobs': None}, id='run--fdd65a1b-851a-4403-b223-e6d0e8bab3d9-0', usage_metadata={'input_tokens': 33, 'output_tokens': 30, 'total_tokens': 63, 'input_token_details': {'audio': 0, 'cache_read': 0}, 'output_token_details': {'audio': 0, 'reasoning': 0}}), AIMessage(content='오늘 날씨가 참 좋네요.의 프랑스어 번역은 \"Aujourd\\'hui, le temps est vraiment agréable.\"입니다.', additional_kwargs={'refusal': None}, response_metadata={'token_usage': {'completion_tokens': 28, 'prompt_tokens': 30, 'total_tokens': 58, 'completion_tokens_details': {'accepted_prediction_tokens': 0, 'audio_tokens': 0, 'reasoning_tokens': 0, 'rejected_prediction_tokens': 0}, 'prompt_tokens_details': {'audio_tokens': 0, 'cached_tokens': 0}}, 'model_name': 'gpt-4o-mini-2024-07-18', 'system_fingerprint': 'fp_34a54ae93c', 'id': 'chatcmpl-BhbjWyuET7LK9AE7OZgO07U2eSBpz', 'finish_reason': 'stop', 'logprobs': None}, id='run--e591b78a-ce2f-4ed4-b7a2-f269b9177243-0', usage_metadata={'input_tokens': 30, 'output_tokens': 28, 'total_tokens': 58, 'input_token_details': {'audio': 0, 'cache_read': 0}, 'output_token_details': {'audio': 0, 'reasoning': 0}}), AIMessage(content='저녁에 친구들과 영화를 볼 거예요.는 프랑스어로 \"Je vais regarder un film avec des amis ce soir.\"라고 번역됩니다.', additional_kwargs={'refusal': None}, response_metadata={'token_usage': {'completion_tokens': 35, 'prompt_tokens': 34, 'total_tokens': 69, 'completion_tokens_details': {'accepted_prediction_tokens': 0, 'audio_tokens': 0, 'reasoning_tokens': 0, 'rejected_prediction_tokens': 0}, 'prompt_tokens_details': {'audio_tokens': 0, 'cached_tokens': 0}}, 'model_name': 'gpt-4o-mini-2024-07-18', 'system_fingerprint': 'fp_34a54ae93c', 'id': 'chatcmpl-BhbjWzS4zh73Wp1bc1FGUoCGoel3F', 'finish_reason': 'stop', 'logprobs': None}, id='run--e48b4673-394d-4c12-b914-d8cd718ce689-0', usage_metadata={'input_tokens': 34, 'output_tokens': 35, 'total_tokens': 69, 'input_token_details': {'audio': 0, 'cache_read': 0}, 'output_token_details': {'audio': 0, 'reasoning': 0}}), AIMessage(content='그 학생은 매우 성실하게 공부합니다.  \\n→ Cet étudiant étudie très sérieusement.', additional_kwargs={'refusal': None}, response_metadata={'token_usage': {'completion_tokens': 21, 'prompt_tokens': 32, 'total_tokens': 53, 'completion_tokens_details': {'accepted_prediction_tokens': 0, 'audio_tokens': 0, 'reasoning_tokens': 0, 'rejected_prediction_tokens': 0}, 'prompt_tokens_details': {'audio_tokens': 0, 'cached_tokens': 0}}, 'model_name': 'gpt-4o-mini-2024-07-18', 'system_fingerprint': 'fp_34a54ae93c', 'id': 'chatcmpl-BhbjWf9FJYh0uYMLzW2Yheal4wqvn', 'finish_reason': 'stop', 'logprobs': None}, id='run--c7ac64e5-c183-49f0-abdc-321ad8e612df-0', usage_metadata={'input_tokens': 32, 'output_tokens': 21, 'total_tokens': 53, 'input_token_details': {'audio': 0, 'cache_read': 0}, 'output_token_details': {'audio': 0, 'reasoning': 0}}), AIMessage(content='\"Je veux une tasse de café maintenant.\"', additional_kwargs={'refusal': None}, response_metadata={'token_usage': {'completion_tokens': 9, 'prompt_tokens': 35, 'total_tokens': 44, 'completion_tokens_details': {'accepted_prediction_tokens': 0, 'audio_tokens': 0, 'reasoning_tokens': 0, 'rejected_prediction_tokens': 0}, 'prompt_tokens_details': {'audio_tokens': 0, 'cached_tokens': 0}}, 'model_name': 'gpt-4o-mini-2024-07-18', 'system_fingerprint': 'fp_34a54ae93c', 'id': 'chatcmpl-BhbjWSXH95swBIbiNUDDjuoUUmKEk', 'finish_reason': 'stop', 'logprobs': None}, id='run--bbeaab1b-aade-484a-a7f5-f6adb4fad4c9-0', usage_metadata={'input_tokens': 35, 'output_tokens': 9, 'total_tokens': 44, 'input_token_details': {'audio': 0, 'cache_read': 0}, 'output_token_details': {'audio': 0, 'reasoning': 0}})]\n",
      "CPU times: user 47.3 ms, sys: 6.47 ms, total: 53.7 ms\n",
      "Wall time: 2.07 s\n"
     ]
    }
   ],
   "source": [
    "%%time\n",
    "model = ChatOpenAI(model=\"gpt-4o-mini\")\n",
    "prompt = ChatPromptTemplate.from_template(\"다음 한글 문장을 프랑스어로 번역해줘 {sentence}\")\n",
    "chain = prompt | model\n",
    "\n",
    "print(chain.batch([\n",
    "    {\"sentence\": \"그녀는 매일 아침 책을 읽습니다.\"},\n",
    "    {\"sentence\": \"오늘 날씨가 참 좋네요.\"},\n",
    "    {\"sentence\": \"저녁에 친구들과 영화를 볼 거예요.\"},\n",
    "    {\"sentence\": \"그 학생은 매우 성실하게 공부합니다.\"},\n",
    "    {\"sentence\": \"커피 한 잔이 지금 딱 필요해요.\"}\n",
    "]))"
   ]
  },
  {
   "cell_type": "code",
   "execution_count": 7,
   "id": "a0c51be8",
   "metadata": {},
   "outputs": [
    {
     "name": "stdout",
     "output_type": "stream",
     "text": [
      "content='그녀는 매일 아침 책을 읽습니다.의 프랑스어 번역은 \"Elle lit un livre tous les matins.\"입니다.' additional_kwargs={'refusal': None} response_metadata={'token_usage': {'completion_tokens': 32, 'prompt_tokens': 33, 'total_tokens': 65, 'completion_tokens_details': {'accepted_prediction_tokens': 0, 'audio_tokens': 0, 'reasoning_tokens': 0, 'rejected_prediction_tokens': 0}, 'prompt_tokens_details': {'audio_tokens': 0, 'cached_tokens': 0}}, 'model_name': 'gpt-4o-mini-2024-07-18', 'system_fingerprint': 'fp_34a54ae93c', 'id': 'chatcmpl-BhbjDeifZXkumMicEMTcyDNzhfFIo', 'finish_reason': 'stop', 'logprobs': None} id='run--3f4f05f2-652f-4de3-8be7-46c5ee18074a-0' usage_metadata={'input_tokens': 33, 'output_tokens': 32, 'total_tokens': 65, 'input_token_details': {'audio': 0, 'cache_read': 0}, 'output_token_details': {'audio': 0, 'reasoning': 0}}\n",
      "content='오늘 날씨가 참 좋네요.의 프랑스어 번역은 \"Aujourd\\'hui, le temps est vraiment agréable.\"입니다.' additional_kwargs={'refusal': None} response_metadata={'token_usage': {'completion_tokens': 28, 'prompt_tokens': 30, 'total_tokens': 58, 'completion_tokens_details': {'accepted_prediction_tokens': 0, 'audio_tokens': 0, 'reasoning_tokens': 0, 'rejected_prediction_tokens': 0}, 'prompt_tokens_details': {'audio_tokens': 0, 'cached_tokens': 0}}, 'model_name': 'gpt-4o-mini-2024-07-18', 'system_fingerprint': 'fp_34a54ae93c', 'id': 'chatcmpl-BhbjEv18FamMqA7zREnWqbC0tE8Ql', 'finish_reason': 'stop', 'logprobs': None} id='run--f6fdbb78-1e17-4ab2-b4be-2ab38b688dca-0' usage_metadata={'input_tokens': 30, 'output_tokens': 28, 'total_tokens': 58, 'input_token_details': {'audio': 0, 'cache_read': 0}, 'output_token_details': {'audio': 0, 'reasoning': 0}}\n",
      "content='저녁에 친구들과 영화를 볼 거예요.를 프랑스어로 번역하면 다음과 같습니다:\\n\\n\"Je vais regarder un film avec des amis ce soir.\"' additional_kwargs={'refusal': None} response_metadata={'token_usage': {'completion_tokens': 37, 'prompt_tokens': 34, 'total_tokens': 71, 'completion_tokens_details': {'accepted_prediction_tokens': 0, 'audio_tokens': 0, 'reasoning_tokens': 0, 'rejected_prediction_tokens': 0}, 'prompt_tokens_details': {'audio_tokens': 0, 'cached_tokens': 0}}, 'model_name': 'gpt-4o-mini-2024-07-18', 'system_fingerprint': 'fp_62a23a81ef', 'id': 'chatcmpl-BhbjG8wR99NJ8TYNPZANWipEkUI1r', 'finish_reason': 'stop', 'logprobs': None} id='run--04e355ab-31b5-4cfe-9ff1-29d0fa184f28-0' usage_metadata={'input_tokens': 34, 'output_tokens': 37, 'total_tokens': 71, 'input_token_details': {'audio': 0, 'cache_read': 0}, 'output_token_details': {'audio': 0, 'reasoning': 0}}\n",
      "content='그 학생은 매우 성실하게 공부합니다. \\n\\n→ Cet étudiant étudie très sérieusement.' additional_kwargs={'refusal': None} response_metadata={'token_usage': {'completion_tokens': 21, 'prompt_tokens': 32, 'total_tokens': 53, 'completion_tokens_details': {'accepted_prediction_tokens': 0, 'audio_tokens': 0, 'reasoning_tokens': 0, 'rejected_prediction_tokens': 0}, 'prompt_tokens_details': {'audio_tokens': 0, 'cached_tokens': 0}}, 'model_name': 'gpt-4o-mini-2024-07-18', 'system_fingerprint': 'fp_34a54ae93c', 'id': 'chatcmpl-BhbjHIdgIPD6Qf57SiwIZTe5O8Cfl', 'finish_reason': 'stop', 'logprobs': None} id='run--cb0854e0-43af-4a49-a4a9-a56aa183a410-0' usage_metadata={'input_tokens': 32, 'output_tokens': 21, 'total_tokens': 53, 'input_token_details': {'audio': 0, 'cache_read': 0}, 'output_token_details': {'audio': 0, 'reasoning': 0}}\n",
      "content='\"J\\'ai vraiment besoin d\\'une tasse de café en ce moment.\"' additional_kwargs={'refusal': None} response_metadata={'token_usage': {'completion_tokens': 14, 'prompt_tokens': 35, 'total_tokens': 49, 'completion_tokens_details': {'accepted_prediction_tokens': 0, 'audio_tokens': 0, 'reasoning_tokens': 0, 'rejected_prediction_tokens': 0}, 'prompt_tokens_details': {'audio_tokens': 0, 'cached_tokens': 0}}, 'model_name': 'gpt-4o-mini-2024-07-18', 'system_fingerprint': 'fp_34a54ae93c', 'id': 'chatcmpl-BhbjIObiIUFGkJBlyLGJBlGcfCWan', 'finish_reason': 'stop', 'logprobs': None} id='run--3f5c226f-6e84-45f1-a8d9-0b53424c4b04-0' usage_metadata={'input_tokens': 35, 'output_tokens': 14, 'total_tokens': 49, 'input_token_details': {'audio': 0, 'cache_read': 0}, 'output_token_details': {'audio': 0, 'reasoning': 0}}\n",
      "CPU times: user 46.8 ms, sys: 5.96 ms, total: 52.8 ms\n",
      "Wall time: 5.89 s\n"
     ]
    }
   ],
   "source": [
    "%%time\n",
    "model = ChatOpenAI(model = 'gpt-4o-mini')\n",
    "prompt = ChatPromptTemplate.from_template(\"다음 한글 문장을 프랑스어로 번역해줘 {sentence}\")\n",
    "chain = prompt | model\n",
    "\n",
    "print(chain.invoke({\"sentence\": \"그녀는 매일 아침 책을 읽습니다.\"}))\n",
    "print(chain.invoke({\"sentence\": \"오늘 날씨가 참 좋네요.\"}))\n",
    "print(chain.invoke({\"sentence\": \"저녁에 친구들과 영화를 볼 거예요.\"}))\n",
    "print(chain.invoke({\"sentence\": \"그 학생은 매우 성실하게 공부합니다.\"}))\n",
    "print(chain.invoke({\"sentence\": \"커피 한 잔이 지금 딱 필요해요.\"}))"
   ]
  },
  {
   "cell_type": "code",
   "execution_count": null,
   "id": "1323a959",
   "metadata": {},
   "outputs": [],
   "source": []
  }
 ],
 "metadata": {
  "kernelspec": {
   "display_name": ".venv",
   "language": "python",
   "name": "python3"
  },
  "language_info": {
   "codemirror_mode": {
    "name": "ipython",
    "version": 3
   },
   "file_extension": ".py",
   "mimetype": "text/x-python",
   "name": "python",
   "nbconvert_exporter": "python",
   "pygments_lexer": "ipython3",
   "version": "3.13.3"
  }
 },
 "nbformat": 4,
 "nbformat_minor": 5
}
