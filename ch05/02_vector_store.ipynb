{
 "cells": [
  {
   "cell_type": "code",
   "execution_count": 1,
   "id": "82270bb4",
   "metadata": {},
   "outputs": [
    {
     "data": {
      "text/plain": [
       "True"
      ]
     },
     "execution_count": 1,
     "metadata": {},
     "output_type": "execute_result"
    }
   ],
   "source": [
    "from dotenv import load_dotenv\n",
    "\n",
    "load_dotenv(\"../.envrc\")"
   ]
  },
  {
   "cell_type": "code",
   "execution_count": 16,
   "id": "00fb68aa",
   "metadata": {},
   "outputs": [],
   "source": [
    "from langchain.document_loaders import PyPDFLoader\n",
    "from langchain_text_splitters import RecursiveCharacterTextSplitter\n",
    "from langchain_openai import OpenAIEmbeddings\n",
    "from langchain.vectorstores import Chroma\n",
    "\n",
    "openai_embedding=OpenAIEmbeddings(model = 'text-embedding-3-small')\n",
    "\n",
    "loader = PyPDFLoader(r\"../data/대한민국헌법(헌법)(제00010호)(19880225).pdf\")\n",
    "pages = loader.load_and_split()\n",
    "\n",
    "text_splitter = RecursiveCharacterTextSplitter(chunk_size=500, chunk_overlap=0)\n",
    "docs = text_splitter.split_documents(pages)\n",
    "\n",
    "db = Chroma.from_documents(docs, openai_embedding)"
   ]
  },
  {
   "cell_type": "code",
   "execution_count": 17,
   "id": "63d0b87a",
   "metadata": {},
   "outputs": [
    {
     "name": "stdout",
     "output_type": "stream",
     "text": [
      "page_content='제70조 대통령의 임기는 5년으로 하며, 중임할 수 없다.\n",
      " \n",
      "제71조 대통령이 궐위되거나 사고로 인하여 직무를 수행할 수 없을 때에는 국무총리, 법률이 정한 국무위원의 순서로\n",
      "그 권한을 대행한다.\n",
      " \n",
      "제72조 대통령은 필요하다고 인정할 때에는 외교ㆍ국방ㆍ통일 기타 국가안위에 관한 중요정책을 국민투표에 붙일 수\n",
      "있다.\n",
      " \n",
      "제73조 대통령은 조약을 체결ㆍ비준하고, 외교사절을 신임ㆍ접수 또는 파견하며, 선전포고와 강화를 한다.\n",
      " \n",
      "제74조 ①대통령은 헌법과 법률이 정하는 바에 의하여 국군을 통수한다.\n",
      "②국군의 조직과 편성은 법률로 정한다.\n",
      " \n",
      "제75조 대통령은 법률에서 구체적으로 범위를 정하여 위임받은 사항과 법률을 집행하기 위하여 필요한 사항에 관하여\n",
      "대통령령을 발할 수 있다.\n",
      " \n",
      "제76조 ①대통령은 내우ㆍ외환ㆍ천재ㆍ지변 또는 중대한 재정ㆍ경제상의 위기에 있어서 국가의 안전보장 또는 공공의' metadata={'total_pages': 14, 'moddate': '2024-04-01T21:26:24+09:00', 'creator': 'PyPDF', 'creationdate': '2024-04-01T21:26:24+09:00', 'page': 6, 'source': '../data/대한민국헌법(헌법)(제00010호)(19880225).pdf', 'producer': 'iText 2.1.7 by 1T3XT', 'page_label': '7'}\n"
     ]
    }
   ],
   "source": [
    "query = \"대통령의 임기는?\"\n",
    "#유사 문서 검색\n",
    "docs = db.similarity_search(query)\n",
    "print(docs[0])"
   ]
  },
  {
   "cell_type": "code",
   "execution_count": 18,
   "id": "76524d52",
   "metadata": {},
   "outputs": [
    {
     "data": {
      "text/plain": [
       "[(Document(metadata={'creationdate': '2024-04-01T21:26:24+09:00', 'producer': 'iText 2.1.7 by 1T3XT', 'moddate': '2024-04-01T21:26:24+09:00', 'page_label': '7', 'creator': 'PyPDF', 'total_pages': 14, 'source': '../data/대한민국헌법(헌법)(제00010호)(19880225).pdf', 'page': 6}, page_content='제70조 대통령의 임기는 5년으로 하며, 중임할 수 없다.\\n \\n제71조 대통령이 궐위되거나 사고로 인하여 직무를 수행할 수 없을 때에는 국무총리, 법률이 정한 국무위원의 순서로\\n그 권한을 대행한다.\\n \\n제72조 대통령은 필요하다고 인정할 때에는 외교ㆍ국방ㆍ통일 기타 국가안위에 관한 중요정책을 국민투표에 붙일 수\\n있다.\\n \\n제73조 대통령은 조약을 체결ㆍ비준하고, 외교사절을 신임ㆍ접수 또는 파견하며, 선전포고와 강화를 한다.\\n \\n제74조 ①대통령은 헌법과 법률이 정하는 바에 의하여 국군을 통수한다.\\n②국군의 조직과 편성은 법률로 정한다.\\n \\n제75조 대통령은 법률에서 구체적으로 범위를 정하여 위임받은 사항과 법률을 집행하기 위하여 필요한 사항에 관하여\\n대통령령을 발할 수 있다.\\n \\n제76조 ①대통령은 내우ㆍ외환ㆍ천재ㆍ지변 또는 중대한 재정ㆍ경제상의 위기에 있어서 국가의 안전보장 또는 공공의'),\n",
       "  1.0360676050186157),\n",
       " (Document(metadata={'page': 7, 'producer': 'iText 2.1.7 by 1T3XT', 'creator': 'PyPDF', 'total_pages': 14, 'page_label': '8', 'source': '../data/대한민국헌법(헌법)(제00010호)(19880225).pdf', 'moddate': '2024-04-01T21:26:24+09:00', 'creationdate': '2024-04-01T21:26:24+09:00'}, page_content='제80조 대통령은 법률이 정하는 바에 의하여 훈장 기타의 영전을 수여한다.\\n \\n제81조 대통령은 국회에 출석하여 발언하거나 서한으로 의견을 표시할 수 있다.\\n \\n제82조 대통령의 국법상 행위는 문서로써 하며, 이 문서에는 국무총리와 관계 국무위원이 부서한다. 군사에 관한 것도\\n또한 같다.\\n \\n제83조 대통령은 국무총리ㆍ국무위원ㆍ행정각부의 장 기타 법률이 정하는 공사의 직을 겸할 수 없다.\\n \\n제84조 대통령은 내란 또는 외환의 죄를 범한 경우를 제외하고는 재직 중 형사상의 소추를 받지 아니한다.\\n \\n제85조 전직대통령의 신분과 예우에 관하여는 법률로 정한다.\\n \\n         제2절 행정부\\n           제1관 국무총리와 국무위원\\n \\n제86조 ①국무총리는 국회의 동의를 얻어 대통령이 임명한다.\\n②국무총리는 대통령을 보좌하며, 행정에 관하여 대통령의 명을 받아 행정각부를 통할한다.\\n③군인은 현역을 면한 후가 아니면 국무총리로 임명될 수 없다.'),\n",
       "  1.1417580842971802),\n",
       " (Document(metadata={'page_label': '7', 'creationdate': '2024-04-01T21:26:24+09:00', 'total_pages': 14, 'moddate': '2024-04-01T21:26:24+09:00', 'creator': 'PyPDF', 'source': '../data/대한민국헌법(헌법)(제00010호)(19880225).pdf', 'producer': 'iText 2.1.7 by 1T3XT', 'page': 6}, page_content='법제처                                                            7                                                       국가법령정보센터\\n대한민국헌법\\n있어야 한다.\\n③탄핵소추의 의결을 받은 자는 탄핵심판이 있을 때까지 그 권한행사가 정지된다.\\n④탄핵결정은 공직으로부터 파면함에 그친다. 그러나, 이에 의하여 민사상이나 형사상의 책임이 면제되지는 아니한\\n다.\\n \\n       제4장 정부\\n         제1절 대통령\\n \\n제66조 ①대통령은 국가의 원수이며, 외국에 대하여 국가를 대표한다.\\n②대통령은 국가의 독립ㆍ영토의 보전ㆍ국가의 계속성과 헌법을 수호할 책무를 진다.\\n③대통령은 조국의 평화적 통일을 위한 성실한 의무를 진다.\\n④행정권은 대통령을 수반으로 하는 정부에 속한다.\\n \\n제67조 ①대통령은 국민의 보통ㆍ평등ㆍ직접ㆍ비밀선거에 의하여 선출한다.'),\n",
       "  1.1591742038726807),\n",
       " (Document(metadata={'producer': 'iText 2.1.7 by 1T3XT', 'total_pages': 14, 'page': 6, 'creator': 'PyPDF', 'moddate': '2024-04-01T21:26:24+09:00', 'page_label': '7', 'creationdate': '2024-04-01T21:26:24+09:00', 'source': '../data/대한민국헌법(헌법)(제00010호)(19880225).pdf'}, page_content='②제1항의 선거에 있어서 최고득표자가 2인 이상인 때에는 국회의 재적의원 과반수가 출석한 공개회의에서 다수표\\n를 얻은 자를 당선자로 한다.\\n③대통령후보자가 1인일 때에는 그 득표수가 선거권자 총수의 3분의 1 이상이 아니면 대통령으로 당선될 수 없다.\\n④대통령으로 선거될 수 있는 자는 국회의원의 피선거권이 있고 선거일 현재 40세에 달하여야 한다.\\n⑤대통령의 선거에 관한 사항은 법률로 정한다.\\n \\n제68조 ①대통령의 임기가 만료되는 때에는 임기만료 70일 내지 40일 전에 후임자를 선거한다.\\n②대통령이 궐위된 때 또는 대통령 당선자가 사망하거나 판결 기타의 사유로 그 자격을 상실한 때에는 60일 이내에\\n후임자를 선거한다.\\n \\n제69조 대통령은 취임에 즈음하여 다음의 선서를 한다.\\n“나는 헌법을 준수하고 국가를 보위하며 조국의 평화적 통일과 국민의 자유와 복리의 증진 및 민족문화의 창달에\\n노력하여 대통령으로서의 직책을 성실히 수행할 것을 국민 앞에 엄숙히 선서합니다.”'),\n",
       "  1.1642301082611084)]"
      ]
     },
     "execution_count": 18,
     "metadata": {},
     "output_type": "execute_result"
    }
   ],
   "source": [
    "#유사 문서 검색 및 유사도 출력\n",
    "db.similarity_search_with_score(query)"
   ]
  },
  {
   "cell_type": "code",
   "execution_count": 19,
   "id": "de57b6b8",
   "metadata": {},
   "outputs": [],
   "source": [
    "from langchain_chroma import Chroma\n",
    "\n",
    "Chroma().delete_collection()"
   ]
  },
  {
   "cell_type": "code",
   "execution_count": 21,
   "id": "9d7914d3",
   "metadata": {},
   "outputs": [
    {
     "name": "stdout",
     "output_type": "stream",
     "text": [
      "[Document(id='cbc6014d-c781-4b79-a392-3000af195f6f', metadata={'total_pages': 14, 'page': 6, 'creationdate': '2024-04-01T21:26:24+09:00', 'source': '../data/대한민국헌법(헌법)(제00010호)(19880225).pdf', 'producer': 'iText 2.1.7 by 1T3XT', 'creator': 'PyPDF', 'moddate': '2024-04-01T21:26:24+09:00', 'page_label': '7'}, page_content='제70조 대통령의 임기는 5년으로 하며, 중임할 수 없다.\\n \\n제71조 대통령이 궐위되거나 사고로 인하여 직무를 수행할 수 없을 때에는 국무총리, 법률이 정한 국무위원의 순서로\\n그 권한을 대행한다.\\n \\n제72조 대통령은 필요하다고 인정할 때에는 외교ㆍ국방ㆍ통일 기타 국가안위에 관한 중요정책을 국민투표에 붙일 수\\n있다.\\n \\n제73조 대통령은 조약을 체결ㆍ비준하고, 외교사절을 신임ㆍ접수 또는 파견하며, 선전포고와 강화를 한다.\\n \\n제74조 ①대통령은 헌법과 법률이 정하는 바에 의하여 국군을 통수한다.\\n②국군의 조직과 편성은 법률로 정한다.\\n \\n제75조 대통령은 법률에서 구체적으로 범위를 정하여 위임받은 사항과 법률을 집행하기 위하여 필요한 사항에 관하여\\n대통령령을 발할 수 있다.\\n \\n제76조 ①대통령은 내우ㆍ외환ㆍ천재ㆍ지변 또는 중대한 재정ㆍ경제상의 위기에 있어서 국가의 안전보장 또는 공공의'), Document(id='74e6e124-67f7-4473-8981-723cc833307f', metadata={'producer': 'iText 2.1.7 by 1T3XT', 'page_label': '7', 'source': '../data/대한민국헌법(헌법)(제00010호)(19880225).pdf', 'creator': 'PyPDF', 'moddate': '2024-04-01T21:26:24+09:00', 'total_pages': 14, 'creationdate': '2024-04-01T21:26:24+09:00', 'page': 6}, page_content='제70조 대통령의 임기는 5년으로 하며, 중임할 수 없다.\\n \\n제71조 대통령이 궐위되거나 사고로 인하여 직무를 수행할 수 없을 때에는 국무총리, 법률이 정한 국무위원의 순서로\\n그 권한을 대행한다.\\n \\n제72조 대통령은 필요하다고 인정할 때에는 외교ㆍ국방ㆍ통일 기타 국가안위에 관한 중요정책을 국민투표에 붙일 수\\n있다.\\n \\n제73조 대통령은 조약을 체결ㆍ비준하고, 외교사절을 신임ㆍ접수 또는 파견하며, 선전포고와 강화를 한다.\\n \\n제74조 ①대통령은 헌법과 법률이 정하는 바에 의하여 국군을 통수한다.\\n②국군의 조직과 편성은 법률로 정한다.\\n \\n제75조 대통령은 법률에서 구체적으로 범위를 정하여 위임받은 사항과 법률을 집행하기 위하여 필요한 사항에 관하여\\n대통령령을 발할 수 있다.\\n \\n제76조 ①대통령은 내우ㆍ외환ㆍ천재ㆍ지변 또는 중대한 재정ㆍ경제상의 위기에 있어서 국가의 안전보장 또는 공공의'), Document(id='fb08ccae-4f4c-4cc1-bec7-f61ed885d5b3', metadata={'page_label': '8', 'page': 7, 'creator': 'PyPDF', 'producer': 'iText 2.1.7 by 1T3XT', 'source': '../data/대한민국헌법(헌법)(제00010호)(19880225).pdf', 'creationdate': '2024-04-01T21:26:24+09:00', 'moddate': '2024-04-01T21:26:24+09:00', 'total_pages': 14}, page_content='제80조 대통령은 법률이 정하는 바에 의하여 훈장 기타의 영전을 수여한다.\\n \\n제81조 대통령은 국회에 출석하여 발언하거나 서한으로 의견을 표시할 수 있다.\\n \\n제82조 대통령의 국법상 행위는 문서로써 하며, 이 문서에는 국무총리와 관계 국무위원이 부서한다. 군사에 관한 것도\\n또한 같다.\\n \\n제83조 대통령은 국무총리ㆍ국무위원ㆍ행정각부의 장 기타 법률이 정하는 공사의 직을 겸할 수 없다.\\n \\n제84조 대통령은 내란 또는 외환의 죄를 범한 경우를 제외하고는 재직 중 형사상의 소추를 받지 아니한다.\\n \\n제85조 전직대통령의 신분과 예우에 관하여는 법률로 정한다.\\n \\n         제2절 행정부\\n           제1관 국무총리와 국무위원\\n \\n제86조 ①국무총리는 국회의 동의를 얻어 대통령이 임명한다.\\n②국무총리는 대통령을 보좌하며, 행정에 관하여 대통령의 명을 받아 행정각부를 통할한다.\\n③군인은 현역을 면한 후가 아니면 국무총리로 임명될 수 없다.'), Document(id='3f7aa235-39a2-4f59-b2ce-25d1163d7a18', metadata={'producer': 'iText 2.1.7 by 1T3XT', 'page': 7, 'total_pages': 14, 'page_label': '8', 'creationdate': '2024-04-01T21:26:24+09:00', 'moddate': '2024-04-01T21:26:24+09:00', 'source': '../data/대한민국헌법(헌법)(제00010호)(19880225).pdf', 'creator': 'PyPDF'}, page_content='제80조 대통령은 법률이 정하는 바에 의하여 훈장 기타의 영전을 수여한다.\\n \\n제81조 대통령은 국회에 출석하여 발언하거나 서한으로 의견을 표시할 수 있다.\\n \\n제82조 대통령의 국법상 행위는 문서로써 하며, 이 문서에는 국무총리와 관계 국무위원이 부서한다. 군사에 관한 것도\\n또한 같다.\\n \\n제83조 대통령은 국무총리ㆍ국무위원ㆍ행정각부의 장 기타 법률이 정하는 공사의 직을 겸할 수 없다.\\n \\n제84조 대통령은 내란 또는 외환의 죄를 범한 경우를 제외하고는 재직 중 형사상의 소추를 받지 아니한다.\\n \\n제85조 전직대통령의 신분과 예우에 관하여는 법률로 정한다.\\n \\n         제2절 행정부\\n           제1관 국무총리와 국무위원\\n \\n제86조 ①국무총리는 국회의 동의를 얻어 대통령이 임명한다.\\n②국무총리는 대통령을 보좌하며, 행정에 관하여 대통령의 명을 받아 행정각부를 통할한다.\\n③군인은 현역을 면한 후가 아니면 국무총리로 임명될 수 없다.')]\n",
      "제70조 대통령의 임기는 5년으로 하며, 중임할 수 없다.\n",
      " \n",
      "제71조 대통령이 궐위되거나 사고로 인하여 직무를 수행할 수 없을 때에는 국무총리, 법률이 정한 국무위원의 순서로\n",
      "그 권한을 대행한다.\n",
      " \n",
      "제72조 대통령은 필요하다고 인정할 때에는 외교ㆍ국방ㆍ통일 기타 국가안위에 관한 중요정책을 국민투표에 붙일 수\n",
      "있다.\n",
      " \n",
      "제73조 대통령은 조약을 체결ㆍ비준하고, 외교사절을 신임ㆍ접수 또는 파견하며, 선전포고와 강화를 한다.\n",
      " \n",
      "제74조 ①대통령은 헌법과 법률이 정하는 바에 의하여 국군을 통수한다.\n",
      "②국군의 조직과 편성은 법률로 정한다.\n",
      " \n",
      "제75조 대통령은 법률에서 구체적으로 범위를 정하여 위임받은 사항과 법률을 집행하기 위하여 필요한 사항에 관하여\n",
      "대통령령을 발할 수 있다.\n",
      " \n",
      "제76조 ①대통령은 내우ㆍ외환ㆍ천재ㆍ지변 또는 중대한 재정ㆍ경제상의 위기에 있어서 국가의 안전보장 또는 공공의\n"
     ]
    }
   ],
   "source": [
    "from langchain.document_loaders import TextLoader\n",
    "from langchain_text_splitters import RecursiveCharacterTextSplitter\n",
    "from langchain_huggingface import HuggingFaceEmbeddings\n",
    "\n",
    "loader = PyPDFLoader(r\"../data/대한민국헌법(헌법)(제00010호)(19880225).pdf\")\n",
    "pages = loader.load_and_split()\n",
    "\n",
    "text_splitter = RecursiveCharacterTextSplitter(chunk_size=500, chunk_overlap=0)\n",
    "docs = text_splitter.split_documents(pages)\n",
    "\n",
    "\n",
    "#HuggingfaceEmbedding 함수로 Open source 임베딩 모델 로드\n",
    "model_name = \"jhgan/ko-sroberta-multitask\"\n",
    "ko_embedding= HuggingFaceEmbeddings(\n",
    "    model_name=model_name\n",
    ")\n",
    "\n",
    "#save to disk\n",
    "db2 = Chroma.from_documents(docs, ko_embedding, persist_directory=\"./chroma_db\")\n",
    "\n",
    "# load from disk\n",
    "db3 = Chroma(persist_directory=\"./chroma_db\", embedding_function=ko_embedding)\n",
    "\n",
    "query = \"대통령의 임기는?\"\n",
    "result = db3.similarity_search(query)\n",
    "print(result)\n",
    "print(result[0].page_content)"
   ]
  },
  {
   "cell_type": "code",
   "execution_count": 22,
   "id": "fd3016a5",
   "metadata": {},
   "outputs": [
    {
     "data": {
      "text/plain": [
       "1749731864455559000"
      ]
     },
     "execution_count": 22,
     "metadata": {},
     "output_type": "execute_result"
    }
   ],
   "source": [
    "import chromadb\n",
    "#collection을 저장할 경로 지정\n",
    "client = chromadb.PersistentClient(path=\"collection_example\")\n",
    "#client가 잘 연결되어 있는지 확인\n",
    "client.heartbeat()"
   ]
  },
  {
   "cell_type": "code",
   "execution_count": 23,
   "id": "bf53d46e",
   "metadata": {},
   "outputs": [
    {
     "data": {
      "application/vnd.jupyter.widget-view+json": {
       "model_id": "925483db8140492ab8e87c79809c493c",
       "version_major": 2,
       "version_minor": 0
      },
      "text/plain": [
       "modules.json:   0%|          | 0.00/229 [00:00<?, ?B/s]"
      ]
     },
     "metadata": {},
     "output_type": "display_data"
    },
    {
     "data": {
      "application/vnd.jupyter.widget-view+json": {
       "model_id": "4a3392ad12ad41e18f7bc88cb7641ba3",
       "version_major": 2,
       "version_minor": 0
      },
      "text/plain": [
       "config_sentence_transformers.json:   0%|          | 0.00/123 [00:00<?, ?B/s]"
      ]
     },
     "metadata": {},
     "output_type": "display_data"
    },
    {
     "data": {
      "application/vnd.jupyter.widget-view+json": {
       "model_id": "b76c775f7d9449cbaed84e30aaf0853d",
       "version_major": 2,
       "version_minor": 0
      },
      "text/plain": [
       "README.md:   0%|          | 0.00/4.46k [00:00<?, ?B/s]"
      ]
     },
     "metadata": {},
     "output_type": "display_data"
    },
    {
     "data": {
      "application/vnd.jupyter.widget-view+json": {
       "model_id": "806bc1697622418f91315bbebc2554b6",
       "version_major": 2,
       "version_minor": 0
      },
      "text/plain": [
       "sentence_bert_config.json:   0%|          | 0.00/53.0 [00:00<?, ?B/s]"
      ]
     },
     "metadata": {},
     "output_type": "display_data"
    },
    {
     "data": {
      "application/vnd.jupyter.widget-view+json": {
       "model_id": "1a73a12f896641a8a41a94c6b954839b",
       "version_major": 2,
       "version_minor": 0
      },
      "text/plain": [
       "config.json:   0%|          | 0.00/620 [00:00<?, ?B/s]"
      ]
     },
     "metadata": {},
     "output_type": "display_data"
    },
    {
     "data": {
      "application/vnd.jupyter.widget-view+json": {
       "model_id": "a740466828064eb4afdd3b620847c4ce",
       "version_major": 2,
       "version_minor": 0
      },
      "text/plain": [
       "pytorch_model.bin:   0%|          | 0.00/443M [00:00<?, ?B/s]"
      ]
     },
     "metadata": {},
     "output_type": "display_data"
    },
    {
     "data": {
      "application/vnd.jupyter.widget-view+json": {
       "model_id": "9bb2bdf741094eacb2789f5e6d611031",
       "version_major": 2,
       "version_minor": 0
      },
      "text/plain": [
       "tokenizer_config.json:   0%|          | 0.00/538 [00:00<?, ?B/s]"
      ]
     },
     "metadata": {},
     "output_type": "display_data"
    },
    {
     "data": {
      "application/vnd.jupyter.widget-view+json": {
       "model_id": "e220b5447252439bb8629f714fec2d28",
       "version_major": 2,
       "version_minor": 0
      },
      "text/plain": [
       "vocab.txt:   0%|          | 0.00/248k [00:00<?, ?B/s]"
      ]
     },
     "metadata": {},
     "output_type": "display_data"
    },
    {
     "data": {
      "application/vnd.jupyter.widget-view+json": {
       "model_id": "ba5a67a73c42458d89133339f73c0e17",
       "version_major": 2,
       "version_minor": 0
      },
      "text/plain": [
       "model.safetensors:   0%|          | 0.00/442M [00:00<?, ?B/s]"
      ]
     },
     "metadata": {},
     "output_type": "display_data"
    },
    {
     "data": {
      "application/vnd.jupyter.widget-view+json": {
       "model_id": "cac4ad93cfb148d1916ed29d2f20e22f",
       "version_major": 2,
       "version_minor": 0
      },
      "text/plain": [
       "tokenizer.json:   0%|          | 0.00/495k [00:00<?, ?B/s]"
      ]
     },
     "metadata": {},
     "output_type": "display_data"
    },
    {
     "data": {
      "application/vnd.jupyter.widget-view+json": {
       "model_id": "9490ca97b8ca42e99af5b9ca505bca6e",
       "version_major": 2,
       "version_minor": 0
      },
      "text/plain": [
       "special_tokens_map.json:   0%|          | 0.00/112 [00:00<?, ?B/s]"
      ]
     },
     "metadata": {},
     "output_type": "display_data"
    },
    {
     "data": {
      "application/vnd.jupyter.widget-view+json": {
       "model_id": "6e941433760648f7a8844ae52c548b9f",
       "version_major": 2,
       "version_minor": 0
      },
      "text/plain": [
       "config.json:   0%|          | 0.00/190 [00:00<?, ?B/s]"
      ]
     },
     "metadata": {},
     "output_type": "display_data"
    }
   ],
   "source": [
    "from chromadb.utils import embedding_functions\n",
    "from chromadb.utils.embedding_functions import OpenAIEmbeddingFunction\n",
    "#OpenAI 임베딩 모델 활용\n",
    "embedding_function = openai_embedding=OpenAIEmbeddings(model = 'text-embedding-3-small')\n",
    "#Huggingface 오픈소스 임베딩 모델 활용\n",
    "embedding_function = embedding_functions.SentenceTransformerEmbeddingFunction(model_name=\"jhgan/ko-sbert-nli\")\n",
    "\n",
    "collection = client.create_collection(name=\"korean_law\", embedding_function=embedding_function)"
   ]
  },
  {
   "cell_type": "code",
   "execution_count": 24,
   "id": "5303bc1e",
   "metadata": {},
   "outputs": [],
   "source": [
    "from langchain.text_splitter import RecursiveCharacterTextSplitter\n",
    "from langchain.vectorstores import Chroma\n",
    "from langchain.document_loaders import PyPDFLoader\n",
    "\n",
    "\n",
    "# load the document and split it into chunks\n",
    "loader = PyPDFLoader(r\"../data/대한민국헌법(헌법)(제00010호)(19880225).pdf\")\n",
    "pages = loader.load_and_split()\n",
    "\n",
    "# split it into chunks\n",
    "text_splitter = RecursiveCharacterTextSplitter(chunk_size=500, chunk_overlap=0)\n",
    "docs = text_splitter.split_documents(pages)\n",
    "\n",
    "collection.add(\n",
    "    ids = [str(i) for i in range(len(docs))],\n",
    "    documents=[i.page_content for i in docs],\n",
    "    metadatas=[i.metadata for i in docs]\n",
    ")"
   ]
  },
  {
   "cell_type": "code",
   "execution_count": 25,
   "id": "573694f6",
   "metadata": {},
   "outputs": [
    {
     "data": {
      "text/plain": [
       "Collection(name=korean_law)"
      ]
     },
     "execution_count": 25,
     "metadata": {},
     "output_type": "execute_result"
    }
   ],
   "source": [
    "#name에 collection 이름, embedding_function은 collection 저장 시 지정한 임베딩 모델 지정\n",
    "collection = client.get_collection(name=\"korean_law\", embedding_function=embedding_function)\n",
    "collection"
   ]
  },
  {
   "cell_type": "code",
   "execution_count": 26,
   "id": "104f1a32",
   "metadata": {},
   "outputs": [
    {
     "data": {
      "text/plain": [
       "{'ids': [['7', '5', '4']],\n",
       " 'embeddings': None,\n",
       " 'documents': [['제15조 모든 국민은 직업선택의 자유를 가진다.\\n \\n제16조 모든 국민은 주거의 자유를 침해받지 아니한다. 주거에 대한 압수나 수색을 할 때에는 검사의 신청에 의하여 법\\n관이 발부한 영장을 제시하여야 한다.\\n \\n제17조 모든 국민은 사생활의 비밀과 자유를 침해받지 아니한다.\\n \\n제18조 모든 국민은 통신의 비밀을 침해받지 아니한다.\\n \\n제19조 모든 국민은 양심의 자유를 가진다.\\n \\n제20조 ①모든 국민은 종교의 자유를 가진다.\\n②국교는 인정되지 아니하며, 종교와 정치는 분리된다.',\n",
       "   '제12조 ①모든 국민은 신체의 자유를 가진다. 누구든지 법률에 의하지 아니하고는 체포ㆍ구속ㆍ압수ㆍ수색 또는 심문\\n을 받지 아니하며, 법률과 적법한 절차에 의하지 아니하고는 처벌ㆍ보안처분 또는 강제노역을 받지 아니한다.\\n②모든 국민은 고문을 받지 아니하며, 형사상 자기에게 불리한 진술을 강요당하지 아니한다.\\n③체포ㆍ구속ㆍ압수 또는 수색을 할 때에는 적법한 절차에 따라 검사의 신청에 의하여 법관이 발부한 영장을 제시\\n하여야 한다. 다만, 현행범인인 경우와 장기 3년 이상의 형에 해당하는 죄를 범하고 도피 또는 증거인멸의 염려가\\n있을 때에는 사후에 영장을 청구할 수 있다.\\n④누구든지 체포 또는 구속을 당한 때에는 즉시 변호인의 조력을 받을 권리를 가진다. 다만, 형사피고인이 스스로\\n변호인을 구할 수 없을 때에는 법률이 정하는 바에 의하여 국가가 변호인을 붙인다.\\n⑤누구든지 체포 또는 구속의 이유와 변호인의 조력을 받을 권리가 있음을 고지받지 아니하고는 체포 또는 구속을',\n",
       "   '법제처                                                            2                                                       국가법령정보센터\\n대한민국헌법\\n \\n       제2장 국민의 권리와 의무\\n \\n제10조 모든 국민은 인간으로서의 존엄과 가치를 가지며, 행복을 추구할 권리를 가진다. 국가는 개인이 가지는 불가침\\n의 기본적 인권을 확인하고 이를 보장할 의무를 진다.\\n \\n제11조 ①모든 국민은 법 앞에 평등하다. 누구든지 성별ㆍ종교 또는 사회적 신분에 의하여 정치적ㆍ경제적ㆍ사회적ㆍ\\n문화적 생활의 모든 영역에 있어서 차별을 받지 아니한다.\\n②사회적 특수계급의 제도는 인정되지 아니하며, 어떠한 형태로도 이를 창설할 수 없다.\\n③훈장등의 영전은 이를 받은 자에게만 효력이 있고, 어떠한 특권도 이에 따르지 아니한다.']],\n",
       " 'uris': None,\n",
       " 'included': ['metadatas', 'documents', 'distances'],\n",
       " 'data': None,\n",
       " 'metadatas': [[{'moddate': '2024-04-01T21:26:24+09:00',\n",
       "    'creator': 'PyPDF',\n",
       "    'source': '../data/대한민국헌법(헌법)(제00010호)(19880225).pdf',\n",
       "    'page': 1,\n",
       "    'creationdate': '2024-04-01T21:26:24+09:00',\n",
       "    'page_label': '2',\n",
       "    'producer': 'iText 2.1.7 by 1T3XT',\n",
       "    'total_pages': 14},\n",
       "   {'moddate': '2024-04-01T21:26:24+09:00',\n",
       "    'total_pages': 14,\n",
       "    'producer': 'iText 2.1.7 by 1T3XT',\n",
       "    'creator': 'PyPDF',\n",
       "    'source': '../data/대한민국헌법(헌법)(제00010호)(19880225).pdf',\n",
       "    'page_label': '2',\n",
       "    'page': 1,\n",
       "    'creationdate': '2024-04-01T21:26:24+09:00'},\n",
       "   {'creator': 'PyPDF',\n",
       "    'total_pages': 14,\n",
       "    'producer': 'iText 2.1.7 by 1T3XT',\n",
       "    'source': '../data/대한민국헌법(헌법)(제00010호)(19880225).pdf',\n",
       "    'moddate': '2024-04-01T21:26:24+09:00',\n",
       "    'page_label': '2',\n",
       "    'creationdate': '2024-04-01T21:26:24+09:00',\n",
       "    'page': 1}]],\n",
       " 'distances': [[395.4745178222656, 492.2808837890625, 501.51849365234375]]}"
      ]
     },
     "execution_count": 26,
     "metadata": {},
     "output_type": "execute_result"
    }
   ],
   "source": [
    "#1페이지에서 직업 선택의 자유와 유사한 청크 3개 검색\n",
    "collection.query(\n",
    "    query_texts=[\"직업 선택의 자유\"],\n",
    "    n_results=3,\n",
    "    where={\"page\": 1},\n",
    ")"
   ]
  },
  {
   "cell_type": "code",
   "execution_count": 27,
   "id": "39aa0ea3",
   "metadata": {},
   "outputs": [
    {
     "data": {
      "text/plain": [
       "{'ids': [['47', '45', '24']],\n",
       " 'embeddings': None,\n",
       " 'documents': [['법제처                                                            13                                                       국가법령정보센터\\n대한민국헌법\\n⑤국가는 농ㆍ어민과 중소기업의 자조조직을 육성하여야 하며, 그 자율적 활동과 발전을 보장한다.\\n \\n제124조 국가는 건전한 소비행위를 계도하고 생산품의 품질향상을 촉구하기 위한 소비자보호운동을 법률이 정하는 바\\n에 의하여 보장한다.\\n \\n제125조 국가는 대외무역을 육성하며, 이를 규제ㆍ조정할 수 있다.\\n \\n제126조 국방상 또는 국민경제상 긴절한 필요로 인하여 법률이 정하는 경우를 제외하고는, 사영기업을 국유 또는 공유\\n로 이전하거나 그 경영을 통제 또는 관리할 수 없다.\\n \\n제127조 ①국가는 과학기술의 혁신과 정보 및 인력의 개발을 통하여 국민경제의 발전에 노력하여야 한다.\\n②국가는 국가표준제도를 확립한다.',\n",
       "   '지하며, 경제주체간의 조화를 통한 경제의 민주화를 위하여 경제에 관한 규제와 조정을 할 수 있다.\\n \\n제120조 ①광물 기타 중요한 지하자원ㆍ수산자원ㆍ수력과 경제상 이용할 수 있는 자연력은 법률이 정하는 바에 의하\\n여 일정한 기간 그 채취ㆍ개발 또는 이용을 특허할 수 있다.\\n②국토와 자원은 국가의 보호를 받으며, 국가는 그 균형있는 개발과 이용을 위하여 필요한 계획을 수립한다.\\n \\n제121조 ①국가는 농지에 관하여 경자유전의 원칙이 달성될 수 있도록 노력하여야 하며, 농지의 소작제도는 금지된다.\\n②농업생산성의 제고와 농지의 합리적인 이용을 위하거나 불가피한 사정으로 발생하는 농지의 임대차와 위탁경영\\n은 법률이 정하는 바에 의하여 인정된다.\\n \\n제122조 국가는 국민 모두의 생산 및 생활의 기반이 되는 국토의 효율적이고 균형있는 이용ㆍ개발과 보전을 위하여 법\\n률이 정하는 바에 의하여 그에 관한 필요한 제한과 의무를 과할 수 있다.',\n",
       "   '법제처                                                            7                                                       국가법령정보센터\\n대한민국헌법\\n있어야 한다.\\n③탄핵소추의 의결을 받은 자는 탄핵심판이 있을 때까지 그 권한행사가 정지된다.\\n④탄핵결정은 공직으로부터 파면함에 그친다. 그러나, 이에 의하여 민사상이나 형사상의 책임이 면제되지는 아니한\\n다.\\n \\n       제4장 정부\\n         제1절 대통령\\n \\n제66조 ①대통령은 국가의 원수이며, 외국에 대하여 국가를 대표한다.\\n②대통령은 국가의 독립ㆍ영토의 보전ㆍ국가의 계속성과 헌법을 수호할 책무를 진다.\\n③대통령은 조국의 평화적 통일을 위한 성실한 의무를 진다.\\n④행정권은 대통령을 수반으로 하는 정부에 속한다.\\n \\n제67조 ①대통령은 국민의 보통ㆍ평등ㆍ직접ㆍ비밀선거에 의하여 선출한다.']],\n",
       " 'uris': None,\n",
       " 'included': ['metadatas', 'documents', 'distances'],\n",
       " 'data': None,\n",
       " 'metadatas': [[{'creator': 'PyPDF',\n",
       "    'producer': 'iText 2.1.7 by 1T3XT',\n",
       "    'creationdate': '2024-04-01T21:26:24+09:00',\n",
       "    'moddate': '2024-04-01T21:26:24+09:00',\n",
       "    'page_label': '13',\n",
       "    'total_pages': 14,\n",
       "    'page': 12,\n",
       "    'source': '../data/대한민국헌법(헌법)(제00010호)(19880225).pdf'},\n",
       "   {'moddate': '2024-04-01T21:26:24+09:00',\n",
       "    'creator': 'PyPDF',\n",
       "    'page_label': '12',\n",
       "    'page': 11,\n",
       "    'source': '../data/대한민국헌법(헌법)(제00010호)(19880225).pdf',\n",
       "    'total_pages': 14,\n",
       "    'producer': 'iText 2.1.7 by 1T3XT',\n",
       "    'creationdate': '2024-04-01T21:26:24+09:00'},\n",
       "   {'producer': 'iText 2.1.7 by 1T3XT',\n",
       "    'source': '../data/대한민국헌법(헌법)(제00010호)(19880225).pdf',\n",
       "    'creationdate': '2024-04-01T21:26:24+09:00',\n",
       "    'page_label': '7',\n",
       "    'total_pages': 14,\n",
       "    'page': 6,\n",
       "    'moddate': '2024-04-01T21:26:24+09:00',\n",
       "    'creator': 'PyPDF'}]],\n",
       " 'distances': [[515.13232421875, 546.3651123046875, 556.7550659179688]]}"
      ]
     },
     "execution_count": 27,
     "metadata": {},
     "output_type": "execute_result"
    }
   ],
   "source": [
    "#5페이지 이후의 청크 중에서 직업 선택의 자유와 관련한 문서 3개 검색\n",
    "# $eq - 일치 (string, int, float)\n",
    "# $ne - 불일치 (string, int, float)\n",
    "# $gt - 초과 (int, float)\n",
    "# $gte - 이상 (int, float)\n",
    "# $lt - 미만 (int, float)\n",
    "# $lte - 이하 (int, float)\n",
    "collection.query(\n",
    "    query_texts=[\"직업 선택의 자유\"],\n",
    "    n_results=3,\n",
    "    where={\"page\": {\"$gte\": 5}}\n",
    ")"
   ]
  },
  {
   "cell_type": "code",
   "execution_count": 28,
   "id": "659c9f99",
   "metadata": {},
   "outputs": [
    {
     "data": {
      "text/plain": [
       "{'ids': [['7']],\n",
       " 'embeddings': None,\n",
       " 'documents': [['제15조 모든 국민은 직업선택의 자유를 가진다.\\n \\n제16조 모든 국민은 주거의 자유를 침해받지 아니한다. 주거에 대한 압수나 수색을 할 때에는 검사의 신청에 의하여 법\\n관이 발부한 영장을 제시하여야 한다.\\n \\n제17조 모든 국민은 사생활의 비밀과 자유를 침해받지 아니한다.\\n \\n제18조 모든 국민은 통신의 비밀을 침해받지 아니한다.\\n \\n제19조 모든 국민은 양심의 자유를 가진다.\\n \\n제20조 ①모든 국민은 종교의 자유를 가진다.\\n②국교는 인정되지 아니하며, 종교와 정치는 분리된다.']],\n",
       " 'uris': None,\n",
       " 'included': ['metadatas', 'documents', 'distances'],\n",
       " 'data': None,\n",
       " 'metadatas': [[{'moddate': '2024-04-01T21:26:24+09:00',\n",
       "    'creator': 'PyPDF',\n",
       "    'source': '../data/대한민국헌법(헌법)(제00010호)(19880225).pdf',\n",
       "    'page': 1,\n",
       "    'creationdate': '2024-04-01T21:26:24+09:00',\n",
       "    'page_label': '2',\n",
       "    'total_pages': 14,\n",
       "    'producer': 'iText 2.1.7 by 1T3XT'}]],\n",
       " 'distances': [[395.4745178222656]]}"
      ]
     },
     "execution_count": 28,
     "metadata": {},
     "output_type": "execute_result"
    }
   ],
   "source": [
    "collection.query(\n",
    "    query_texts=[\"직업 선택의 자유\"],\n",
    "    n_results=3,\n",
    "    where={\"page\": 1},\n",
    "    where_document={\"$contains\": \"직업\"}\n",
    ")"
   ]
  }
 ],
 "metadata": {
  "kernelspec": {
   "display_name": ".venv",
   "language": "python",
   "name": "python3"
  },
  "language_info": {
   "codemirror_mode": {
    "name": "ipython",
    "version": 3
   },
   "file_extension": ".py",
   "mimetype": "text/x-python",
   "name": "python",
   "nbconvert_exporter": "python",
   "pygments_lexer": "ipython3",
   "version": "3.13.3"
  }
 },
 "nbformat": 4,
 "nbformat_minor": 5
}
