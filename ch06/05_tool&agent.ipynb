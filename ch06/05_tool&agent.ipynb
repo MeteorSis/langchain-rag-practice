{
 "cells": [
  {
   "cell_type": "code",
   "execution_count": 1,
   "id": "fab90775",
   "metadata": {},
   "outputs": [
    {
     "data": {
      "text/plain": [
       "True"
      ]
     },
     "execution_count": 1,
     "metadata": {},
     "output_type": "execute_result"
    }
   ],
   "source": [
    "from dotenv import load_dotenv\n",
    "load_dotenv(\"../.envrc\")"
   ]
  },
  {
   "cell_type": "code",
   "execution_count": 4,
   "id": "ca8746a9",
   "metadata": {},
   "outputs": [],
   "source": [
    "from langchain.document_loaders import PyPDFLoader\n",
    "from langchain.vectorstores import FAISS\n",
    "from langchain_openai import OpenAIEmbeddings\n",
    "from langchain_text_splitters import RecursiveCharacterTextSplitter\n",
    "\n",
    "loader = PyPDFLoader(\"../data/★육아휴직제도 사용안내서_배포.pdf\")\n",
    "docs = loader.load()\n",
    "documents = RecursiveCharacterTextSplitter(\n",
    "    chunk_size=1000, chunk_overlap=200).split_documents(docs)\n",
    "vector = FAISS.from_documents(documents, OpenAIEmbeddings())\n",
    "retriever = vector.as_retriever()"
   ]
  },
  {
   "cell_type": "code",
   "execution_count": 6,
   "id": "926b43c5",
   "metadata": {},
   "outputs": [],
   "source": [
    "from langchain.tools.retriever import create_retriever_tool\n",
    "#벡터 DB 검색을 위한 검색 도구 설정\n",
    "retriever_tool = create_retriever_tool(\n",
    "    retriever,\n",
    "    \"parental_leave\",\n",
    "    \"육아휴직과 관련한 정보를 검색합니다. 육아 휴직 관련한 질문이 입력되면 이 도구를 사용합니다.\",\n",
    ")"
   ]
  },
  {
   "cell_type": "code",
   "execution_count": null,
   "id": "60e4a92b",
   "metadata": {},
   "outputs": [
    {
     "name": "stdout",
     "output_type": "stream",
     "text": [
      "\n",
      "\n",
      "\u001b[1m> Entering new AgentExecutor chain...\u001b[0m\n",
      "\u001b[32;1m\u001b[1;3m\n",
      "Invoking: `parental_leave` with `{'query': '육아휴직 사용 방법'}`\n",
      "\n",
      "\n",
      "\u001b[0m\u001b[36;1m\u001b[1;3m육아휴직중\n",
      "일하는 엄마, 아빠를 위한 \n",
      "육아휴직제도\n",
      "사용안내서\n",
      "육아휴직은 임신 중인 여성 근로자나, \n",
      "8세 또는 초등학교 2학년 이하 자녀를 가진 근로자라면 \n",
      "누구나 사용할 수 있는 당연한 권리입니다.\n",
      "\n",
      "일하는 엄마, 아빠를 위한 \n",
      "육아휴직제도\n",
      "사용안내서\n",
      "육아휴직 등으로 불리한 처우를 받았다면 \n",
      "전국 지방고용노동관서에서 운영 중인 \n",
      "‘모성보호 신고센터’에 신고해주세요!\n",
      "\n",
      "육아휴직제도는?\n",
      "임신 중인 여성 근로자나, 8세 또는 초등학교 2학년 이하 자녀를 가진 근로자가 \n",
      "자녀 양육을 위해 최대 1년간 육아휴직을 사용할 수 있는 제도입니다. \n",
      "육아휴직급여는?\n",
      "육아휴직을 사용한 근로자에게 1년간 통상임금의 80%를 지원합니다.\n",
      " * 월 상한액 150만 원, 하한액 70만 원 \n",
      "‘3+3 부모육아휴직제’도 있어요\n",
      "생후 12개월 이내 자녀 돌봄을 위해 부모 모두 육아휴직을 \n",
      "사용하는 경우 육아휴직급여 중 첫 3개월은 부모에게  \n",
      "각각 통상임금의 100%를 지원합니다.\n",
      "  1개월 상한액 200만 원 \n",
      " 2개월 상한액 250만 원  \n",
      " 3개월 상한액 300만 원  \n",
      "통상임금이란?\n",
      "근로자에게 정기적이고 일률적으로 소정근로 또는 총 근로에 대하여 지급하기로 정한 \n",
      "금액을 의미합니다.(근로기준법 시행령 제6조제1항)\n",
      "  통상임금은 초과근로수당 산정 등을 위한 기초임금으로서, 정기적·일률적·고정적\n",
      "으로 지급되는 것인지를 기준으로 판단합니다.\n",
      " Tip\n",
      "\n",
      "육아휴직 관련 자주 묻는 질문들\n",
      "1   육아휴직을 신청해도 사업주가 허용해주지 않는데, 어떻게 하나요？\n",
      "  육아휴직은 근로자의 권리이므로 요건을 갖춰 회사에 신청하면 \n",
      "사업주는 반드시 허용해야 합니다.\n",
      "   사업주가 육아휴직을 허용하지 않는 경우, 법률에 따라 500만 원 \n",
      "이하의 벌금이 부과됩니다.(관련 신고절차는 Ⅳ~Ⅴ. 참조)\n",
      "       * (예외) 근로기간이 6개월 미만인 경우는 제외\n",
      "2   육아휴직 신청에 대해 회사에서 아무런 답변이 없는데 어떻게 하나요?\n",
      "  근로자가 적법하게 육아휴직을 신청했는데 사업주가 허용 여부를 \n",
      "알려주지 않으면, 육아휴직을 묵시적으로 승인한 것으로 봅니다.\n",
      " 사업주 승인 없이 육아휴직을 개시한 경우 [여성고용정책과－4044, 2017.10.30.] \n",
      "  질의  근로기준법에 근거하여 근로자가 신청한 유산·사산휴가 또는 출산전후휴가를 사용자가 \n",
      "거부하였음에도 근로자가 휴가 개시 예정일에 휴가를 개시한 경우 이를 정당한 휴가 사용으로 \n",
      "볼 수 있는지 여부\n",
      "   회시  \n",
      " 1) 근로자 청구에 대해 사업주의 명시적 의사표시가 없는 경우\n",
      "    관계법령상 요건을 갖춘 근로자가 유산·사산휴가 또는 육아휴직을 신청하면, 허용 제외사유에 \n",
      "해당하는 등 특별한 사정이 없는 한 사업주는 승낙할 의무가 있으며, 별도의 시기 변경권도 \n",
      "인정되지 아니함. 따라서, 사업주가 근로자의 유산·사산휴가 또는 육아휴직 청구 사실을 알았음\n",
      "에도 특별한 사정없이 별도의 의사표시를 하지 않았다면 묵시적으로 승인한 것으로 봄이 타당\n",
      "하다고 할 것임.\n",
      "2) 근로자의 청구에 대해 사업주가 거부 의사표시를 하는 경우\n",
      "    유산·사산휴가 또는 육아휴직의 요건을 갖춘 근로자의 청구에 대하여 사업주가 정당한 이유 \n",
      "없이 그 청구를 거부하였다면 해당 휴가 및 휴직이 바로 개시된다고 볼 수 없음. 그러나 이 \n",
      "경우 사업주는 정당한 이유 없이 유산·사산휴가 또는 육아휴직을 미부여한 것에 대하여 관련 \n",
      "법률에 따라 처벌을 받을 수 있음.\n",
      "관련 질의회시\u001b[0m\u001b[32;1m\u001b[1;3m육아휴직은 임신 중인 여성 근로자나 8세 이하 또는 초등학교 2학년 이하 자녀를 가진 근로자가 자녀 양육을 위해 최대 1년간 사용할 수 있는 제도입니다. 육아휴직을 신청할 수 있는 방법은 다음과 같습니다:\n",
      "\n",
      "1. **신청 자격**: 임신 중인 여성 근로자 또는 8세 이하 또는 초등학교 2학년 이하 자녀를 가진 근로자라면 누구나 육아휴직을 신청할 수 있습니다.\n",
      "\n",
      "2. **신청 방법**: 육아휴직을 신청하려면 회사에 정식으로 신청서를 제출해야 합니다. 사업주는 근로자가 요건을 갖추어 신청한 경우 반드시 허용해야 하며, 허용하지 않을 경우 법적으로 처벌을 받을 수 있습니다.\n",
      "\n",
      "3. **육아휴직 급여**: 육아휴직을 사용하는 근로자에게는 통상임금의 80%가 지원되며, 월 상한액은 150만 원, 하한액은 70만 원입니다. 또한, '3+3 부모육아휴직제'를 통해 부모가 함께 육아휴직을 사용할 경우 첫 3개월 동안은 각각 통상임금의 100%를 지원받을 수 있습니다.\n",
      "\n",
      "4. **사업주의 응답**: 만약 회사에서 육아휴직 신청에 대해 아무런 답변이 없다면, 이는 묵시적으로 승인된 것으로 간주됩니다. 사업주가 정당한 이유 없이 육아휴직을 거부할 경우 법적 처벌을 받을 수 있습니다.\n",
      "\n",
      "육아휴직은 근로자의 권리이므로, 필요한 경우 관련 기관에 신고할 수 있습니다.\u001b[0m\n",
      "\n",
      "\u001b[1m> Finished chain.\u001b[0m\n"
     ]
    },
    {
     "data": {
      "text/plain": [
       "{'input': '육아휴직은 어떻게 사용할 수 있어?',\n",
       " 'output': \"육아휴직은 임신 중인 여성 근로자나 8세 이하 또는 초등학교 2학년 이하 자녀를 가진 근로자가 자녀 양육을 위해 최대 1년간 사용할 수 있는 제도입니다. 육아휴직을 신청할 수 있는 방법은 다음과 같습니다:\\n\\n1. **신청 자격**: 임신 중인 여성 근로자 또는 8세 이하 또는 초등학교 2학년 이하 자녀를 가진 근로자라면 누구나 육아휴직을 신청할 수 있습니다.\\n\\n2. **신청 방법**: 육아휴직을 신청하려면 회사에 정식으로 신청서를 제출해야 합니다. 사업주는 근로자가 요건을 갖추어 신청한 경우 반드시 허용해야 하며, 허용하지 않을 경우 법적으로 처벌을 받을 수 있습니다.\\n\\n3. **육아휴직 급여**: 육아휴직을 사용하는 근로자에게는 통상임금의 80%가 지원되며, 월 상한액은 150만 원, 하한액은 70만 원입니다. 또한, '3+3 부모육아휴직제'를 통해 부모가 함께 육아휴직을 사용할 경우 첫 3개월 동안은 각각 통상임금의 100%를 지원받을 수 있습니다.\\n\\n4. **사업주의 응답**: 만약 회사에서 육아휴직 신청에 대해 아무런 답변이 없다면, 이는 묵시적으로 승인된 것으로 간주됩니다. 사업주가 정당한 이유 없이 육아휴직을 거부할 경우 법적 처벌을 받을 수 있습니다.\\n\\n육아휴직은 근로자의 권리이므로, 필요한 경우 관련 기관에 신고할 수 있습니다.\"}"
      ]
     },
     "execution_count": 7,
     "metadata": {},
     "output_type": "execute_result"
    }
   ],
   "source": [
    "from langchain_openai import ChatOpenAI\n",
    "from langchain import hub\n",
    "from langchain.agents import create_openai_tools_agent\n",
    "from langchain.agents import AgentExecutor\n",
    "\n",
    "tools = [retriever_tool] # 검색 도구 API Key 발급받기 싫어서 추가 안함. 원하는 tool을 추가할 수 있음.\n",
    "llm = ChatOpenAI(model=\"gpt-4o-mini\", temperature=0)\n",
    "prompt = hub.pull(\"hwchase17/openai-functions-agent\")\n",
    "agent = create_openai_tools_agent(llm, tools, prompt)\n",
    "agent_executor = AgentExecutor(agent=agent, tools=tools, verbose=True)\n",
    "agent_executor.invoke({\"input\": \"육아휴직은 어떻게 사용할 수 있어?\"})"
   ]
  },
  {
   "cell_type": "code",
   "execution_count": 8,
   "id": "5bbc1100",
   "metadata": {},
   "outputs": [
    {
     "name": "stdout",
     "output_type": "stream",
     "text": [
      "\n",
      "\n",
      "\u001b[1m> Entering new AgentExecutor chain...\u001b[0m\n",
      "\u001b[32;1m\u001b[1;3m현재 대한민국의 인구는 약 5,100만 명입니다. 하지만 인구는 지속적으로 변동하므로, 정확한 수치는 통계청이나 관련 기관의 최신 자료를 참고하는 것이 좋습니다.\u001b[0m\n",
      "\n",
      "\u001b[1m> Finished chain.\u001b[0m\n"
     ]
    },
    {
     "data": {
      "text/plain": [
       "{'input': '현재 대한민국의 인구는 몇명이야?',\n",
       " 'output': '현재 대한민국의 인구는 약 5,100만 명입니다. 하지만 인구는 지속적으로 변동하므로, 정확한 수치는 통계청이나 관련 기관의 최신 자료를 참고하는 것이 좋습니다.'}"
      ]
     },
     "execution_count": 8,
     "metadata": {},
     "output_type": "execute_result"
    }
   ],
   "source": [
    "agent_executor.invoke({\"input\": \"현재 대한민국의 인구는 몇명이야?\"})"
   ]
  }
 ],
 "metadata": {
  "kernelspec": {
   "display_name": ".venv",
   "language": "python",
   "name": "python3"
  },
  "language_info": {
   "codemirror_mode": {
    "name": "ipython",
    "version": 3
   },
   "file_extension": ".py",
   "mimetype": "text/x-python",
   "name": "python",
   "nbconvert_exporter": "python",
   "pygments_lexer": "ipython3",
   "version": "3.13.3"
  }
 },
 "nbformat": 4,
 "nbformat_minor": 5
}
