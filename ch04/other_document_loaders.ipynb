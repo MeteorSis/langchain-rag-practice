{
 "cells": [
  {
   "cell_type": "code",
   "execution_count": 29,
   "id": "c5e5865f",
   "metadata": {},
   "outputs": [
    {
     "name": "stdout",
     "output_type": "stream",
     "text": [
      "2011.09.01\t'갤럭시 노트' 공개\n",
      "\n",
      "\t2012.04.01\tLCD사업부 분사(삼성디스플레이㈜ 설립)\n",
      "\n",
      "\t2013.06.26\t'갤럭시 S4 LTE-A' LTE-A 스마트폰 출시\n",
      "\n",
      "\t2013.08.06\t'3D V-NAND' 3차원 수직구조 낸드플래시 메모리 양산\n",
      "\n",
      "\t2013.09.24\t'아이소셀(ISOCELL)' 차세대 CMOS 이미지센서 개발\n",
      "\n",
      "\t2017.03.05\t'QLED TV' 진화된 퀀텀닷 기술 적용 TV 출시\n",
      "\n",
      "\t2017.03.10\t전장 기업 Harman International Industries, Inc.사(100%) 지분 인수 2017.07.04\t세계 최대 규모 평택 반도체 라인 가동\n",
      "\n",
      "\t2017.11.01\t프린팅솔루션 사업 매각\n",
      "\n",
      "\t2018.08.30\t'QLED 8K TV' 퀀텀닷 기술과 8K 해상도 적용 TV 출시\n",
      "\n",
      "\t2018.11.07\t'폴더블 디스플레이' 삼성 개발자 컨퍼런스에서 공개\n",
      "\n",
      "\t2019.04.03\t'갤럭시 S10 5G' 5G 스마트폰 출시\n",
      "\n",
      "\t2019.04.24\t'반도체 비전 2030' 발표\n",
      "\n",
      "(2030년까지 시스템반도체 133조원 투자, 1만 5천명 채용)\n",
      "\n",
      "2019.09.04\n",
      "\n",
      "'엑시노스 980' 5G 모바일 프로세서 공개\n",
      "\n",
      "2020.01.29\n",
      "\n",
      "'그랑데 AI' 인공지능 기반 세탁기ㆍ건조기 출시\n",
      "\n",
      "2020.02.04\n",
      "\n",
      "AIㆍ차세대 슈퍼컴퓨터용 초고속 DRAM 출시\n",
      "\n",
      "2020.02.11\n",
      "\n",
      "'갤럭시 Z 플립' 새로운 폼팩터 폴더블폰 공개\n",
      "\n",
      "2020.08.30\n",
      "\n",
      "세계 최대 규모 평택 반도체 2라인 가동\n",
      "\n",
      "\n",
      "\n",
      "(회사의 본점소재지 및 그 변경)\n",
      "\n",
      "\n",
      "\n",
      "당사의 본점소재지는 경기도 수원시 영통구 삼성로 129(매탄동)입니다. 최근 5년간 본점소재지의 변경 사항이 없습니다.\n",
      "\n",
      "\n",
      "\n",
      "(경영진의 중요한 변동)\n",
      "\n",
      "\n",
      "\n",
      "2016년 3월 11일 주주총회를 통해 사내이사 임기만료자 3인(윤부근, 신종균, 이상훈)이 재선 임되었습니다. 또한, 사외이사 임기만료자 3인(이인호, 송광수, 김은미) 중 김은미 사외이사 는 퇴임하고, 이인호, 송광수 사외이사가 재선임되었으며, 박재완 사외이사가 신규 선임되었 습니다.\n",
      "\n",
      "\n",
      "\n",
      "2016년 10월 27일 임시 주주총회를 통해 이재용 사내이사가 신규 선임되었으며, 이상훈 사 내이사가 사임하였습니다.\n",
      "\n",
      "\n",
      "\n",
      "2018년 3월 23일 주주총회를 통해 이상훈, 김기남, 김현석, 고동진 사내이사와 김종훈, 김선 욱, 박병국 사외이사가 신규 선임되었으며, 사내이사 임기만료자(권오현)와 사외이사 임기만 료자 2인(김한중, 이병기)이 퇴임하고 윤부근, 신종균 사내이사가 사임하였습니다. 2018년 3월 23일 김기남, 김현석, 고동진 사내이사가 대표이사로 신규 선임되었습니다.\n",
      "\n",
      "\n",
      "\n",
      "2019년 3월 20일 주주총회를 통해 사외이사 임기만료자 박재완 사외이사가 재선임되었으며 김한조, 안규리 사외이사가 신규 선임되었습니다. 또한, 사외이사 임기만료자 2인(이인호, 송광수)이 퇴임하였습니다.\n",
      "\n",
      "2019년 10월 26일 임기만료자 이재용 사내이사가 퇴임하였습니다.\n",
      "\n",
      "\n",
      "\n",
      "2020년 2월 14일 이상훈 사내이사가 사임하였으며, 2020년 3월 18일 주주총회를 통해 한종 희, 최윤호 사내이사가 신규 선임되었습니다.\n",
      "\n",
      "\n",
      "\n",
      "2020년말 현재 당사의 이사회는 사내이사 5인(김기남, 김현석, 고동진, 한종희, 최윤호), 사 외이사 6인(박재완, 김선욱, 박병국, 김종훈, 안규리, 김한조), 총 11인의 이사로 구성되어 있 습니다.\n",
      "\n",
      "\n",
      "\n",
      "(최대주주의 변동)\n",
      "\n",
      "\n",
      "\n",
      "최근 5년간 최대주주의 변동 사항이 없습니다.\n",
      "\n",
      "\n",
      "\n",
      "※ 단, 최대주주의 별세(2020년 10월 25일)로 인해 최대주주의 변동이 생길 예정이며, 변동 시 지분공시 등을 통해 관련 내용을 공시할 예정입니다.\n",
      "\n",
      "\n",
      "\n",
      "(상호의 변경)\n",
      "\n",
      "\n",
      "\n",
      "2016년 중 종속기업 YESCO Electronics LLC의 사명이 Prismview, LLC로 변경되었습니다.\n",
      "\n",
      "\n",
      "\n",
      "2017년 중에는 종속기업 Quietside LLC의 사명이 Samsung HVAC America, LLC로, NewNet Communication Technologies(Canada), Inc.의 사명이 SigMast Communications Inc.로, Martin Professional ApS의 사명이 Harman Professional Denmark ApS로 변경되었 습니다.\n",
      "\n",
      "\n",
      "\n",
      "2018년 중에는 종속기업 Harman Connected Services Finland OY의 사명이 Harman Finland Oy로, Harman Professional Singapore Pte. Ltd의 사명이 Harman Singapore Pte. Ltd.로 변경되었습니다.\n",
      "\n",
      "\n",
      "\n",
      "2019년 중에는 종속기업 Samsung Electronics Greece S.A. 사명이 Samsung Electronics Greece S.M.S.A로 변경되었습니다.\n",
      "\n",
      "\n",
      "\n",
      "☞ 당사(지배기업) 및 주요 종속기업 기준으로 작성하였습니다.\n",
      "\n",
      "주요 종속기업에 대한 사항은 '1. 회사의 개요'의 '사. 연결대상 종속기업 개황' 항목을 참조하시기 바랍니다.\n",
      "\n",
      "\n",
      "\n",
      "(합병 등에 관한 사항)\n",
      "\n",
      "\n",
      "\n",
      "2016년 중 종속기업 Samsung Electronics America, Inc. (SEA)는 Joyent, Inc.사 지분 (100%), Dacor Holdings, Inc.사 지분(100%), Viv Labs, Inc.사 지분(100%)을 인수하였습 니다. 또한, 당사는 프린팅솔루션 사업부를 에스프린팅솔루션㈜로 분할하여 2017년 프린팅 솔루션 사업을 매각하였습니다.\n",
      "\n",
      "\n",
      "\n",
      "2017년 중 종속기업 Samsung Electronics America, Inc. (SEA)는 Harman International Industries, Inc.사 지분(100%)을 인수하였습니다.\n",
      "\n",
      "\n",
      "\n",
      "2018년 중 종속기업 Samsung Pay, Inc.는 종속기업 Samsung Electronics America, Inc. (SEA)에 합병되었으며, 종속기업 Harman Connected Services Holding Corp.은 종속기업 Harman Connected Services, Inc.에 합병되었습니다. 또한 종속기업 Samsung Electronics America, Inc. (SEA)는 종속기업 NexusDX, Inc.사 지분(100%)을 매각하였습니다.\n",
      "\n",
      "\n",
      "\n",
      "2019년 중 종속기업 Samsung Electronics Benelux B.V. (SEBN)은 Corephotonics Ltd.사 지분을 인수하였으며, 당사는 관계기업인 삼성전기㈜의 PLP(Panel Level Package) 사업을 양수하였습니다. 또한, 종속기업 Duran Audio B.V.가 종속기업 Harman Becker Automotive\n",
      "\n",
      "Systems Manufacturing Kft에 합병되었으며, 종속기업 Samsung Electronics (Beijing) Service Company Limited (SBSC)가 종속기업 Samsung (CHINA) Investment Co., Ltd. (SCIC)에 합병되었습니다.\n",
      "\n",
      "\n",
      "\n",
      "☞ 당사(지배기업) 및 주요 종속기업 기준으로 작성하였습니다.\n",
      "\n",
      "주요 종속기업에 대한 사항은 '1. 회사의 개요'의 '사. 연결대상 종속기업 개황' 항목을 참조하시기 바랍니다.\n",
      "\n",
      "\n",
      "\n",
      "(회사의 업종 또는 주된 사업의 변화) 최근 5년간 해당사항 없습니다.\n",
      "\n",
      "(그 밖에 경영 활동과 관련된 중요한 사항의 발생내용)\n",
      "\n",
      "\n",
      "\n",
      "당사는 2016년 11월 프린팅솔루션 사업부를 에스프린팅솔루션㈜로 분할하여, 2017년 11월 프린팅솔루션 사업을 매각하였습니다.\n",
      "\n",
      "\n",
      "\n",
      "2017년 6월 System LSI 사업부를 Foundry 사업부와 System LSI 사업부로 분리하였습니다.\n",
      "\n",
      "\n",
      "\n",
      "[2016년 12월]\n",
      "\n",
      "\n",
      "\n",
      "\n",
      "\n",
      "변경전\n",
      "\n",
      "변경후\n",
      "\n",
      "\n",
      "\n",
      "\n",
      "\n",
      "\n",
      "\n",
      "\n",
      "\n",
      "사업 조직\n",
      "\n",
      "CE 부문 (영상디스플레이, 생활가전,\n",
      "\n",
      "프린팅솔루션, 의료기기)\n",
      "\n",
      "CE 부문 (영상디스플레이,\n",
      "\n",
      "생활가전, 의료기기)\n",
      "\n",
      "\n",
      "\n",
      "IM 부문 (무선, 네트워크)\n",
      "\n",
      "IM 부문 (무선, 네트워크)\n",
      "\n",
      "\n",
      "\n",
      "\n",
      "\n",
      "DS 부문 (메모리, System LSI, DP)\n",
      "\n",
      "\n",
      "\n",
      "DS 부문 (메모리, System LSI, DP)\n",
      "\n",
      "\n",
      "\n",
      "\n",
      "\n",
      "지역 총괄\n",
      "{'source': '../data/[삼성전자] 사업보고서(일반법인) (2021.03.09).docx'}\n"
     ]
    }
   ],
   "source": [
    "#Docx2txtLoader 불러오기\n",
    "from langchain.document_loaders import Docx2txtLoader\n",
    "\n",
    "#Docx2txtLoader로 워드 파일 불러오기(경로 설정)\n",
    "loader = Docx2txtLoader(r\"../data/[삼성전자] 사업보고서(일반법인) (2021.03.09).docx\")\n",
    "\n",
    "#페이지로 분할하여 불러오기\n",
    "data = loader.load_and_split()\n",
    "\n",
    "#첫번째 페이지 출력하기\n",
    "print(data[12].page_content)\n",
    "print(data[12].metadata)"
   ]
  },
  {
   "cell_type": "code",
   "execution_count": 30,
   "id": "e6d53e48",
   "metadata": {},
   "outputs": [
    {
     "data": {
      "text/plain": [
       "Document(metadata={'source': '../data/mlb_teams_2012.csv', 'row': 0}, page_content='Team: Nationals\\n\"Payroll (millions)\": 81.34\\n\"Wins\": 98')"
      ]
     },
     "execution_count": 30,
     "metadata": {},
     "output_type": "execute_result"
    }
   ],
   "source": [
    "from langchain.document_loaders.csv_loader import CSVLoader\n",
    "\n",
    "loader = CSVLoader(file_path=r\"../data/mlb_teams_2012.csv\")\n",
    "\n",
    "data = loader.load()\n",
    "\n",
    "data[0]"
   ]
  },
  {
   "cell_type": "code",
   "execution_count": 31,
   "id": "8e43f617",
   "metadata": {},
   "outputs": [
    {
     "data": {
      "text/plain": [
       "Document(metadata={'source': '../data/Copilot-scenarios-for-Marketing.pptx', 'category_depth': 0, 'file_directory': '../data', 'filename': 'Copilot-scenarios-for-Marketing.pptx', 'last_modified': '2025-04-18T09:42:54', 'page_number': 2, 'languages': ['eng'], 'filetype': 'application/vnd.openxmlformats-officedocument.presentationml.presentation', 'category': 'Title', 'element_id': '37991e0f3ff36db43b1ba8379a3657de'}, page_content='Copilot scenarios for\\x0bMarketing')"
      ]
     },
     "execution_count": 31,
     "metadata": {},
     "output_type": "execute_result"
    }
   ],
   "source": [
    "#UnstructuredPowerPointLoader 불러오기\n",
    "from langchain.document_loaders import UnstructuredPowerPointLoader\n",
    "\n",
    "#mode=elements를 통해 pptx의 요소별로 Document 객체로 가져오기\n",
    "loader = UnstructuredPowerPointLoader(r\"../data/Copilot-scenarios-for-Marketing.pptx\", mode=\"elements\")\n",
    "\n",
    "#pptx 파일을 분할 로드하기\n",
    "data = loader.load_and_split()\n",
    "\n",
    "data[1]"
   ]
  },
  {
   "cell_type": "code",
   "execution_count": 32,
   "id": "2115ba4a",
   "metadata": {},
   "outputs": [
    {
     "name": "stdout",
     "output_type": "stream",
     "text": [
      "Title\n",
      "Copilot scenarios for\u000bMarketing\n",
      "\n",
      "\n",
      "Title\n",
      "Overview and KPIs\n",
      "\n",
      "\n",
      "Title\n",
      "Use Case by Role\n",
      "\n",
      "\n",
      "Title\n",
      "Day in the Life\n",
      "\n",
      "\n",
      "NarrativeText\n",
      "KPIs play a crucial role in organizations, providing a compass to navigate toward success. Let's dive into KPIs for Marketing and how Copilot can assist.\n",
      "\n",
      "\n",
      "NarrativeText\n",
      "Copilot can simplify the tasks that execs perform every day. Look at key use cases and how Copilot can be your AI assistant along the way.\n",
      "\n",
      "\n",
      "NarrativeText\n",
      "See how real-life marketers are using Copilot in their day to day.\n",
      "\n",
      "\n"
     ]
    }
   ],
   "source": [
    "for i in data:\n",
    "    if i.metadata['page_number'] == 2:\n",
    "        print(i.metadata['category'])\n",
    "        print(i.page_content)\n",
    "        print(\"\\n\")"
   ]
  },
  {
   "cell_type": "code",
   "execution_count": 33,
   "id": "fb176106",
   "metadata": {},
   "outputs": [
    {
     "name": "stderr",
     "output_type": "stream",
     "text": [
      "/Users/craig/workspace/git_repo/langchain-rag-practice/venv/lib/python3.13/site-packages/urllib3/connectionpool.py:1097: InsecureRequestWarning: Unverified HTTPS request is being made to host 'www.espn.com'. Adding certificate verification is strongly advised. See: https://urllib3.readthedocs.io/en/latest/advanced-usage.html#tls-warnings\n",
      "  warnings.warn(\n"
     ]
    },
    {
     "data": {
      "text/plain": [
       "[Document(metadata={'source': 'https://www.espn.com/', 'title': 'ESPN - Serving Sports Fans. Anytime. Anywhere.', 'description': 'Visit ESPN for live scores, highlights and sports news. Stream exclusive games on ESPN+ and play fantasy sports.', 'language': 'en'}, page_content=\"\\n\\n\\n\\n\\n\\n\\n\\n\\nESPN - Serving Sports Fans. Anytime. Anywhere.\\n\\n\\n\\n\\n\\n\\n\\n\\n\\n\\n\\n\\n\\n\\n\\n\\n\\n\\n\\n\\n\\n\\n\\n\\n\\n\\n\\n\\n\\n\\n\\n\\n\\n\\n\\n\\n\\n\\n\\n\\n\\n\\n\\n\\n\\n\\n\\n\\n\\n\\n\\n\\n\\n\\n\\n\\n\\n\\n\\n\\n\\n\\n\\n\\n\\n\\n\\n\\n\\n\\n\\n\\n\\n\\n\\n\\n\\n\\n\\n\\n\\n\\n\\n\\n\\n\\n\\n\\n\\n\\n\\n\\n\\n        Skip to main content\\n    \\n\\n        Skip to navigation\\n    \\n\\n\\n\\n\\n\\n\\n\\n\\n\\n\\n\\n\\n\\n\\n\\n\\n\\n\\n\\n\\n\\n\\n\\n\\n\\n\\n\\n\\n\\n\\n\\n\\n\\n<\\n\\n>\\n\\n\\n\\n\\n\\n\\n\\n\\n\\nMenuESPN\\n\\n\\n\\n\\n\\nscores\\n\\n\\n\\nNFLNBANHLMLBSoccerGolfWNBAMore SportsBoxingNCAACricketF1GamingHorseLLWSMMANASCARNLLNBA G LeagueNBA Summer LeagueNCAAFNCAAMNCAAWNWSLOlympicsPLLProfessional WrestlingRacingRN BBRN FBRugbySports BettingTennisTGLUFLX GamesEditionsFantasyWatchESPN BETESPN+\\n\\n\\n\\n\\n\\n\\n\\n\\n\\n\\n\\n\\n\\n\\n\\n  \\n\\nSubscribe Now\\n\\n\\n\\n\\n\\nNHL\\n\\n\\n\\n\\n\\n\\n\\nPGA TOUR LIVE\\n\\n\\n\\n\\n\\n\\n\\nNCAA Softball\\n\\n\\nQuick Links\\n\\n\\n\\n\\nNFL Free Agency\\n\\n\\n\\n\\n\\n\\n\\nNFL Draft\\n\\n\\n\\n\\n\\n\\n\\nNBA Playoffs\\n\\n\\n\\n\\n\\n\\n\\nStanley Cup Playoffs\\n\\n\\n\\n\\n\\n\\n\\nNBA Draft\\n\\n\\n\\n\\n\\n\\n\\nWhere To Watch\\n\\n\\n\\n\\n\\n\\n\\nToday's Top Odds\\n\\n\\n\\n\\n\\n\\n\\nESPN Radio: Listen Live\\n\\n\\n\\n\\n\\n\\nFavorites\\n\\n\\n\\n\\n\\n\\n      Manage Favorites\\n      \\n\\n\\n\\nCustomize ESPNCreate AccountLog InFantasy\\n\\n\\n\\n\\nFootball\\n\\n\\n\\n\\n\\n\\n\\nBaseball\\n\\n\\n\\n\\n\\n\\n\\nHockey\\n\\n\\n\\n\\n\\n\\n\\nMen's Basketball\\n\\n\\n\\n\\n\\n\\n\\nWomen's Basketball\\n\\n\\nESPN Sites\\n\\n\\n\\n\\nESPN Deportes\\n\\n\\n\\n\\n\\n\\n\\nAndscape\\n\\n\\n\\n\\n\\n\\n\\nespnW\\n\\n\\n\\n\\n\\n\\n\\nESPNFC\\n\\n\\n\\n\\n\\n\\n\\nX Games\\n\\n\\n\\n\\n\\n\\n\\nSEC Network\\n\\n\\nESPN Apps\\n\\n\\n\\n\\nESPN\\n\\n\\n\\n\\n\\n\\n\\nESPN Fantasy\\n\\n\\n\\n\\n\\n\\n\\nTournament Challenge\\n\\n\\nFollow ESPN\\n\\n\\n\\n\\nFacebook\\n\\n\\n\\n\\n\\n\\n\\nX/Twitter\\n\\n\\n\\n\\n\\n\\n\\nInstagram\\n\\n\\n\\n\\n\\n\\n\\nSnapchat\\n\\n\\n\\n\\n\\n\\n\\nTikTok\\n\\n\\n\\n\\n\\n\\n\\nYouTube\\n\\n\\n‘I’ll beat you tomorrow for $10k’: Inside the secret world of MLB pickleballHere's how the pickleball court is replacing the golf course as where the baseball world gets away from the game.23hJesse RogersMiles Kennedy/Philadelphia PhilliesMLB Power Rankings: Are the Dodgers, Mets or Padres No. 1 this week?Three weeks into the season, the defending champs have been replaced at the top by another NL power.23hESPNHow Paul Skenes is growing into life as MLB's next megastarTOP HEADLINESEjected Chisholm rips ump on X, then deletes postCoach Prime responds to jersey retirement criticsRodgers still unsure on future, rips Jets for exitEx-South Alabama QB Lopez commits to UNCOvi closes historic season with 897th career goalStricken by bite, Texas' Corbin nearly missed startSaints' Ramczyk, 30, retires: 'Incredible journey'Luka relishes chance to take on Wolves' GobertAnonymous scouts predict NFL draftHow a hiker solved a 22-year mystery on Peru's highest mountain21hRyan HockensmithRODGERS JOINS MCAFEEAaron Rodgers describes to McAfee his brief final meeting with Jets16h2:31Rodgers tells McAfee that retirement is still a possibility16h1:44MLB SCOREBOARD📅 Complete scoreboard⚾ Stat leadersMUST-SEE ON THE DIAMONDAaron Judge throws a seed to third to get the runner8h0:28A's pitcher dazzles with behind-the-back catch11h0:25PREPARING FOR THE PLAYOFFSStanley Cup contender flaws: Biggest issues for the top teams this postseasonNo NHL team is perfect, and opponents will be certain to key in on these areas of weakness.22hRachel DoerrieDilip Vishwanat/Getty ImagesStanley Cup Playoffs Central: Bracket, schedule, scores, newsFrom the first round all the way through the Stanley Cup Final, ESPN has you covered this NHL postseason.1dESPN StaffKeys to the offseason: Free agency, draft plansMUST-SEE GOALSSidney Crosby dazzles with spinning assist to Bryan Rust for a Pens goal8h0:36Flames, Kings see 3 debut goals in season finale5h1:542024-25 REPORT CARDSHanding out end-of-season grades for all 30 NBA teams: Which two got F's?Ahead of the playoffs, here's how each team graded out -- including some surprising A's -- from the 2024-25 regular season.22hKevin PeltonESPN IllustrationSilver linings for 10 eliminated teamsHANGING UP THE HEADGEARCORSO SET TO RETIREThe history of Lee Corso's headgear19h5:29'Not so fast, my friend': The best of Corso's iconic catchphrase12h0:30Corso to end four-decade run with 'GameDay'▶️ Watch: SVP looks back on Corso's 'College GameDay' legacy Top HeadlinesEjected Chisholm rips ump on X, then deletes postCoach Prime responds to jersey retirement criticsRodgers still unsure on future, rips Jets for exitEx-South Alabama QB Lopez commits to UNCOvi closes historic season with 897th career goalStricken by bite, Texas' Corbin nearly missed startSaints' Ramczyk, 30, retires: 'Incredible journey'Luka relishes chance to take on Wolves' GobertAnonymous scouts predict NFL draftFavorites FantasyManage FavoritesFantasy HomeCustomize ESPNCreate AccountLog InICYMI2:04Benches clear between Nats-Pirates in 7thAfter Bryan Reynolds gets hit by a pitch, Jorge Lopez nearly hits Andrew McCutchen in the head, leading to his ejection and the benches clearing. Best of ESPN+AP Photo/Artie Walker Jr.2025 NFL draft: College football coaches pick sleepersA look at some of the players outside of the first round coaches think the NFL could be sleeping on.Illustration by ESPNNBA offseason 2025: Draft, free agency, trade targets for 30 teamsNBA front office insider Bobby Marks breaks down the summer priorities and needs for every eliminated team.Stephen Brashear/Imagn Images2025 MLB ace rankings: Baseball's best starting pitchers\\nWho is the sport's most dominant pitcher right now? We rank the elite. Trending NowAP Photo/Pamela SmithWNBA draft 2025: Wings, Sun, Mystics score highest gradesDallas, with Paige Bueckers at No. 1, and Washington, which got Sonia Citron at No. 3, got high marks in the WNBA draft.Maddie Malhotra/Boston Red Sox/Getty ImagesMLB 2025 Watchability Index: Ranking most fun teams to watch\\nStar power, mammoth home runs and ... cotton candy fries? Here are baseball's most exciting squads for 2025.Lindsey Thiry/ESPNInside Pete Carroll's weekly gig as a USC professorThis spring, in addition to being named head coach of the Las Vegas Raiders, Carroll has been moonlighting as a college professor. Sign up to play the #1 Fantasy game!Create A LeagueJoin Public LeagueReactivate A LeagueMock Draft NowSign up to play the #1 Fantasy Baseball GameReactivate A LeagueCreate A LeagueJoin a Public LeaguePractice With a Mock DraftSign up for FREE!Reactivate A LeagueCreate A LeagueJoin a Public LeaguePractice With a Mock DraftESPN+ on Disney+Mike Windle/Getty Images for ESPNHow to watch ESPN+ on Disney+: Frequently asked questionsESPN+ is available on Disney+. Check out how to watch NHL, MLB, Pat McAfee, 30 for 30s and other exciting events now. Get a custom ESPN experienceEnjoy the benefits of a personalized accountSelect your favorite leagues, teams and players and get the latest scores, news and updates that matter most to you. \\n\\nESPN+\\n\\n\\n\\n\\nWatch Now\\n\\n\\n\\n\\n\\n\\n\\nNHL\\n\\n\\n\\n\\n\\n\\n\\nPGA TOUR LIVE\\n\\n\\n\\n\\n\\n\\n\\nNCAA Women's Gymnastics Championships\\n\\n\\n\\n\\n\\n\\n\\nNCAA Baseball\\n\\n\\n\\n\\n\\n\\n\\nNCAA Softball\\n\\n\\nQuick Links\\n\\n\\n\\n\\nNFL Free Agency\\n\\n\\n\\n\\n\\n\\n\\nNFL Draft\\n\\n\\n\\n\\n\\n\\n\\nNBA Playoffs\\n\\n\\n\\n\\n\\n\\n\\nStanley Cup Playoffs\\n\\n\\n\\n\\n\\n\\n\\nNBA Draft\\n\\n\\n\\n\\n\\n\\n\\nWhere To Watch\\n\\n\\n\\n\\n\\n\\n\\nToday's Top Odds\\n\\n\\n\\n\\n\\n\\n\\nESPN Radio: Listen Live\\n\\n\\nFantasy\\n\\n\\n\\n\\nFootball\\n\\n\\n\\n\\n\\n\\n\\nBaseball\\n\\n\\n\\n\\n\\n\\n\\nHockey\\n\\n\\n\\n\\n\\n\\n\\nMen's Basketball\\n\\n\\n\\n\\n\\n\\n\\nWomen's Basketball\\n\\n\\nESPN Sites\\n\\n\\n\\n\\nESPN Deportes\\n\\n\\n\\n\\n\\n\\n\\nAndscape\\n\\n\\n\\n\\n\\n\\n\\nespnW\\n\\n\\n\\n\\n\\n\\n\\nESPNFC\\n\\n\\n\\n\\n\\n\\n\\nX Games\\n\\n\\n\\n\\n\\n\\n\\nSEC Network\\n\\n\\nESPN Apps\\n\\n\\n\\n\\nESPN\\n\\n\\n\\n\\n\\n\\n\\nESPN Fantasy\\n\\n\\n\\n\\n\\n\\n\\nTournament Challenge\\n\\n\\nFollow ESPN\\n\\n\\n\\n\\nFacebook\\n\\n\\n\\n\\n\\n\\n\\nX/Twitter\\n\\n\\n\\n\\n\\n\\n\\nInstagram\\n\\n\\n\\n\\n\\n\\n\\nSnapchat\\n\\n\\n\\n\\n\\n\\n\\nTikTok\\n\\n\\n\\n\\n\\n\\n\\nYouTube\\n\\n\\nTerms of UsePrivacy PolicyYour US State Privacy RightsChildren's Online Privacy PolicyInterest-Based AdsAbout Nielsen MeasurementDo Not Sell or Share My Personal InformationContact UsDisney Ad Sales SiteWork for ESPNCorrectionsESPN BET Sportsbook is owned and operated by PENN Entertainment, Inc. and its subsidiaries ('PENN'). ESPN BET is available in states where PENN is licensed to offer sports wagering. Must be 21+ to wager. If you or someone you know has a gambling problem and wants help, call 1-800-GAMBLER.Copyright: © 2025 ESPN Enterprises, Inc. All rights reserved.\\n\\n\\n\\n\\n\\n\\n\\n\\n\\n\\n\\n\\n\\n\\n\\n\\n\\n\")]"
      ]
     },
     "execution_count": 33,
     "metadata": {},
     "output_type": "execute_result"
    }
   ],
   "source": [
    "from langchain_community.document_loaders import WebBaseLoader\n",
    "#텍스트 추출할 URL 입력\n",
    "loader = WebBaseLoader(\"https://www.espn.com/\")\n",
    "#ssl verification 에러 방지를 위한 코드\n",
    "loader.requests_kwargs = {'verify':False}\n",
    "data = loader.load()\n",
    "data"
   ]
  },
  {
   "cell_type": "code",
   "execution_count": 34,
   "id": "91d64334",
   "metadata": {},
   "outputs": [
    {
     "name": "stderr",
     "output_type": "stream",
     "text": [
      "/Users/craig/workspace/git_repo/langchain-rag-practice/venv/lib/python3.13/site-packages/urllib3/connectionpool.py:1097: InsecureRequestWarning: Unverified HTTPS request is being made to host 'www.espn.com'. Adding certificate verification is strongly advised. See: https://urllib3.readthedocs.io/en/latest/advanced-usage.html#tls-warnings\n",
      "  warnings.warn(\n"
     ]
    },
    {
     "data": {
      "text/plain": [
       "[Document(metadata={'source': 'https://www.espn.com/'}, page_content=\"Ejected Chisholm rips ump on X, then deletes postCoach Prime responds to jersey retirement criticsRodgers still unsure on future, rips Jets for exitEx-South Alabama QB Lopez commits to UNCOvi closes historic season with 897th career goalStricken by bite, Texas' Corbin nearly missed startSaints' Ramczyk, 30, retires: 'Incredible journey'Luka relishes chance to take on Wolves' GobertAnonymous scouts predict NFL draft Top HeadlinesEjected Chisholm rips ump on X, then deletes postCoach Prime responds to jersey retirement criticsRodgers still unsure on future, rips Jets for exitEx-South Alabama QB Lopez commits to UNCOvi closes historic season with 897th career goalStricken by bite, Texas' Corbin nearly missed startSaints' Ramczyk, 30, retires: 'Incredible journey'Luka relishes chance to take on Wolves' GobertAnonymous scouts predict NFL draft\")]"
      ]
     },
     "execution_count": 34,
     "metadata": {},
     "output_type": "execute_result"
    }
   ],
   "source": [
    "import bs4\n",
    "from langchain_community.document_loaders import WebBaseLoader\n",
    "#텍스트 추출할 URL 입력\n",
    "loader = WebBaseLoader(\"https://www.espn.com/\",\n",
    "                        bs_kwargs=dict(\n",
    "                            parse_only=bs4.SoupStrainer(\n",
    "                                class_=(\"headlineStack top-headlines\")\n",
    "                                                        )\n",
    "                                        )\n",
    "                      )\n",
    "#ssl verification 에러 방지를 위한 코드\n",
    "loader.requests_kwargs = {'verify':False}\n",
    "data = loader.load()\n",
    "data"
   ]
  },
  {
   "cell_type": "code",
   "execution_count": 35,
   "id": "d8ecd1e9",
   "metadata": {},
   "outputs": [
    {
     "data": {
      "text/plain": [
       "[Document(metadata={'source': 'https://www.espn.com/', 'title': 'ESPN - Serving Sports Fans. Anytime. Anywhere.', 'description': 'Visit ESPN for live scores, highlights and sports news. Stream exclusive games on ESPN+ and play fantasy sports.', 'language': 'en'}, page_content=\"\\n\\n\\n\\n\\n\\n\\n\\n\\nESPN - Serving Sports Fans. Anytime. Anywhere.\\n\\n\\n\\n\\n\\n\\n\\n\\n\\n\\n\\n\\n\\n\\n\\n\\n\\n\\n\\n\\n\\n\\n\\n\\n\\n\\n\\n\\n\\n\\n\\n\\n\\n\\n\\n\\n\\n\\n\\n\\n\\n\\n\\n\\n\\n\\n\\n\\n\\n\\n\\n\\n\\n\\n\\n\\n\\n\\n\\n\\n\\n\\n\\n\\n\\n\\n\\n\\n\\n\\n\\n\\n\\n\\n\\n\\n\\n\\n\\n\\n\\n\\n\\n\\n\\n\\n\\n\\n\\n\\n\\n\\n\\n        Skip to main content\\n    \\n\\n        Skip to navigation\\n    \\n\\n\\n\\n\\n\\n\\n\\n\\n\\n\\n\\n\\n\\n\\n\\n\\n\\n\\n\\n\\n\\n\\n\\n\\n\\n\\n\\n\\n\\n\\n\\n\\n\\n<\\n\\n>\\n\\n\\n\\n\\n\\n\\n\\n\\n\\nMenuESPN\\n\\n\\n\\n\\n\\nscores\\n\\n\\n\\nNFLNBANHLMLBSoccerGolfWNBAMore SportsBoxingNCAACricketF1GamingHorseLLWSMMANASCARNLLNBA G LeagueNBA Summer LeagueNCAAFNCAAMNCAAWNWSLOlympicsPLLProfessional WrestlingRacingRN BBRN FBRugbySports BettingTennisTGLUFLX GamesEditionsFantasyWatchESPN BETESPN+\\n\\n\\n\\n\\n\\n\\n\\n\\n\\n\\n\\n\\n\\n\\n\\n  \\n\\nSubscribe Now\\n\\n\\n\\n\\n\\nNHL\\n\\n\\n\\n\\n\\n\\n\\nPGA TOUR LIVE\\n\\n\\n\\n\\n\\n\\n\\nNCAA Women's Gymnastics Championships\\n\\n\\n\\n\\n\\n\\n\\nNCAA Baseball\\n\\n\\n\\n\\n\\n\\n\\nNCAA Softball\\n\\n\\nQuick Links\\n\\n\\n\\n\\nNFL Free Agency\\n\\n\\n\\n\\n\\n\\n\\nNFL Draft\\n\\n\\n\\n\\n\\n\\n\\nNBA Playoffs\\n\\n\\n\\n\\n\\n\\n\\nStanley Cup Playoffs\\n\\n\\n\\n\\n\\n\\n\\nNBA Draft\\n\\n\\n\\n\\n\\n\\n\\nWhere To Watch\\n\\n\\n\\n\\n\\n\\n\\nToday's Top Odds\\n\\n\\n\\n\\n\\n\\n\\nESPN Radio: Listen Live\\n\\n\\n\\n\\n\\n\\nFavorites\\n\\n\\n\\n\\n\\n\\n      Manage Favorites\\n      \\n\\n\\n\\nCustomize ESPNCreate AccountLog InFantasy\\n\\n\\n\\n\\nFootball\\n\\n\\n\\n\\n\\n\\n\\nBaseball\\n\\n\\n\\n\\n\\n\\n\\nHockey\\n\\n\\n\\n\\n\\n\\n\\nMen's Basketball\\n\\n\\n\\n\\n\\n\\n\\nWomen's Basketball\\n\\n\\nESPN Sites\\n\\n\\n\\n\\nESPN Deportes\\n\\n\\n\\n\\n\\n\\n\\nAndscape\\n\\n\\n\\n\\n\\n\\n\\nespnW\\n\\n\\n\\n\\n\\n\\n\\nESPNFC\\n\\n\\n\\n\\n\\n\\n\\nX Games\\n\\n\\n\\n\\n\\n\\n\\nSEC Network\\n\\n\\nESPN Apps\\n\\n\\n\\n\\nESPN\\n\\n\\n\\n\\n\\n\\n\\nESPN Fantasy\\n\\n\\n\\n\\n\\n\\n\\nTournament Challenge\\n\\n\\nFollow ESPN\\n\\n\\n\\n\\nFacebook\\n\\n\\n\\n\\n\\n\\n\\nX/Twitter\\n\\n\\n\\n\\n\\n\\n\\nInstagram\\n\\n\\n\\n\\n\\n\\n\\nSnapchat\\n\\n\\n\\n\\n\\n\\n\\nTikTok\\n\\n\\n\\n\\n\\n\\n\\nYouTube\\n\\n\\n‘I’ll beat you tomorrow for $10k’: Inside the secret world of MLB pickleballHere's how the pickleball court is replacing the golf course as where the baseball world gets away from the game.23hJesse RogersMiles Kennedy/Philadelphia PhilliesMLB Power Rankings: Are the Dodgers, Mets or Padres No. 1 this week?Three weeks into the season, the defending champs have been replaced at the top by another NL power.23hESPNHow Paul Skenes is growing into life as MLB's next megastarTOP HEADLINESEjected Chisholm rips ump on X, then deletes postCoach Prime responds to jersey retirement criticsRodgers still unsure on future, rips Jets for exitEx-South Alabama QB Lopez commits to UNCOvi closes historic season with 897th career goalStricken by bite, Texas' Corbin nearly missed startSaints' Ramczyk, 30, retires: 'Incredible journey'Luka relishes chance to take on Wolves' GobertAnonymous scouts predict NFL draftHow a hiker solved a 22-year mystery on Peru's highest mountain21hRyan HockensmithRODGERS JOINS MCAFEEAaron Rodgers describes to McAfee his brief final meeting with Jets16h2:31Rodgers tells McAfee that retirement is still a possibility16h1:44MLB SCOREBOARD📅 Complete scoreboard⚾ Stat leadersMUST-SEE ON THE DIAMONDAaron Judge throws a seed to third to get the runner8h0:28A's pitcher dazzles with behind-the-back catch11h0:25PREPARING FOR THE PLAYOFFSStanley Cup contender flaws: Biggest issues for the top teams this postseasonNo NHL team is perfect, and opponents will be certain to key in on these areas of weakness.22hRachel DoerrieDilip Vishwanat/Getty ImagesStanley Cup Playoffs Central: Bracket, schedule, scores, newsFrom the first round all the way through the Stanley Cup Final, ESPN has you covered this NHL postseason.1dESPN StaffKeys to the offseason: Free agency, draft plansMUST-SEE GOALSSidney Crosby dazzles with spinning assist to Bryan Rust for a Pens goal8h0:36Flames, Kings see 3 debut goals in season finale5h1:542024-25 REPORT CARDSHanding out end-of-season grades for all 30 NBA teams: Which two got F's?Ahead of the playoffs, here's how each team graded out -- including some surprising A's -- from the 2024-25 regular season.22hKevin PeltonESPN IllustrationSilver linings for 10 eliminated teamsHANGING UP THE HEADGEARCORSO SET TO RETIREThe history of Lee Corso's headgear19h5:29'Not so fast, my friend': The best of Corso's iconic catchphrase12h0:30Corso to end four-decade run with 'GameDay'▶️ Watch: SVP looks back on Corso's 'College GameDay' legacy Top HeadlinesEjected Chisholm rips ump on X, then deletes postCoach Prime responds to jersey retirement criticsRodgers still unsure on future, rips Jets for exitEx-South Alabama QB Lopez commits to UNCOvi closes historic season with 897th career goalStricken by bite, Texas' Corbin nearly missed startSaints' Ramczyk, 30, retires: 'Incredible journey'Luka relishes chance to take on Wolves' GobertAnonymous scouts predict NFL draftFavorites FantasyManage FavoritesFantasy HomeCustomize ESPNCreate AccountLog InICYMI2:04Benches clear between Nats-Pirates in 7thAfter Bryan Reynolds gets hit by a pitch, Jorge Lopez nearly hits Andrew McCutchen in the head, leading to his ejection and the benches clearing. Best of ESPN+AP Photo/Artie Walker Jr.2025 NFL draft: College football coaches pick sleepersA look at some of the players outside of the first round coaches think the NFL could be sleeping on.Illustration by ESPNNBA offseason 2025: Draft, free agency, trade targets for 30 teamsNBA front office insider Bobby Marks breaks down the summer priorities and needs for every eliminated team.Stephen Brashear/Imagn Images2025 MLB ace rankings: Baseball's best starting pitchers\\nWho is the sport's most dominant pitcher right now? We rank the elite. Trending NowAP Photo/Pamela SmithWNBA draft 2025: Wings, Sun, Mystics score highest gradesDallas, with Paige Bueckers at No. 1, and Washington, which got Sonia Citron at No. 3, got high marks in the WNBA draft.Maddie Malhotra/Boston Red Sox/Getty ImagesMLB 2025 Watchability Index: Ranking most fun teams to watch\\nStar power, mammoth home runs and ... cotton candy fries? Here are baseball's most exciting squads for 2025.Lindsey Thiry/ESPNInside Pete Carroll's weekly gig as a USC professorThis spring, in addition to being named head coach of the Las Vegas Raiders, Carroll has been moonlighting as a college professor. Sign up to play the #1 Fantasy game!Create A LeagueJoin Public LeagueReactivate A LeagueMock Draft NowSign up to play the #1 Fantasy Baseball GameReactivate A LeagueCreate A LeagueJoin a Public LeaguePractice With a Mock DraftSign up for FREE!Reactivate A LeagueCreate A LeagueJoin a Public LeaguePractice With a Mock DraftESPN+ on Disney+Mike Windle/Getty Images for ESPNHow to watch ESPN+ on Disney+: Frequently asked questionsESPN+ is available on Disney+. Check out how to watch NHL, MLB, Pat McAfee, 30 for 30s and other exciting events now. Get a custom ESPN experienceEnjoy the benefits of a personalized accountSelect your favorite leagues, teams and players and get the latest scores, news and updates that matter most to you. \\n\\nESPN+\\n\\n\\n\\n\\nWatch Now\\n\\n\\n\\n\\n\\n\\n\\nNHL\\n\\n\\n\\n\\n\\n\\n\\nPGA TOUR LIVE\\n\\n\\n\\n\\n\\n\\n\\nNCAA Women's Gymnastics Championships\\n\\n\\n\\n\\n\\n\\n\\nNCAA Baseball\\n\\n\\n\\n\\n\\n\\n\\nNCAA Softball\\n\\n\\nQuick Links\\n\\n\\n\\n\\nNFL Free Agency\\n\\n\\n\\n\\n\\n\\n\\nNFL Draft\\n\\n\\n\\n\\n\\n\\n\\nNBA Playoffs\\n\\n\\n\\n\\n\\n\\n\\nStanley Cup Playoffs\\n\\n\\n\\n\\n\\n\\n\\nNBA Draft\\n\\n\\n\\n\\n\\n\\n\\nWhere To Watch\\n\\n\\n\\n\\n\\n\\n\\nToday's Top Odds\\n\\n\\n\\n\\n\\n\\n\\nESPN Radio: Listen Live\\n\\n\\nFantasy\\n\\n\\n\\n\\nFootball\\n\\n\\n\\n\\n\\n\\n\\nBaseball\\n\\n\\n\\n\\n\\n\\n\\nHockey\\n\\n\\n\\n\\n\\n\\n\\nMen's Basketball\\n\\n\\n\\n\\n\\n\\n\\nWomen's Basketball\\n\\n\\nESPN Sites\\n\\n\\n\\n\\nESPN Deportes\\n\\n\\n\\n\\n\\n\\n\\nAndscape\\n\\n\\n\\n\\n\\n\\n\\nespnW\\n\\n\\n\\n\\n\\n\\n\\nESPNFC\\n\\n\\n\\n\\n\\n\\n\\nX Games\\n\\n\\n\\n\\n\\n\\n\\nSEC Network\\n\\n\\nESPN Apps\\n\\n\\n\\n\\nESPN\\n\\n\\n\\n\\n\\n\\n\\nESPN Fantasy\\n\\n\\n\\n\\n\\n\\n\\nTournament Challenge\\n\\n\\nFollow ESPN\\n\\n\\n\\n\\nFacebook\\n\\n\\n\\n\\n\\n\\n\\nX/Twitter\\n\\n\\n\\n\\n\\n\\n\\nInstagram\\n\\n\\n\\n\\n\\n\\n\\nSnapchat\\n\\n\\n\\n\\n\\n\\n\\nTikTok\\n\\n\\n\\n\\n\\n\\n\\nYouTube\\n\\n\\nTerms of UsePrivacy PolicyYour US State Privacy RightsChildren's Online Privacy PolicyInterest-Based AdsAbout Nielsen MeasurementDo Not Sell or Share My Personal InformationContact UsDisney Ad Sales SiteWork for ESPNCorrectionsESPN BET Sportsbook is owned and operated by PENN Entertainment, Inc. and its subsidiaries ('PENN'). ESPN BET is available in states where PENN is licensed to offer sports wagering. Must be 21+ to wager. If you or someone you know has a gambling problem and wants help, call 1-800-GAMBLER.Copyright: © 2025 ESPN Enterprises, Inc. All rights reserved.\\n\\n\\n\\n\\n\\n\\n\\n\\n\\n\\n\\n\\n\\n\\n\\n\\n\\n\"),\n",
       " Document(metadata={'source': 'https://google.com', 'title': 'Google', 'language': 'ko'}, page_content='Google검색 이미지 지도 Play YouTube 뉴스 Gmail 드라이브 더보기 »웹 기록 | 설정 | 로그인\\xa0고급검색Google 지원 언어:  English 광고비즈니스 솔루션Google 정보Google.co.kr© 2025 - 개인정보처리방침 - 약관 ')]"
      ]
     },
     "execution_count": 35,
     "metadata": {},
     "output_type": "execute_result"
    }
   ],
   "source": [
    "loader = WebBaseLoader([\"https://www.espn.com/\", \"https://google.com\"])\n",
    "docs = loader.load()\n",
    "docs"
   ]
  },
  {
   "cell_type": "code",
   "execution_count": 37,
   "id": "4af24bb2",
   "metadata": {},
   "outputs": [
    {
     "name": "stderr",
     "output_type": "stream",
     "text": [
      "Error loading file ../data/BOK 이슈노트 제2022-38호 인공지능 언어모형을 이용한 인플레이션 어조지수 개발 및 시사점.pdf\n"
     ]
    },
    {
     "ename": "ImportError",
     "evalue": "partition_pdf() is not available because one or more dependencies are not installed. Use: pip install \"unstructured[pdf]\" (including quotes) to install the required dependencies",
     "output_type": "error",
     "traceback": [
      "\u001b[31m---------------------------------------------------------------------------\u001b[39m",
      "\u001b[31mImportError\u001b[39m                               Traceback (most recent call last)",
      "\u001b[36mCell\u001b[39m\u001b[36m \u001b[39m\u001b[32mIn[37]\u001b[39m\u001b[32m, line 5\u001b[39m\n\u001b[32m      2\u001b[39m \u001b[38;5;66;03m#첫번째 매개변수로 경로 입력, glob에 해당 경로에서 불러들일 파일의 형식 지정\u001b[39;00m\n\u001b[32m      3\u001b[39m \u001b[38;5;66;03m#*는 모든 문자를 표현하는 와일드카드로, .pdf로 끝나는 모든 파일을 의미함\u001b[39;00m\n\u001b[32m      4\u001b[39m loader = DirectoryLoader(\u001b[33mr\u001b[39m\u001b[33m'\u001b[39m\u001b[33m../data/\u001b[39m\u001b[33m'\u001b[39m, glob=\u001b[33m\"\u001b[39m\u001b[33m*.pdf\u001b[39m\u001b[33m\"\u001b[39m)\n\u001b[32m----> \u001b[39m\u001b[32m5\u001b[39m docs = \u001b[43mloader\u001b[49m\u001b[43m.\u001b[49m\u001b[43mload\u001b[49m\u001b[43m(\u001b[49m\u001b[43m)\u001b[49m\n\u001b[32m      6\u001b[39m [i.metadata[\u001b[33m'\u001b[39m\u001b[33msource\u001b[39m\u001b[33m'\u001b[39m] \u001b[38;5;28;01mfor\u001b[39;00m i \u001b[38;5;129;01min\u001b[39;00m docs]\n",
      "\u001b[36mFile \u001b[39m\u001b[32m~/workspace/git_repo/langchain-rag-practice/venv/lib/python3.13/site-packages/langchain_community/document_loaders/directory.py:117\u001b[39m, in \u001b[36mDirectoryLoader.load\u001b[39m\u001b[34m(self)\u001b[39m\n\u001b[32m    115\u001b[39m \u001b[38;5;28;01mdef\u001b[39;00m\u001b[38;5;250m \u001b[39m\u001b[34mload\u001b[39m(\u001b[38;5;28mself\u001b[39m) -> List[Document]:\n\u001b[32m    116\u001b[39m \u001b[38;5;250m    \u001b[39m\u001b[33;03m\"\"\"Load documents.\"\"\"\u001b[39;00m\n\u001b[32m--> \u001b[39m\u001b[32m117\u001b[39m     \u001b[38;5;28;01mreturn\u001b[39;00m \u001b[38;5;28;43mlist\u001b[39;49m\u001b[43m(\u001b[49m\u001b[38;5;28;43mself\u001b[39;49m\u001b[43m.\u001b[49m\u001b[43mlazy_load\u001b[49m\u001b[43m(\u001b[49m\u001b[43m)\u001b[49m\u001b[43m)\u001b[49m\n",
      "\u001b[36mFile \u001b[39m\u001b[32m~/workspace/git_repo/langchain-rag-practice/venv/lib/python3.13/site-packages/langchain_community/document_loaders/directory.py:195\u001b[39m, in \u001b[36mDirectoryLoader.lazy_load\u001b[39m\u001b[34m(self)\u001b[39m\n\u001b[32m    193\u001b[39m \u001b[38;5;28;01melse\u001b[39;00m:\n\u001b[32m    194\u001b[39m     \u001b[38;5;28;01mfor\u001b[39;00m i \u001b[38;5;129;01min\u001b[39;00m items:\n\u001b[32m--> \u001b[39m\u001b[32m195\u001b[39m         \u001b[38;5;28;01myield from\u001b[39;00m \u001b[38;5;28mself\u001b[39m._lazy_load_file(i, p, pbar)\n\u001b[32m    197\u001b[39m \u001b[38;5;28;01mif\u001b[39;00m pbar:\n\u001b[32m    198\u001b[39m     pbar.close()\n",
      "\u001b[36mFile \u001b[39m\u001b[32m~/workspace/git_repo/langchain-rag-practice/venv/lib/python3.13/site-packages/langchain_community/document_loaders/directory.py:233\u001b[39m, in \u001b[36mDirectoryLoader._lazy_load_file\u001b[39m\u001b[34m(self, item, path, pbar)\u001b[39m\n\u001b[32m    231\u001b[39m     \u001b[38;5;28;01melse\u001b[39;00m:\n\u001b[32m    232\u001b[39m         logger.error(\u001b[33mf\u001b[39m\u001b[33m\"\u001b[39m\u001b[33mError loading file \u001b[39m\u001b[38;5;132;01m{\u001b[39;00m\u001b[38;5;28mstr\u001b[39m(item)\u001b[38;5;132;01m}\u001b[39;00m\u001b[33m\"\u001b[39m)\n\u001b[32m--> \u001b[39m\u001b[32m233\u001b[39m         \u001b[38;5;28;01mraise\u001b[39;00m e\n\u001b[32m    234\u001b[39m \u001b[38;5;28;01mfinally\u001b[39;00m:\n\u001b[32m    235\u001b[39m     \u001b[38;5;28;01mif\u001b[39;00m pbar:\n",
      "\u001b[36mFile \u001b[39m\u001b[32m~/workspace/git_repo/langchain-rag-practice/venv/lib/python3.13/site-packages/langchain_community/document_loaders/directory.py:223\u001b[39m, in \u001b[36mDirectoryLoader._lazy_load_file\u001b[39m\u001b[34m(self, item, path, pbar)\u001b[39m\n\u001b[32m    221\u001b[39m loader = \u001b[38;5;28mself\u001b[39m.loader_cls(\u001b[38;5;28mstr\u001b[39m(item), **\u001b[38;5;28mself\u001b[39m.loader_kwargs)\n\u001b[32m    222\u001b[39m \u001b[38;5;28;01mtry\u001b[39;00m:\n\u001b[32m--> \u001b[39m\u001b[32m223\u001b[39m \u001b[43m    \u001b[49m\u001b[38;5;28;43;01mfor\u001b[39;49;00m\u001b[43m \u001b[49m\u001b[43msubdoc\u001b[49m\u001b[43m \u001b[49m\u001b[38;5;129;43;01min\u001b[39;49;00m\u001b[43m \u001b[49m\u001b[43mloader\u001b[49m\u001b[43m.\u001b[49m\u001b[43mlazy_load\u001b[49m\u001b[43m(\u001b[49m\u001b[43m)\u001b[49m\u001b[43m:\u001b[49m\n\u001b[32m    224\u001b[39m \u001b[43m        \u001b[49m\u001b[38;5;28;43;01myield\u001b[39;49;00m\u001b[43m \u001b[49m\u001b[43msubdoc\u001b[49m\n\u001b[32m    225\u001b[39m \u001b[38;5;28;01mexcept\u001b[39;00m \u001b[38;5;167;01mNotImplementedError\u001b[39;00m:\n",
      "\u001b[36mFile \u001b[39m\u001b[32m~/workspace/git_repo/langchain-rag-practice/venv/lib/python3.13/site-packages/langchain_community/document_loaders/unstructured.py:107\u001b[39m, in \u001b[36mUnstructuredBaseLoader.lazy_load\u001b[39m\u001b[34m(self)\u001b[39m\n\u001b[32m    105\u001b[39m \u001b[38;5;28;01mdef\u001b[39;00m\u001b[38;5;250m \u001b[39m\u001b[34mlazy_load\u001b[39m(\u001b[38;5;28mself\u001b[39m) -> Iterator[Document]:\n\u001b[32m    106\u001b[39m \u001b[38;5;250m    \u001b[39m\u001b[33;03m\"\"\"Load file.\"\"\"\u001b[39;00m\n\u001b[32m--> \u001b[39m\u001b[32m107\u001b[39m     elements = \u001b[38;5;28;43mself\u001b[39;49m\u001b[43m.\u001b[49m\u001b[43m_get_elements\u001b[49m\u001b[43m(\u001b[49m\u001b[43m)\u001b[49m\n\u001b[32m    108\u001b[39m     \u001b[38;5;28mself\u001b[39m._post_process_elements(elements)\n\u001b[32m    109\u001b[39m     \u001b[38;5;28;01mif\u001b[39;00m \u001b[38;5;28mself\u001b[39m.mode == \u001b[33m\"\u001b[39m\u001b[33melements\u001b[39m\u001b[33m\"\u001b[39m:\n",
      "\u001b[36mFile \u001b[39m\u001b[32m~/workspace/git_repo/langchain-rag-practice/venv/lib/python3.13/site-packages/langchain_community/document_loaders/unstructured.py:228\u001b[39m, in \u001b[36mUnstructuredFileLoader._get_elements\u001b[39m\u001b[34m(self)\u001b[39m\n\u001b[32m    226\u001b[39m \u001b[38;5;28;01mif\u001b[39;00m \u001b[38;5;28misinstance\u001b[39m(\u001b[38;5;28mself\u001b[39m.file_path, Path):\n\u001b[32m    227\u001b[39m     \u001b[38;5;28mself\u001b[39m.file_path = \u001b[38;5;28mstr\u001b[39m(\u001b[38;5;28mself\u001b[39m.file_path)\n\u001b[32m--> \u001b[39m\u001b[32m228\u001b[39m \u001b[38;5;28;01mreturn\u001b[39;00m \u001b[43mpartition\u001b[49m\u001b[43m(\u001b[49m\u001b[43mfilename\u001b[49m\u001b[43m=\u001b[49m\u001b[38;5;28;43mself\u001b[39;49m\u001b[43m.\u001b[49m\u001b[43mfile_path\u001b[49m\u001b[43m,\u001b[49m\u001b[43m \u001b[49m\u001b[43m*\u001b[49m\u001b[43m*\u001b[49m\u001b[38;5;28;43mself\u001b[39;49m\u001b[43m.\u001b[49m\u001b[43munstructured_kwargs\u001b[49m\u001b[43m)\u001b[49m\n",
      "\u001b[36mFile \u001b[39m\u001b[32m~/workspace/git_repo/langchain-rag-practice/venv/lib/python3.13/site-packages/unstructured/partition/auto.py:211\u001b[39m, in \u001b[36mpartition\u001b[39m\u001b[34m(filename, file, encoding, content_type, url, headers, ssl_verify, request_timeout, strategy, skip_infer_table_types, ocr_languages, languages, detect_language_per_element, pdf_infer_table_structure, extract_images_in_pdf, extract_image_block_types, extract_image_block_output_dir, extract_image_block_to_payload, data_source_metadata, metadata_filename, hi_res_model_name, model_name, starting_page_number, **kwargs)\u001b[39m\n\u001b[32m    208\u001b[39m \u001b[38;5;66;03m# -- handle PDF/Image partitioning separately because they have a lot of special-case\u001b[39;00m\n\u001b[32m    209\u001b[39m \u001b[38;5;66;03m# -- parameters. We'll come back to this after sorting out the other file types.\u001b[39;00m\n\u001b[32m    210\u001b[39m \u001b[38;5;28;01mif\u001b[39;00m file_type == FileType.PDF:\n\u001b[32m--> \u001b[39m\u001b[32m211\u001b[39m     partition_pdf = \u001b[43mpartitioner_loader\u001b[49m\u001b[43m.\u001b[49m\u001b[43mget\u001b[49m\u001b[43m(\u001b[49m\u001b[43mfile_type\u001b[49m\u001b[43m)\u001b[49m\n\u001b[32m    212\u001b[39m     elements = partition_pdf(\n\u001b[32m    213\u001b[39m         filename=filename,\n\u001b[32m    214\u001b[39m         file=file,\n\u001b[32m   (...)\u001b[39m\u001b[32m    225\u001b[39m         **kwargs,\n\u001b[32m    226\u001b[39m     )\n\u001b[32m    227\u001b[39m     \u001b[38;5;28;01mreturn\u001b[39;00m augment_metadata(elements)\n",
      "\u001b[36mFile \u001b[39m\u001b[32m~/workspace/git_repo/langchain-rag-practice/venv/lib/python3.13/site-packages/unstructured/partition/auto.py:362\u001b[39m, in \u001b[36m_PartitionerLoader.get\u001b[39m\u001b[34m(self, file_type)\u001b[39m\n\u001b[32m    359\u001b[39m \u001b[38;5;66;03m# -- if the partitioner is not in the cache, load it; note this raises if one or more of\u001b[39;00m\n\u001b[32m    360\u001b[39m \u001b[38;5;66;03m# -- the partitioner's dependencies is not installed.\u001b[39;00m\n\u001b[32m    361\u001b[39m \u001b[38;5;28;01mif\u001b[39;00m file_type \u001b[38;5;129;01mnot\u001b[39;00m \u001b[38;5;129;01min\u001b[39;00m \u001b[38;5;28mself\u001b[39m._partitioners:\n\u001b[32m--> \u001b[39m\u001b[32m362\u001b[39m     \u001b[38;5;28mself\u001b[39m._partitioners[file_type] = \u001b[38;5;28;43mself\u001b[39;49m\u001b[43m.\u001b[49m\u001b[43m_load_partitioner\u001b[49m\u001b[43m(\u001b[49m\u001b[43mfile_type\u001b[49m\u001b[43m)\u001b[49m\n\u001b[32m    364\u001b[39m \u001b[38;5;28;01mreturn\u001b[39;00m \u001b[38;5;28mself\u001b[39m._partitioners[file_type]\n",
      "\u001b[36mFile \u001b[39m\u001b[32m~/workspace/git_repo/langchain-rag-practice/venv/lib/python3.13/site-packages/unstructured/partition/auto.py:371\u001b[39m, in \u001b[36m_PartitionerLoader._load_partitioner\u001b[39m\u001b[34m(self, file_type)\u001b[39m\n\u001b[32m    369\u001b[39m \u001b[38;5;28;01mfor\u001b[39;00m pkg_name \u001b[38;5;129;01min\u001b[39;00m file_type.importable_package_dependencies:\n\u001b[32m    370\u001b[39m     \u001b[38;5;28;01mif\u001b[39;00m \u001b[38;5;129;01mnot\u001b[39;00m dependency_exists(pkg_name):\n\u001b[32m--> \u001b[39m\u001b[32m371\u001b[39m         \u001b[38;5;28;01mraise\u001b[39;00m \u001b[38;5;167;01mImportError\u001b[39;00m(\n\u001b[32m    372\u001b[39m             \u001b[33mf\u001b[39m\u001b[33m\"\u001b[39m\u001b[38;5;132;01m{\u001b[39;00mfile_type.partitioner_function_name\u001b[38;5;132;01m}\u001b[39;00m\u001b[33m() is not available because one or\u001b[39m\u001b[33m\"\u001b[39m\n\u001b[32m    373\u001b[39m             \u001b[33mf\u001b[39m\u001b[33m\"\u001b[39m\u001b[33m more dependencies are not installed. Use:\u001b[39m\u001b[33m\"\u001b[39m\n\u001b[32m    374\u001b[39m             \u001b[33mf\u001b[39m\u001b[33m'\u001b[39m\u001b[33m pip install \u001b[39m\u001b[33m\"\u001b[39m\u001b[33munstructured[\u001b[39m\u001b[38;5;132;01m{\u001b[39;00mfile_type.extra_name\u001b[38;5;132;01m}\u001b[39;00m\u001b[33m]\u001b[39m\u001b[33m\"\u001b[39m\u001b[33m (including quotes)\u001b[39m\u001b[33m'\u001b[39m\n\u001b[32m    375\u001b[39m             \u001b[33mf\u001b[39m\u001b[33m\"\u001b[39m\u001b[33m to install the required dependencies\u001b[39m\u001b[33m\"\u001b[39m,\n\u001b[32m    376\u001b[39m         )\n\u001b[32m    378\u001b[39m \u001b[38;5;66;03m# -- load the partitioner and return it --\u001b[39;00m\n\u001b[32m    379\u001b[39m \u001b[38;5;28;01massert\u001b[39;00m file_type.is_partitionable  \u001b[38;5;66;03m# -- would be a programming error if this failed --\u001b[39;00m\n",
      "\u001b[31mImportError\u001b[39m: partition_pdf() is not available because one or more dependencies are not installed. Use: pip install \"unstructured[pdf]\" (including quotes) to install the required dependencies"
     ]
    }
   ],
   "source": [
    "from langchain_community.document_loaders import DirectoryLoader\n",
    "#첫번째 매개변수로 경로 입력, glob에 해당 경로에서 불러들일 파일의 형식 지정\n",
    "#*는 모든 문자를 표현하는 와일드카드로, .pdf로 끝나는 모든 파일을 의미함\n",
    "loader = DirectoryLoader(r'../data/', glob=\"*.pdf\")\n",
    "docs = loader.load()\n",
    "[i.metadata['source'] for i in docs]"
   ]
  }
 ],
 "metadata": {
  "kernelspec": {
   "display_name": "venv",
   "language": "python",
   "name": "python3"
  },
  "language_info": {
   "codemirror_mode": {
    "name": "ipython",
    "version": 3
   },
   "file_extension": ".py",
   "mimetype": "text/x-python",
   "name": "python",
   "nbconvert_exporter": "python",
   "pygments_lexer": "ipython3",
   "version": "3.13.3"
  }
 },
 "nbformat": 4,
 "nbformat_minor": 5
}
