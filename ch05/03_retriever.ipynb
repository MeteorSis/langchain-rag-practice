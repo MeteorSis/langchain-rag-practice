{
 "cells": [
  {
   "cell_type": "code",
   "execution_count": 2,
   "id": "b108f57c",
   "metadata": {},
   "outputs": [
    {
     "data": {
      "text/plain": [
       "True"
      ]
     },
     "execution_count": 2,
     "metadata": {},
     "output_type": "execute_result"
    }
   ],
   "source": [
    "from dotenv import load_dotenv\n",
    "\n",
    "load_dotenv(\"../.envrc\")"
   ]
  },
  {
   "cell_type": "code",
   "execution_count": 3,
   "id": "cd57e669",
   "metadata": {},
   "outputs": [
    {
     "data": {
      "text/plain": [
       "[Document(id='692435c2-000d-430b-911a-6e7f5c59d51c', metadata={'source': '../data/대한민국헌법(헌법)(제00010호)(19880225).pdf', 'producer': 'iText 2.1.7 by 1T3XT', 'creationdate': '2024-04-01T21:26:24+09:00', 'page': 4, 'total_pages': 14, 'page_label': '5', 'moddate': '2024-04-01T21:26:24+09:00', 'creator': 'PyPDF'}, page_content='③국회의원은 그 지위를 남용하여 국가ㆍ공공단체 또는 기업체와의 계약이나 그 처분에 의하여 재산상의 권리ㆍ이\\n익 또는 직위를 취득하거나 타인을 위하여 그 취득을 알선할 수 없다.\\n \\n제47조 ①국회의 정기회는 법률이 정하는 바에 의하여 매년 1회 집회되며, 국회의 임시회는 대통령 또는 국회재적의원\\n4분의 1 이상의 요구에 의하여 집회된다.\\n②정기회의 회기는 100일을, 임시회의 회기는 30일을 초과할 수 없다.\\n③대통령이 임시회의 집회를 요구할 때에는 기간과 집회요구의 이유를 명시하여야 한다.\\n \\n제48조 국회는 의장 1인과 부의장 2인을 선출한다.\\n \\n제49조 국회는 헌법 또는 법률에 특별한 규정이 없는 한 재적의원 과반수의 출석과 출석의원 과반수의 찬성으로 의결\\n한다. 가부동수인 때에는 부결된 것으로 본다.\\n \\n제50조 ①국회의 회의는 공개한다. 다만, 출석의원 과반수의 찬성이 있거나 의장이 국가의 안전보장을 위하여 필요하다\\n고 인정할 때에는 공개하지 아니할 수 있다.'),\n",
       " Document(id='4e759668-ac32-4dc5-aabc-96fd1611412b', metadata={'creationdate': '2024-04-01T21:26:24+09:00', 'moddate': '2024-04-01T21:26:24+09:00', 'total_pages': 14, 'page_label': '5', 'source': '../data/대한민국헌법(헌법)(제00010호)(19880225).pdf', 'creator': 'PyPDF', 'producer': 'iText 2.1.7 by 1T3XT', 'page': 4}, page_content='법제처                                                            5                                                       국가법령정보센터\\n대한민국헌법\\n③국회의원의 선거구와 비례대표제 기타 선거에 관한 사항은 법률로 정한다.\\n \\n제42조 국회의원의 임기는 4년으로 한다.\\n \\n제43조 국회의원은 법률이 정하는 직을 겸할 수 없다.\\n \\n제44조 ①국회의원은 현행범인인 경우를 제외하고는 회기 중 국회의 동의없이 체포 또는 구금되지 아니한다.\\n②국회의원이 회기 전에 체포 또는 구금된 때에는 현행범인이 아닌 한 국회의 요구가 있으면 회기 중 석방된다.\\n \\n제45조 국회의원은 국회에서 직무상 행한 발언과 표결에 관하여 국회 외에서 책임을 지지 아니한다.\\n \\n제46조 ①국회의원은 청렴의 의무가 있다.\\n②국회의원은 국가이익을 우선하여 양심에 따라 직무를 행한다.'),\n",
       " Document(id='29bd2718-aa12-4225-a51e-d82e0dfd9f1c', metadata={'creationdate': '2024-04-01T21:26:24+09:00', 'producer': 'iText 2.1.7 by 1T3XT', 'source': '../data/대한민국헌법(헌법)(제00010호)(19880225).pdf', 'total_pages': 14, 'page': 5, 'page_label': '6', 'creator': 'PyPDF', 'moddate': '2024-04-01T21:26:24+09:00'}, page_content='②국회는 의원의 자격을 심사하며, 의원을 징계할 수 있다.\\n③의원을 제명하려면 국회재적의원 3분의 2 이상의 찬성이 있어야 한다.\\n④제2항과 제3항의 처분에 대하여는 법원에 제소할 수 없다.\\n \\n제65조 ①대통령ㆍ국무총리ㆍ국무위원ㆍ행정각부의 장ㆍ헌법재판소 재판관ㆍ법관ㆍ중앙선거관리위원회 위원ㆍ감사\\n원장ㆍ감사위원 기타 법률이 정한 공무원이 그 직무집행에 있어서 헌법이나 법률을 위배한 때에는 국회는 탄핵의\\n소추를 의결할 수 있다.\\n②제1항의 탄핵소추는 국회재적의원 3분의 1 이상의 발의가 있어야 하며, 그 의결은 국회재적의원 과반수의 찬성이\\n있어야 한다. 다만, 대통령에 대한 탄핵소추는 국회재적의원 과반수의 발의와 국회재적의원 3분의 2 이상의 찬성이'),\n",
       " Document(id='723ed343-68bd-4154-affb-c49c056a8c4b', metadata={'source': '../data/대한민국헌법(헌법)(제00010호)(19880225).pdf', 'creationdate': '2024-04-01T21:26:24+09:00', 'total_pages': 14, 'creator': 'PyPDF', 'page_label': '6', 'page': 5, 'producer': 'iText 2.1.7 by 1T3XT', 'moddate': '2024-04-01T21:26:24+09:00'}, page_content='제61조 ①국회는 국정을 감사하거나 특정한 국정사안에 대하여 조사할 수 있으며, 이에 필요한 서류의 제출 또는 증인\\n의 출석과 증언이나 의견의 진술을 요구할 수 있다.\\n②국정감사 및 조사에 관한 절차 기타 필요한 사항은 법률로 정한다.\\n \\n제62조 ①국무총리ㆍ국무위원 또는 정부위원은 국회나 그 위원회에 출석하여 국정처리상황을 보고하거나 의견을 진술\\n하고 질문에 응답할 수 있다.\\n②국회나 그 위원회의 요구가 있을 때에는 국무총리ㆍ국무위원 또는 정부위원은 출석ㆍ답변하여야 하며, 국무총리\\n또는 국무위원이 출석요구를 받은 때에는 국무위원 또는 정부위원으로 하여금 출석ㆍ답변하게 할 수 있다.\\n \\n제63조 ①국회는 국무총리 또는 국무위원의 해임을 대통령에게 건의할 수 있다.\\n②제1항의 해임건의는 국회재적의원 3분의 1 이상의 발의에 의하여 국회재적의원 과반수의 찬성이 있어야 한다.\\n \\n제64조 ①국회는 법률에 저촉되지 아니하는 범위 안에서 의사와 내부규율에 관한 규칙을 제정할 수 있다.')]"
      ]
     },
     "execution_count": 3,
     "metadata": {},
     "output_type": "execute_result"
    }
   ],
   "source": [
    "from langchain.document_loaders import PyPDFLoader\n",
    "from langchain_text_splitters import RecursiveCharacterTextSplitter\n",
    "from langchain_openai import OpenAIEmbeddings\n",
    "from langchain_chroma import Chroma\n",
    "\n",
    "Chroma().delete_collection()\n",
    "\n",
    "#헌법 PDF 파일 로드\n",
    "loader = PyPDFLoader(r\"../data/대한민국헌법(헌법)(제00010호)(19880225).pdf\")\n",
    "pages = loader.load_and_split()\n",
    "\n",
    "#PDF 파일을 500자 청크로 분할\n",
    "text_splitter = RecursiveCharacterTextSplitter(chunk_size=500, chunk_overlap=0)\n",
    "docs = text_splitter.split_documents(pages)\n",
    "\n",
    "#ChromaDB에 청크들을 벡터 임베딩으로 저장(OpenAI 임베딩 모델 활용)\n",
    "db = Chroma.from_documents(docs, OpenAIEmbeddings(model = 'text-embedding-3-small'))\n",
    "\n",
    "#Chroma를 Retriever로 활용\n",
    "retriever = db.as_retriever()\n",
    "retriever.invoke(\"국회의원의 의무\")"
   ]
  },
  {
   "cell_type": "code",
   "execution_count": 6,
   "id": "40657893",
   "metadata": {},
   "outputs": [
    {
     "name": "stdout",
     "output_type": "stream",
     "text": [
      "[(Document(id='692435c2-000d-430b-911a-6e7f5c59d51c', metadata={'creator': 'PyPDF', 'creationdate': '2024-04-01T21:26:24+09:00', 'moddate': '2024-04-01T21:26:24+09:00', 'source': '../data/대한민국헌법(헌법)(제00010호)(19880225).pdf', 'page_label': '5', 'producer': 'iText 2.1.7 by 1T3XT', 'page': 4, 'total_pages': 14}, page_content='③국회의원은 그 지위를 남용하여 국가ㆍ공공단체 또는 기업체와의 계약이나 그 처분에 의하여 재산상의 권리ㆍ이\\n익 또는 직위를 취득하거나 타인을 위하여 그 취득을 알선할 수 없다.\\n \\n제47조 ①국회의 정기회는 법률이 정하는 바에 의하여 매년 1회 집회되며, 국회의 임시회는 대통령 또는 국회재적의원\\n4분의 1 이상의 요구에 의하여 집회된다.\\n②정기회의 회기는 100일을, 임시회의 회기는 30일을 초과할 수 없다.\\n③대통령이 임시회의 집회를 요구할 때에는 기간과 집회요구의 이유를 명시하여야 한다.\\n \\n제48조 국회는 의장 1인과 부의장 2인을 선출한다.\\n \\n제49조 국회는 헌법 또는 법률에 특별한 규정이 없는 한 재적의원 과반수의 출석과 출석의원 과반수의 찬성으로 의결\\n한다. 가부동수인 때에는 부결된 것으로 본다.\\n \\n제50조 ①국회의 회의는 공개한다. 다만, 출석의원 과반수의 찬성이 있거나 의장이 국가의 안전보장을 위하여 필요하다\\n고 인정할 때에는 공개하지 아니할 수 있다.'), 0.800208330154419), (Document(id='4e759668-ac32-4dc5-aabc-96fd1611412b', metadata={'moddate': '2024-04-01T21:26:24+09:00', 'page_label': '5', 'total_pages': 14, 'creator': 'PyPDF', 'creationdate': '2024-04-01T21:26:24+09:00', 'source': '../data/대한민국헌법(헌법)(제00010호)(19880225).pdf', 'producer': 'iText 2.1.7 by 1T3XT', 'page': 4}, page_content='법제처                                                            5                                                       국가법령정보센터\\n대한민국헌법\\n③국회의원의 선거구와 비례대표제 기타 선거에 관한 사항은 법률로 정한다.\\n \\n제42조 국회의원의 임기는 4년으로 한다.\\n \\n제43조 국회의원은 법률이 정하는 직을 겸할 수 없다.\\n \\n제44조 ①국회의원은 현행범인인 경우를 제외하고는 회기 중 국회의 동의없이 체포 또는 구금되지 아니한다.\\n②국회의원이 회기 전에 체포 또는 구금된 때에는 현행범인이 아닌 한 국회의 요구가 있으면 회기 중 석방된다.\\n \\n제45조 국회의원은 국회에서 직무상 행한 발언과 표결에 관하여 국회 외에서 책임을 지지 아니한다.\\n \\n제46조 ①국회의원은 청렴의 의무가 있다.\\n②국회의원은 국가이익을 우선하여 양심에 따라 직무를 행한다.'), 0.8563905954360962), (Document(id='29bd2718-aa12-4225-a51e-d82e0dfd9f1c', metadata={'producer': 'iText 2.1.7 by 1T3XT', 'creationdate': '2024-04-01T21:26:24+09:00', 'total_pages': 14, 'moddate': '2024-04-01T21:26:24+09:00', 'page': 5, 'creator': 'PyPDF', 'source': '../data/대한민국헌법(헌법)(제00010호)(19880225).pdf', 'page_label': '6'}, page_content='②국회는 의원의 자격을 심사하며, 의원을 징계할 수 있다.\\n③의원을 제명하려면 국회재적의원 3분의 2 이상의 찬성이 있어야 한다.\\n④제2항과 제3항의 처분에 대하여는 법원에 제소할 수 없다.\\n \\n제65조 ①대통령ㆍ국무총리ㆍ국무위원ㆍ행정각부의 장ㆍ헌법재판소 재판관ㆍ법관ㆍ중앙선거관리위원회 위원ㆍ감사\\n원장ㆍ감사위원 기타 법률이 정한 공무원이 그 직무집행에 있어서 헌법이나 법률을 위배한 때에는 국회는 탄핵의\\n소추를 의결할 수 있다.\\n②제1항의 탄핵소추는 국회재적의원 3분의 1 이상의 발의가 있어야 하며, 그 의결은 국회재적의원 과반수의 찬성이\\n있어야 한다. 다만, 대통령에 대한 탄핵소추는 국회재적의원 과반수의 발의와 국회재적의원 3분의 2 이상의 찬성이'), 0.8618262410163879), (Document(id='723ed343-68bd-4154-affb-c49c056a8c4b', metadata={'page': 5, 'source': '../data/대한민국헌법(헌법)(제00010호)(19880225).pdf', 'page_label': '6', 'producer': 'iText 2.1.7 by 1T3XT', 'total_pages': 14, 'moddate': '2024-04-01T21:26:24+09:00', 'creator': 'PyPDF', 'creationdate': '2024-04-01T21:26:24+09:00'}, page_content='제61조 ①국회는 국정을 감사하거나 특정한 국정사안에 대하여 조사할 수 있으며, 이에 필요한 서류의 제출 또는 증인\\n의 출석과 증언이나 의견의 진술을 요구할 수 있다.\\n②국정감사 및 조사에 관한 절차 기타 필요한 사항은 법률로 정한다.\\n \\n제62조 ①국무총리ㆍ국무위원 또는 정부위원은 국회나 그 위원회에 출석하여 국정처리상황을 보고하거나 의견을 진술\\n하고 질문에 응답할 수 있다.\\n②국회나 그 위원회의 요구가 있을 때에는 국무총리ㆍ국무위원 또는 정부위원은 출석ㆍ답변하여야 하며, 국무총리\\n또는 국무위원이 출석요구를 받은 때에는 국무위원 또는 정부위원으로 하여금 출석ㆍ답변하게 할 수 있다.\\n \\n제63조 ①국회는 국무총리 또는 국무위원의 해임을 대통령에게 건의할 수 있다.\\n②제1항의 해임건의는 국회재적의원 3분의 1 이상의 발의에 의하여 국회재적의원 과반수의 찬성이 있어야 한다.\\n \\n제64조 ①국회는 법률에 저촉되지 아니하는 범위 안에서 의사와 내부규율에 관한 규칙을 제정할 수 있다.'), 0.8947548270225525)]\n",
      "[(Document(id='692435c2-000d-430b-911a-6e7f5c59d51c', metadata={'creationdate': '2024-04-01T21:26:24+09:00', 'total_pages': 14, 'creator': 'PyPDF', 'producer': 'iText 2.1.7 by 1T3XT', 'source': '../data/대한민국헌법(헌법)(제00010호)(19880225).pdf', 'page': 4, 'moddate': '2024-04-01T21:26:24+09:00', 'page_label': '5'}, page_content='③국회의원은 그 지위를 남용하여 국가ㆍ공공단체 또는 기업체와의 계약이나 그 처분에 의하여 재산상의 권리ㆍ이\\n익 또는 직위를 취득하거나 타인을 위하여 그 취득을 알선할 수 없다.\\n \\n제47조 ①국회의 정기회는 법률이 정하는 바에 의하여 매년 1회 집회되며, 국회의 임시회는 대통령 또는 국회재적의원\\n4분의 1 이상의 요구에 의하여 집회된다.\\n②정기회의 회기는 100일을, 임시회의 회기는 30일을 초과할 수 없다.\\n③대통령이 임시회의 집회를 요구할 때에는 기간과 집회요구의 이유를 명시하여야 한다.\\n \\n제48조 국회는 의장 1인과 부의장 2인을 선출한다.\\n \\n제49조 국회는 헌법 또는 법률에 특별한 규정이 없는 한 재적의원 과반수의 출석과 출석의원 과반수의 찬성으로 의결\\n한다. 가부동수인 때에는 부결된 것으로 본다.\\n \\n제50조 ①국회의 회의는 공개한다. 다만, 출석의원 과반수의 찬성이 있거나 의장이 국가의 안전보장을 위하여 필요하다\\n고 인정할 때에는 공개하지 아니할 수 있다.'), 0.43416726338584677), (Document(id='4e759668-ac32-4dc5-aabc-96fd1611412b', metadata={'moddate': '2024-04-01T21:26:24+09:00', 'producer': 'iText 2.1.7 by 1T3XT', 'page_label': '5', 'total_pages': 14, 'source': '../data/대한민국헌법(헌법)(제00010호)(19880225).pdf', 'creationdate': '2024-04-01T21:26:24+09:00', 'page': 4, 'creator': 'PyPDF'}, page_content='법제처                                                            5                                                       국가법령정보센터\\n대한민국헌법\\n③국회의원의 선거구와 비례대표제 기타 선거에 관한 사항은 법률로 정한다.\\n \\n제42조 국회의원의 임기는 4년으로 한다.\\n \\n제43조 국회의원은 법률이 정하는 직을 겸할 수 없다.\\n \\n제44조 ①국회의원은 현행범인인 경우를 제외하고는 회기 중 국회의 동의없이 체포 또는 구금되지 아니한다.\\n②국회의원이 회기 전에 체포 또는 구금된 때에는 현행범인이 아닌 한 국회의 요구가 있으면 회기 중 석방된다.\\n \\n제45조 국회의원은 국회에서 직무상 행한 발언과 표결에 관하여 국회 외에서 책임을 지지 아니한다.\\n \\n제46조 ①국회의원은 청렴의 의무가 있다.\\n②국회의원은 국가이익을 우선하여 양심에 따라 직무를 행한다.'), 0.39444040262275126), (Document(id='29bd2718-aa12-4225-a51e-d82e0dfd9f1c', metadata={'source': '../data/대한민국헌법(헌법)(제00010호)(19880225).pdf', 'page': 5, 'page_label': '6', 'creationdate': '2024-04-01T21:26:24+09:00', 'moddate': '2024-04-01T21:26:24+09:00', 'total_pages': 14, 'producer': 'iText 2.1.7 by 1T3XT', 'creator': 'PyPDF'}, page_content='②국회는 의원의 자격을 심사하며, 의원을 징계할 수 있다.\\n③의원을 제명하려면 국회재적의원 3분의 2 이상의 찬성이 있어야 한다.\\n④제2항과 제3항의 처분에 대하여는 법원에 제소할 수 없다.\\n \\n제65조 ①대통령ㆍ국무총리ㆍ국무위원ㆍ행정각부의 장ㆍ헌법재판소 재판관ㆍ법관ㆍ중앙선거관리위원회 위원ㆍ감사\\n원장ㆍ감사위원 기타 법률이 정한 공무원이 그 직무집행에 있어서 헌법이나 법률을 위배한 때에는 국회는 탄핵의\\n소추를 의결할 수 있다.\\n②제1항의 탄핵소추는 국회재적의원 3분의 1 이상의 발의가 있어야 하며, 그 의결은 국회재적의원 과반수의 찬성이\\n있어야 한다. 다만, 대통령에 대한 탄핵소추는 국회재적의원 과반수의 발의와 국회재적의원 3분의 2 이상의 찬성이'), 0.3905968207728002), (Document(id='723ed343-68bd-4154-affb-c49c056a8c4b', metadata={'total_pages': 14, 'producer': 'iText 2.1.7 by 1T3XT', 'creator': 'PyPDF', 'moddate': '2024-04-01T21:26:24+09:00', 'page_label': '6', 'source': '../data/대한민국헌법(헌법)(제00010호)(19880225).pdf', 'page': 5, 'creationdate': '2024-04-01T21:26:24+09:00'}, page_content='제61조 ①국회는 국정을 감사하거나 특정한 국정사안에 대하여 조사할 수 있으며, 이에 필요한 서류의 제출 또는 증인\\n의 출석과 증언이나 의견의 진술을 요구할 수 있다.\\n②국정감사 및 조사에 관한 절차 기타 필요한 사항은 법률로 정한다.\\n \\n제62조 ①국무총리ㆍ국무위원 또는 정부위원은 국회나 그 위원회에 출석하여 국정처리상황을 보고하거나 의견을 진술\\n하고 질문에 응답할 수 있다.\\n②국회나 그 위원회의 요구가 있을 때에는 국무총리ㆍ국무위원 또는 정부위원은 출석ㆍ답변하여야 하며, 국무총리\\n또는 국무위원이 출석요구를 받은 때에는 국무위원 또는 정부위원으로 하여금 출석ㆍ답변하게 할 수 있다.\\n \\n제63조 ①국회는 국무총리 또는 국무위원의 해임을 대통령에게 건의할 수 있다.\\n②제1항의 해임건의는 국회재적의원 3분의 1 이상의 발의에 의하여 국회재적의원 과반수의 찬성이 있어야 한다.\\n \\n제64조 ①국회는 법률에 저촉되지 아니하는 범위 안에서 의사와 내부규율에 관한 규칙을 제정할 수 있다.'), 0.3673127943129568)]\n",
      "[유사 청크 1순위]\n",
      "③국회의원은 그 지위를 남용하여 국가ㆍ공공단체 또는 기업체와의 계약이나 그 처분에 의하여 재산상의 권리ㆍ이\n",
      "익 또는 직위를 취득하거나 타인을 위하여 그 취득을 알선할 수 없다.\n",
      " \n",
      "제47조 ①국회의 정기회는 법률이 정하는 바에 의하여 매년 1회 집회되며, 국회의 임시회는 대통령 또는 국회재적의원\n",
      "4분의 1 이상의 요구에 의하여 집회된다.\n",
      "②정기회의 회기는 100일을, 임시회의 회기는 30일을 초과할 수 없다.\n",
      "③대통령이 임시회의 집회를 요구할 때에는 기간과 집회요구의 이유를 명시하여야 한다.\n",
      " \n",
      "제48조 국회는 의장 1인과 부의장 2인을 선출한다.\n",
      " \n",
      "제49조 국회는 헌법 또는 법률에 특별한 규정이 없는 한 재적의원 과반수의 출석과 출석의원 과반수의 찬성으로 의결\n",
      "한다. 가부동수인 때에는 부결된 것으로 본다.\n",
      " \n",
      "제50조 ①국회의 회의는 공개한다. 다만, 출석의원 과반수의 찬성이 있거나 의장이 국가의 안전보장을 위하여 필요하다\n",
      "고 인정할 때에는 공개하지 아니할 수 있다.\n",
      "\n",
      "\n",
      "[점수]\n",
      "0.800208330154419 0.8563905954360962\n",
      "0.43416726338584677 0.39444040262275126\n"
     ]
    }
   ],
   "source": [
    "result_score = db.similarity_search_with_score(\"국회의원의 의무\")\n",
    "result_r_score = db.similarity_search_with_relevance_scores(\"국회의원의 의무\")\n",
    "\n",
    "print(result_score)\n",
    "print(result_r_score)\n",
    "\n",
    "print(\"[유사 청크 1순위]\")\n",
    "print(result_score[0][0].page_content)\n",
    "\n",
    "print(\"\\n\\n[점수]\")\n",
    "print(result_score[0][1], result_score[1][1]) # 낮을 수록 유사도 높음\n",
    "print(result_r_score[0][1], result_r_score[1][1]) # 높을 수록 유사도 높음"
   ]
  },
  {
   "cell_type": "code",
   "execution_count": 7,
   "id": "2220685a",
   "metadata": {},
   "outputs": [
    {
     "data": {
      "text/plain": [
       "[Document(id='692435c2-000d-430b-911a-6e7f5c59d51c', metadata={'total_pages': 14, 'page': 4, 'page_label': '5', 'producer': 'iText 2.1.7 by 1T3XT', 'source': '../data/대한민국헌법(헌법)(제00010호)(19880225).pdf', 'creator': 'PyPDF', 'moddate': '2024-04-01T21:26:24+09:00', 'creationdate': '2024-04-01T21:26:24+09:00'}, page_content='③국회의원은 그 지위를 남용하여 국가ㆍ공공단체 또는 기업체와의 계약이나 그 처분에 의하여 재산상의 권리ㆍ이\\n익 또는 직위를 취득하거나 타인을 위하여 그 취득을 알선할 수 없다.\\n \\n제47조 ①국회의 정기회는 법률이 정하는 바에 의하여 매년 1회 집회되며, 국회의 임시회는 대통령 또는 국회재적의원\\n4분의 1 이상의 요구에 의하여 집회된다.\\n②정기회의 회기는 100일을, 임시회의 회기는 30일을 초과할 수 없다.\\n③대통령이 임시회의 집회를 요구할 때에는 기간과 집회요구의 이유를 명시하여야 한다.\\n \\n제48조 국회는 의장 1인과 부의장 2인을 선출한다.\\n \\n제49조 국회는 헌법 또는 법률에 특별한 규정이 없는 한 재적의원 과반수의 출석과 출석의원 과반수의 찬성으로 의결\\n한다. 가부동수인 때에는 부결된 것으로 본다.\\n \\n제50조 ①국회의 회의는 공개한다. 다만, 출석의원 과반수의 찬성이 있거나 의장이 국가의 안전보장을 위하여 필요하다\\n고 인정할 때에는 공개하지 아니할 수 있다.')]"
      ]
     },
     "execution_count": 7,
     "metadata": {},
     "output_type": "execute_result"
    }
   ],
   "source": [
    "#유사 청크 1개만 반환\n",
    "retriever = db.as_retriever(search_kwargs={\"k\": 1})\n",
    "retriever.invoke(\"국회의원의 의무\")"
   ]
  },
  {
   "cell_type": "code",
   "execution_count": 8,
   "id": "a86d02cb",
   "metadata": {},
   "outputs": [],
   "source": [
    "from langchain.document_loaders import PyPDFLoader\n",
    "from langchain_text_splitters import RecursiveCharacterTextSplitter\n",
    "from langchain_openai import OpenAIEmbeddings\n",
    "from langchain_chroma import Chroma\n",
    "\n",
    "#헌법 PDF 파일 로드\n",
    "loader = PyPDFLoader(r\"../data/대한민국헌법(헌법)(제00010호)(19880225).pdf\")\n",
    "pages = loader.load_and_split()\n",
    "\n",
    "#PDF 파일을 500자 청크로 분할\n",
    "text_splitter = RecursiveCharacterTextSplitter(chunk_size=500, chunk_overlap=0)\n",
    "docs = text_splitter.split_documents(pages)\n",
    "\n",
    "#ChromaDB에 청크들을 벡터 임베딩으로 저장(OpenAI 임베딩 모델 활용)\n",
    "db = Chroma.from_documents(docs, OpenAIEmbeddings(model = 'text-embedding-3-small'))"
   ]
  },
  {
   "cell_type": "code",
   "execution_count": 13,
   "id": "c21ad50f",
   "metadata": {},
   "outputs": [
    {
     "name": "stdout",
     "output_type": "stream",
     "text": [
      "③국회의원은 그 지위를 남용하여 국가ㆍ공공단체 또는 기업체와의 계약이나 그 처분에 의하여 재산상의 권리ㆍ이\n",
      "익 또는 직위를 취득하거나 타인을 위하여 그 취득을 알선할 수 없다.\n",
      " \n",
      "제47조 ①국회의 정기회는 법률이 정하는 바에 의하여 매년 1회 집회되며, 국회의 임시회는 대통령 또는 국회재적의원\n",
      "4분의 1 이상의 요구에 의하여 집회된다.\n",
      "②정기회의 회기는 100일을, 임시회의 회기는 30일을 초과할 수 없다.\n",
      "③대통령이 임시회의 집회를 요구할 때에는 기간과 집회요구의 이유를 명시하여야 한다.\n",
      " \n",
      "제48조 국회는 의장 1인과 부의장 2인을 선출한다.\n",
      " \n",
      "제49조 국회는 헌법 또는 법률에 특별한 규정이 없는 한 재적의원 과반수의 출석과 출석의원 과반수의 찬성으로 의결\n",
      "한다. 가부동수인 때에는 부결된 것으로 본다.\n",
      " \n",
      "제50조 ①국회의 회의는 공개한다. 다만, 출석의원 과반수의 찬성이 있거나 의장이 국가의 안전보장을 위하여 필요하다\n",
      "고 인정할 때에는 공개하지 아니할 수 있다.\n",
      "----------------------------------------\n",
      "법제처                                                            12                                                       국가법령정보센터\n",
      "대한민국헌법\n",
      "④위원은 정당에 가입하거나 정치에 관여할 수 없다.\n",
      "⑤위원은 탄핵 또는 금고 이상의 형의 선고에 의하지 아니하고는 파면되지 아니한다.\n",
      "⑥중앙선거관리위원회는 법령의 범위 안에서 선거관리ㆍ국민투표관리 또는 정당사무에 관한 규칙을 제정할 수 있\n",
      "으며, 법률에 저촉되지 아니하는 범위 안에서 내부규율에 관한 규칙을 제정할 수 있다.\n",
      "⑦각급 선거관리위원회의 조직ㆍ직무범위 기타 필요한 사항은 법률로 정한다.\n",
      " \n",
      "제115조 ①각급 선거관리위원회는 선거인명부의 작성 등 선거사무와 국민투표사무에 관하여 관계 행정기관에 필요한\n",
      "지시를 할 수 있다.\n",
      "②제1항의 지시를 받은 당해 행정기관은 이에 응하여야 한다.\n",
      "----------------------------------------\n",
      "법제처                                                            9                                                       국가법령정보센터\n",
      "대한민국헌법\n",
      "           제2관 국무회의\n",
      " \n",
      "제88조 ①국무회의는 정부의 권한에 속하는 중요한 정책을 심의한다.\n",
      "②국무회의는 대통령ㆍ국무총리와 15인 이상 30인 이하의 국무위원으로 구성한다.\n",
      "③대통령은 국무회의의 의장이 되고, 국무총리는 부의장이 된다.\n",
      " \n",
      "제89조 다음 사항은 국무회의의 심의를 거쳐야 한다.\n",
      "1. 국정의 기본계획과 정부의 일반정책\n",
      "2. 선전ㆍ강화 기타 중요한 대외정책\n",
      "3. 헌법개정안ㆍ국민투표안ㆍ조약안ㆍ법률안 및 대통령령안\n",
      "4. 예산안ㆍ결산ㆍ국유재산처분의 기본계획ㆍ국가의 부담이 될 계약 기타 재정에 관한 중요사항\n",
      "5. 대통령의 긴급명령ㆍ긴급재정경제처분 및 명령 또는 계엄과 그 해제\n",
      "6. 군사에 관한 중요사항\n",
      "----------------------------------------\n"
     ]
    }
   ],
   "source": [
    "#Chroma를 Retriever로 활용\n",
    "retriever = db.as_retriever(\n",
    "    search_type=\"mmr\",\n",
    "    search_kwargs = {\"lambda_mult\": 0, \"fetch_k\":10, \"k\":3}\n",
    ")\n",
    "docs = retriever.invoke(\"국회의원의 의무\")\n",
    "for doc in docs:\n",
    "    print(doc.page_content)\n",
    "    print(\"--\" * 20)"
   ]
  },
  {
   "cell_type": "code",
   "execution_count": 14,
   "id": "205f11a5",
   "metadata": {},
   "outputs": [
    {
     "name": "stdout",
     "output_type": "stream",
     "text": [
      "③국회의원은 그 지위를 남용하여 국가ㆍ공공단체 또는 기업체와의 계약이나 그 처분에 의하여 재산상의 권리ㆍ이\n",
      "익 또는 직위를 취득하거나 타인을 위하여 그 취득을 알선할 수 없다.\n",
      " \n",
      "제47조 ①국회의 정기회는 법률이 정하는 바에 의하여 매년 1회 집회되며, 국회의 임시회는 대통령 또는 국회재적의원\n",
      "4분의 1 이상의 요구에 의하여 집회된다.\n",
      "②정기회의 회기는 100일을, 임시회의 회기는 30일을 초과할 수 없다.\n",
      "③대통령이 임시회의 집회를 요구할 때에는 기간과 집회요구의 이유를 명시하여야 한다.\n",
      " \n",
      "제48조 국회는 의장 1인과 부의장 2인을 선출한다.\n",
      " \n",
      "제49조 국회는 헌법 또는 법률에 특별한 규정이 없는 한 재적의원 과반수의 출석과 출석의원 과반수의 찬성으로 의결\n",
      "한다. 가부동수인 때에는 부결된 것으로 본다.\n",
      " \n",
      "제50조 ①국회의 회의는 공개한다. 다만, 출석의원 과반수의 찬성이 있거나 의장이 국가의 안전보장을 위하여 필요하다\n",
      "고 인정할 때에는 공개하지 아니할 수 있다.\n",
      "----------------------------------------\n",
      "③국회의원은 그 지위를 남용하여 국가ㆍ공공단체 또는 기업체와의 계약이나 그 처분에 의하여 재산상의 권리ㆍ이\n",
      "익 또는 직위를 취득하거나 타인을 위하여 그 취득을 알선할 수 없다.\n",
      " \n",
      "제47조 ①국회의 정기회는 법률이 정하는 바에 의하여 매년 1회 집회되며, 국회의 임시회는 대통령 또는 국회재적의원\n",
      "4분의 1 이상의 요구에 의하여 집회된다.\n",
      "②정기회의 회기는 100일을, 임시회의 회기는 30일을 초과할 수 없다.\n",
      "③대통령이 임시회의 집회를 요구할 때에는 기간과 집회요구의 이유를 명시하여야 한다.\n",
      " \n",
      "제48조 국회는 의장 1인과 부의장 2인을 선출한다.\n",
      " \n",
      "제49조 국회는 헌법 또는 법률에 특별한 규정이 없는 한 재적의원 과반수의 출석과 출석의원 과반수의 찬성으로 의결\n",
      "한다. 가부동수인 때에는 부결된 것으로 본다.\n",
      " \n",
      "제50조 ①국회의 회의는 공개한다. 다만, 출석의원 과반수의 찬성이 있거나 의장이 국가의 안전보장을 위하여 필요하다\n",
      "고 인정할 때에는 공개하지 아니할 수 있다.\n",
      "----------------------------------------\n",
      "법제처                                                            5                                                       국가법령정보센터\n",
      "대한민국헌법\n",
      "③국회의원의 선거구와 비례대표제 기타 선거에 관한 사항은 법률로 정한다.\n",
      " \n",
      "제42조 국회의원의 임기는 4년으로 한다.\n",
      " \n",
      "제43조 국회의원은 법률이 정하는 직을 겸할 수 없다.\n",
      " \n",
      "제44조 ①국회의원은 현행범인인 경우를 제외하고는 회기 중 국회의 동의없이 체포 또는 구금되지 아니한다.\n",
      "②국회의원이 회기 전에 체포 또는 구금된 때에는 현행범인이 아닌 한 국회의 요구가 있으면 회기 중 석방된다.\n",
      " \n",
      "제45조 국회의원은 국회에서 직무상 행한 발언과 표결에 관하여 국회 외에서 책임을 지지 아니한다.\n",
      " \n",
      "제46조 ①국회의원은 청렴의 의무가 있다.\n",
      "②국회의원은 국가이익을 우선하여 양심에 따라 직무를 행한다.\n",
      "----------------------------------------\n"
     ]
    }
   ],
   "source": [
    "#Chroma를 Retriever로 활용\n",
    "retriever = db.as_retriever(search_kwargs = {\"k\":3})\n",
    "docs = retriever.invoke(\"국회의원의 의무\")\n",
    "for doc in docs:\n",
    "    print(doc.page_content)\n",
    "    print(\"--\" * 20)"
   ]
  },
  {
   "cell_type": "code",
   "execution_count": 15,
   "id": "8c592acc",
   "metadata": {},
   "outputs": [],
   "source": [
    "from langchain.document_loaders import PyPDFLoader\n",
    "from langchain_text_splitters import RecursiveCharacterTextSplitter\n",
    "from langchain_openai import OpenAIEmbeddings\n",
    "from langchain_chroma import Chroma\n",
    "\n",
    "#헌법 PDF 파일 로드\n",
    "loader = PyPDFLoader(r\"../data/대한민국헌법(헌법)(제00010호)(19880225).pdf\")\n",
    "pages = loader.load_and_split()\n",
    "\n",
    "#PDF 파일을 500자 청크로 분할\n",
    "text_splitter = RecursiveCharacterTextSplitter(chunk_size=500, chunk_overlap=0)\n",
    "docs = text_splitter.split_documents(pages)\n",
    "\n",
    "#ChromaDB에 청크들을 벡터 임베딩으로 저장(OpenAI 임베딩 모델 활용)\n",
    "db = Chroma.from_documents(docs, OpenAIEmbeddings(model = 'text-embedding-3-small'))"
   ]
  },
  {
   "cell_type": "code",
   "execution_count": 17,
   "id": "cd60e75c",
   "metadata": {},
   "outputs": [
    {
     "name": "stderr",
     "output_type": "stream",
     "text": [
      "INFO:langchain.retrievers.multi_query:Generated queries: ['국회의원이 수행해야 하는 의무는 어떤 것들이 있나요?  ', '국회의원의 책임과 의무는 무엇인지 알고 싶습니다.  ', '국회의원으로서의 주요 의무는 무엇인가요?']\n"
     ]
    },
    {
     "data": {
      "text/plain": [
       "[Document(id='95fd28ef-cb98-4254-93e9-90309a352140', metadata={'creationdate': '2024-04-01T21:26:24+09:00', 'moddate': '2024-04-01T21:26:24+09:00', 'source': '../data/대한민국헌법(헌법)(제00010호)(19880225).pdf', 'producer': 'iText 2.1.7 by 1T3XT', 'page': 5, 'total_pages': 14, 'page_label': '6', 'creator': 'PyPDF'}, page_content='②국회는 의원의 자격을 심사하며, 의원을 징계할 수 있다.\\n③의원을 제명하려면 국회재적의원 3분의 2 이상의 찬성이 있어야 한다.\\n④제2항과 제3항의 처분에 대하여는 법원에 제소할 수 없다.\\n \\n제65조 ①대통령ㆍ국무총리ㆍ국무위원ㆍ행정각부의 장ㆍ헌법재판소 재판관ㆍ법관ㆍ중앙선거관리위원회 위원ㆍ감사\\n원장ㆍ감사위원 기타 법률이 정한 공무원이 그 직무집행에 있어서 헌법이나 법률을 위배한 때에는 국회는 탄핵의\\n소추를 의결할 수 있다.\\n②제1항의 탄핵소추는 국회재적의원 3분의 1 이상의 발의가 있어야 하며, 그 의결은 국회재적의원 과반수의 찬성이\\n있어야 한다. 다만, 대통령에 대한 탄핵소추는 국회재적의원 과반수의 발의와 국회재적의원 3분의 2 이상의 찬성이'),\n",
       " Document(id='88cae39b-3c8f-4c8c-878c-b7e8448e4b0a', metadata={'source': '../data/대한민국헌법(헌법)(제00010호)(19880225).pdf', 'page_label': '6', 'page': 5, 'moddate': '2024-04-01T21:26:24+09:00', 'total_pages': 14, 'creator': 'PyPDF', 'creationdate': '2024-04-01T21:26:24+09:00', 'producer': 'iText 2.1.7 by 1T3XT'}, page_content='②국회는 의원의 자격을 심사하며, 의원을 징계할 수 있다.\\n③의원을 제명하려면 국회재적의원 3분의 2 이상의 찬성이 있어야 한다.\\n④제2항과 제3항의 처분에 대하여는 법원에 제소할 수 없다.\\n \\n제65조 ①대통령ㆍ국무총리ㆍ국무위원ㆍ행정각부의 장ㆍ헌법재판소 재판관ㆍ법관ㆍ중앙선거관리위원회 위원ㆍ감사\\n원장ㆍ감사위원 기타 법률이 정한 공무원이 그 직무집행에 있어서 헌법이나 법률을 위배한 때에는 국회는 탄핵의\\n소추를 의결할 수 있다.\\n②제1항의 탄핵소추는 국회재적의원 3분의 1 이상의 발의가 있어야 하며, 그 의결은 국회재적의원 과반수의 찬성이\\n있어야 한다. 다만, 대통령에 대한 탄핵소추는 국회재적의원 과반수의 발의와 국회재적의원 3분의 2 이상의 찬성이'),\n",
       " Document(id='29bd2718-aa12-4225-a51e-d82e0dfd9f1c', metadata={'creator': 'PyPDF', 'creationdate': '2024-04-01T21:26:24+09:00', 'page_label': '6', 'producer': 'iText 2.1.7 by 1T3XT', 'total_pages': 14, 'moddate': '2024-04-01T21:26:24+09:00', 'page': 5, 'source': '../data/대한민국헌법(헌법)(제00010호)(19880225).pdf'}, page_content='②국회는 의원의 자격을 심사하며, 의원을 징계할 수 있다.\\n③의원을 제명하려면 국회재적의원 3분의 2 이상의 찬성이 있어야 한다.\\n④제2항과 제3항의 처분에 대하여는 법원에 제소할 수 없다.\\n \\n제65조 ①대통령ㆍ국무총리ㆍ국무위원ㆍ행정각부의 장ㆍ헌법재판소 재판관ㆍ법관ㆍ중앙선거관리위원회 위원ㆍ감사\\n원장ㆍ감사위원 기타 법률이 정한 공무원이 그 직무집행에 있어서 헌법이나 법률을 위배한 때에는 국회는 탄핵의\\n소추를 의결할 수 있다.\\n②제1항의 탄핵소추는 국회재적의원 3분의 1 이상의 발의가 있어야 하며, 그 의결은 국회재적의원 과반수의 찬성이\\n있어야 한다. 다만, 대통령에 대한 탄핵소추는 국회재적의원 과반수의 발의와 국회재적의원 3분의 2 이상의 찬성이'),\n",
       " Document(id='723ed343-68bd-4154-affb-c49c056a8c4b', metadata={'total_pages': 14, 'moddate': '2024-04-01T21:26:24+09:00', 'source': '../data/대한민국헌법(헌법)(제00010호)(19880225).pdf', 'producer': 'iText 2.1.7 by 1T3XT', 'page': 5, 'creator': 'PyPDF', 'creationdate': '2024-04-01T21:26:24+09:00', 'page_label': '6'}, page_content='제61조 ①국회는 국정을 감사하거나 특정한 국정사안에 대하여 조사할 수 있으며, 이에 필요한 서류의 제출 또는 증인\\n의 출석과 증언이나 의견의 진술을 요구할 수 있다.\\n②국정감사 및 조사에 관한 절차 기타 필요한 사항은 법률로 정한다.\\n \\n제62조 ①국무총리ㆍ국무위원 또는 정부위원은 국회나 그 위원회에 출석하여 국정처리상황을 보고하거나 의견을 진술\\n하고 질문에 응답할 수 있다.\\n②국회나 그 위원회의 요구가 있을 때에는 국무총리ㆍ국무위원 또는 정부위원은 출석ㆍ답변하여야 하며, 국무총리\\n또는 국무위원이 출석요구를 받은 때에는 국무위원 또는 정부위원으로 하여금 출석ㆍ답변하게 할 수 있다.\\n \\n제63조 ①국회는 국무총리 또는 국무위원의 해임을 대통령에게 건의할 수 있다.\\n②제1항의 해임건의는 국회재적의원 3분의 1 이상의 발의에 의하여 국회재적의원 과반수의 찬성이 있어야 한다.\\n \\n제64조 ①국회는 법률에 저촉되지 아니하는 범위 안에서 의사와 내부규율에 관한 규칙을 제정할 수 있다.'),\n",
       " Document(id='c4d62640-d238-40bb-bf10-db4ae3f12fd2', metadata={'page': 4, 'total_pages': 14, 'page_label': '5', 'creator': 'PyPDF', 'producer': 'iText 2.1.7 by 1T3XT', 'creationdate': '2024-04-01T21:26:24+09:00', 'moddate': '2024-04-01T21:26:24+09:00', 'source': '../data/대한민국헌법(헌법)(제00010호)(19880225).pdf'}, page_content='법제처                                                            5                                                       국가법령정보센터\\n대한민국헌법\\n③국회의원의 선거구와 비례대표제 기타 선거에 관한 사항은 법률로 정한다.\\n \\n제42조 국회의원의 임기는 4년으로 한다.\\n \\n제43조 국회의원은 법률이 정하는 직을 겸할 수 없다.\\n \\n제44조 ①국회의원은 현행범인인 경우를 제외하고는 회기 중 국회의 동의없이 체포 또는 구금되지 아니한다.\\n②국회의원이 회기 전에 체포 또는 구금된 때에는 현행범인이 아닌 한 국회의 요구가 있으면 회기 중 석방된다.\\n \\n제45조 국회의원은 국회에서 직무상 행한 발언과 표결에 관하여 국회 외에서 책임을 지지 아니한다.\\n \\n제46조 ①국회의원은 청렴의 의무가 있다.\\n②국회의원은 국가이익을 우선하여 양심에 따라 직무를 행한다.'),\n",
       " Document(id='272c20e1-32fd-4212-b40e-27a664ceadd0', metadata={'total_pages': 14, 'moddate': '2024-04-01T21:26:24+09:00', 'page': 4, 'creationdate': '2024-04-01T21:26:24+09:00', 'source': '../data/대한민국헌법(헌법)(제00010호)(19880225).pdf', 'producer': 'iText 2.1.7 by 1T3XT', 'creator': 'PyPDF', 'page_label': '5'}, page_content='법제처                                                            5                                                       국가법령정보센터\\n대한민국헌법\\n③국회의원의 선거구와 비례대표제 기타 선거에 관한 사항은 법률로 정한다.\\n \\n제42조 국회의원의 임기는 4년으로 한다.\\n \\n제43조 국회의원은 법률이 정하는 직을 겸할 수 없다.\\n \\n제44조 ①국회의원은 현행범인인 경우를 제외하고는 회기 중 국회의 동의없이 체포 또는 구금되지 아니한다.\\n②국회의원이 회기 전에 체포 또는 구금된 때에는 현행범인이 아닌 한 국회의 요구가 있으면 회기 중 석방된다.\\n \\n제45조 국회의원은 국회에서 직무상 행한 발언과 표결에 관하여 국회 외에서 책임을 지지 아니한다.\\n \\n제46조 ①국회의원은 청렴의 의무가 있다.\\n②국회의원은 국가이익을 우선하여 양심에 따라 직무를 행한다.'),\n",
       " Document(id='4e759668-ac32-4dc5-aabc-96fd1611412b', metadata={'total_pages': 14, 'page_label': '5', 'source': '../data/대한민국헌법(헌법)(제00010호)(19880225).pdf', 'creationdate': '2024-04-01T21:26:24+09:00', 'page': 4, 'producer': 'iText 2.1.7 by 1T3XT', 'creator': 'PyPDF', 'moddate': '2024-04-01T21:26:24+09:00'}, page_content='법제처                                                            5                                                       국가법령정보센터\\n대한민국헌법\\n③국회의원의 선거구와 비례대표제 기타 선거에 관한 사항은 법률로 정한다.\\n \\n제42조 국회의원의 임기는 4년으로 한다.\\n \\n제43조 국회의원은 법률이 정하는 직을 겸할 수 없다.\\n \\n제44조 ①국회의원은 현행범인인 경우를 제외하고는 회기 중 국회의 동의없이 체포 또는 구금되지 아니한다.\\n②국회의원이 회기 전에 체포 또는 구금된 때에는 현행범인이 아닌 한 국회의 요구가 있으면 회기 중 석방된다.\\n \\n제45조 국회의원은 국회에서 직무상 행한 발언과 표결에 관하여 국회 외에서 책임을 지지 아니한다.\\n \\n제46조 ①국회의원은 청렴의 의무가 있다.\\n②국회의원은 국가이익을 우선하여 양심에 따라 직무를 행한다.'),\n",
       " Document(id='fb8ca37b-9ad6-489e-94b3-c9070cdb285e', metadata={'source': '../data/대한민국헌법(헌법)(제00010호)(19880225).pdf', 'producer': 'iText 2.1.7 by 1T3XT', 'creationdate': '2024-04-01T21:26:24+09:00', 'page_label': '5', 'total_pages': 14, 'creator': 'PyPDF', 'page': 4, 'moddate': '2024-04-01T21:26:24+09:00'}, page_content='③국회의원은 그 지위를 남용하여 국가ㆍ공공단체 또는 기업체와의 계약이나 그 처분에 의하여 재산상의 권리ㆍ이\\n익 또는 직위를 취득하거나 타인을 위하여 그 취득을 알선할 수 없다.\\n \\n제47조 ①국회의 정기회는 법률이 정하는 바에 의하여 매년 1회 집회되며, 국회의 임시회는 대통령 또는 국회재적의원\\n4분의 1 이상의 요구에 의하여 집회된다.\\n②정기회의 회기는 100일을, 임시회의 회기는 30일을 초과할 수 없다.\\n③대통령이 임시회의 집회를 요구할 때에는 기간과 집회요구의 이유를 명시하여야 한다.\\n \\n제48조 국회는 의장 1인과 부의장 2인을 선출한다.\\n \\n제49조 국회는 헌법 또는 법률에 특별한 규정이 없는 한 재적의원 과반수의 출석과 출석의원 과반수의 찬성으로 의결\\n한다. 가부동수인 때에는 부결된 것으로 본다.\\n \\n제50조 ①국회의 회의는 공개한다. 다만, 출석의원 과반수의 찬성이 있거나 의장이 국가의 안전보장을 위하여 필요하다\\n고 인정할 때에는 공개하지 아니할 수 있다.'),\n",
       " Document(id='692435c2-000d-430b-911a-6e7f5c59d51c', metadata={'creator': 'PyPDF', 'producer': 'iText 2.1.7 by 1T3XT', 'page': 4, 'creationdate': '2024-04-01T21:26:24+09:00', 'moddate': '2024-04-01T21:26:24+09:00', 'page_label': '5', 'total_pages': 14, 'source': '../data/대한민국헌법(헌법)(제00010호)(19880225).pdf'}, page_content='③국회의원은 그 지위를 남용하여 국가ㆍ공공단체 또는 기업체와의 계약이나 그 처분에 의하여 재산상의 권리ㆍ이\\n익 또는 직위를 취득하거나 타인을 위하여 그 취득을 알선할 수 없다.\\n \\n제47조 ①국회의 정기회는 법률이 정하는 바에 의하여 매년 1회 집회되며, 국회의 임시회는 대통령 또는 국회재적의원\\n4분의 1 이상의 요구에 의하여 집회된다.\\n②정기회의 회기는 100일을, 임시회의 회기는 30일을 초과할 수 없다.\\n③대통령이 임시회의 집회를 요구할 때에는 기간과 집회요구의 이유를 명시하여야 한다.\\n \\n제48조 국회는 의장 1인과 부의장 2인을 선출한다.\\n \\n제49조 국회는 헌법 또는 법률에 특별한 규정이 없는 한 재적의원 과반수의 출석과 출석의원 과반수의 찬성으로 의결\\n한다. 가부동수인 때에는 부결된 것으로 본다.\\n \\n제50조 ①국회의 회의는 공개한다. 다만, 출석의원 과반수의 찬성이 있거나 의장이 국가의 안전보장을 위하여 필요하다\\n고 인정할 때에는 공개하지 아니할 수 있다.'),\n",
       " Document(id='819441fa-76ee-4dd6-9b53-059798eac757', metadata={'moddate': '2024-04-01T21:26:24+09:00', 'page': 4, 'page_label': '5', 'producer': 'iText 2.1.7 by 1T3XT', 'source': '../data/대한민국헌법(헌법)(제00010호)(19880225).pdf', 'total_pages': 14, 'creationdate': '2024-04-01T21:26:24+09:00', 'creator': 'PyPDF'}, page_content='③국회의원은 그 지위를 남용하여 국가ㆍ공공단체 또는 기업체와의 계약이나 그 처분에 의하여 재산상의 권리ㆍ이\\n익 또는 직위를 취득하거나 타인을 위하여 그 취득을 알선할 수 없다.\\n \\n제47조 ①국회의 정기회는 법률이 정하는 바에 의하여 매년 1회 집회되며, 국회의 임시회는 대통령 또는 국회재적의원\\n4분의 1 이상의 요구에 의하여 집회된다.\\n②정기회의 회기는 100일을, 임시회의 회기는 30일을 초과할 수 없다.\\n③대통령이 임시회의 집회를 요구할 때에는 기간과 집회요구의 이유를 명시하여야 한다.\\n \\n제48조 국회는 의장 1인과 부의장 2인을 선출한다.\\n \\n제49조 국회는 헌법 또는 법률에 특별한 규정이 없는 한 재적의원 과반수의 출석과 출석의원 과반수의 찬성으로 의결\\n한다. 가부동수인 때에는 부결된 것으로 본다.\\n \\n제50조 ①국회의 회의는 공개한다. 다만, 출석의원 과반수의 찬성이 있거나 의장이 국가의 안전보장을 위하여 필요하다\\n고 인정할 때에는 공개하지 아니할 수 있다.'),\n",
       " Document(id='e58a033a-29f8-48be-a852-e8b4d63f8023', metadata={'creator': 'PyPDF', 'page_label': '6', 'source': '../data/대한민국헌법(헌법)(제00010호)(19880225).pdf', 'moddate': '2024-04-01T21:26:24+09:00', 'page': 5, 'total_pages': 14, 'creationdate': '2024-04-01T21:26:24+09:00', 'producer': 'iText 2.1.7 by 1T3XT'}, page_content='제61조 ①국회는 국정을 감사하거나 특정한 국정사안에 대하여 조사할 수 있으며, 이에 필요한 서류의 제출 또는 증인\\n의 출석과 증언이나 의견의 진술을 요구할 수 있다.\\n②국정감사 및 조사에 관한 절차 기타 필요한 사항은 법률로 정한다.\\n \\n제62조 ①국무총리ㆍ국무위원 또는 정부위원은 국회나 그 위원회에 출석하여 국정처리상황을 보고하거나 의견을 진술\\n하고 질문에 응답할 수 있다.\\n②국회나 그 위원회의 요구가 있을 때에는 국무총리ㆍ국무위원 또는 정부위원은 출석ㆍ답변하여야 하며, 국무총리\\n또는 국무위원이 출석요구를 받은 때에는 국무위원 또는 정부위원으로 하여금 출석ㆍ답변하게 할 수 있다.\\n \\n제63조 ①국회는 국무총리 또는 국무위원의 해임을 대통령에게 건의할 수 있다.\\n②제1항의 해임건의는 국회재적의원 3분의 1 이상의 발의에 의하여 국회재적의원 과반수의 찬성이 있어야 한다.\\n \\n제64조 ①국회는 법률에 저촉되지 아니하는 범위 안에서 의사와 내부규율에 관한 규칙을 제정할 수 있다.')]"
      ]
     },
     "execution_count": 17,
     "metadata": {},
     "output_type": "execute_result"
    }
   ],
   "source": [
    "#```Chroma DB에 대한민국 헌법 PDF 임베딩 변환 및 저장하는 과정은 위 셀에 있습니다```\n",
    "from langchain.retrievers.multi_query import MultiQueryRetriever\n",
    "from langchain_openai import ChatOpenAI\n",
    "\n",
    "#질문 문장 question으로 저장\n",
    "question = \"국회의원의 의무는 무엇이 있나요?\"\n",
    "#여러 버전의 질문으로 변환하는 역할을 맡을 LLM 선언\n",
    "llm = ChatOpenAI(model_name=\"gpt-4o-mini\",\n",
    "                temperature = 0)\n",
    "#MultiQueryRetriever에 벡터DB 기반 Retriever와 LLM 선언\n",
    "retriever_from_llm = MultiQueryRetriever.from_llm(\n",
    "    retriever=db.as_retriever(), llm=llm\n",
    ")\n",
    "\n",
    "# 여러 버전의 문장 생성 결과를 확인하기 위한 로깅 과정\n",
    "import logging\n",
    "logging.basicConfig()\n",
    "logging.getLogger(\"langchain.retrievers.multi_query\").setLevel(logging.INFO)\n",
    "\n",
    "#여러 버전 질문 생성 결과와 유사 청크 검색 개수 출력\n",
    "unique_docs = retriever_from_llm.invoke(input=question)\n",
    "len(unique_docs)\n",
    "unique_docs"
   ]
  },
  {
   "cell_type": "code",
   "execution_count": 18,
   "id": "8f52f99f",
   "metadata": {},
   "outputs": [],
   "source": [
    "from langchain.retrievers.multi_vector import MultiVectorRetriever\n",
    "from langchain.storage import InMemoryByteStore\n",
    "from langchain_chroma import Chroma\n",
    "from langchain_text_splitters import RecursiveCharacterTextSplitter\n",
    "from langchain.document_loaders import PyPDFLoader\n",
    "\n",
    "loaders = PyPDFLoader(r\"../data/대한민국헌법(헌법)(제00010호)(19880225).pdf\"),\n",
    "docs = loader.load()\n",
    "text_splitter = RecursiveCharacterTextSplitter(chunk_size=2000)\n",
    "docs = text_splitter.split_documents(docs)"
   ]
  },
  {
   "cell_type": "code",
   "execution_count": 20,
   "id": "0b88372c",
   "metadata": {},
   "outputs": [],
   "source": [
    "from langchain_huggingface import HuggingFaceEmbeddings\n",
    "\n",
    "model_name = \"jhgan/ko-sbert-nli\"\n",
    "model_kwargs = {'device': 'cpu'}\n",
    "encode_kwargs = {'normalize_embeddings': True}\n",
    "embedding = HuggingFaceEmbeddings(\n",
    "    model_name=model_name,\n",
    "    model_kwargs=model_kwargs,\n",
    "    encode_kwargs=encode_kwargs\n",
    ")\n",
    "\n",
    "vectorstore = Chroma(\n",
    "    collection_name=\"full_documents\", embedding_function=embedding\n",
    ")\n",
    "# 상위 문서 저장 위한 레이어 선언\n",
    "store = InMemoryByteStore()\n",
    "id_key = \"doc_id\"\n",
    "# 상위 문서와 하위 문서를 연결할 키값으로 doc_id 사용\n",
    "retriever = MultiVectorRetriever(\n",
    "    vectorstore=vectorstore,\n",
    "    byte_store=store,\n",
    "    id_key=id_key,\n",
    ")\n",
    "\n",
    "#문서 id로 고유한 값을 지정하기 위해 uuid 라이브러리 호출\n",
    "import uuid\n",
    "doc_ids = [str(uuid.uuid4()) for _ in docs]"
   ]
  },
  {
   "cell_type": "code",
   "execution_count": 21,
   "id": "3135759a",
   "metadata": {},
   "outputs": [],
   "source": [
    "# 하위 청크로 쪼개기 위한 child_text_splitter 지정\n",
    "child_text_splitter = RecursiveCharacterTextSplitter(chunk_size=400)\n",
    "# 상위 청크들을 순회하며 하위 청크로 분할한 후 상위 청크 id 상속\n",
    "sub_docs = []\n",
    "for i, doc in enumerate(docs):\n",
    "    _id = doc_ids[i]\n",
    "    _sub_docs = child_text_splitter.split_documents([doc])\n",
    "    for _doc in _sub_docs:\n",
    "        _doc.metadata[id_key] = _id\n",
    "    sub_docs.extend(_sub_docs)\n",
    "#vectorstore에 하위 청크 추가\n",
    "retriever.vectorstore.add_documents(sub_docs)\n",
    "#docstore에 상위청크 저장할 때, doc_ids 지정\n",
    "retriever.docstore.mset(list(zip(doc_ids, docs)))"
   ]
  },
  {
   "cell_type": "code",
   "execution_count": 22,
   "id": "5589258d",
   "metadata": {},
   "outputs": [
    {
     "name": "stdout",
     "output_type": "stream",
     "text": [
      "[하위 청크] \n",
      "\n",
      "③공공필요에 의한 재산권의 수용ㆍ사용 또는 제한 및 그에 대한 보상은 법률로써 하되, 정당한 보상을 지급하여야\n",
      "한다.\n",
      " \n",
      "제24조 모든 국민은 법률이 정하는 바에 의하여 선거권을 가진다.\n",
      " \n",
      "제25조 모든 국민은 법률이 정하는 바에 의하여 공무담임권을 가진다.\n",
      " \n",
      "제26조 ①모든 국민은 법률이 정하는 바에 의하여 국가기관에 문서로 청원할 권리를 가진다.\n",
      "②국가는 청원에 대하여 심사할 의무를 진다.\n",
      " \n",
      "제27조 ①모든 국민은 헌법과 법률이 정한 법관에 의하여 법률에 의한 재판을 받을 권리를 가진다.\n",
      "②군인 또는 군무원이 아닌 국민은 대한민국의 영역 안에서는 중대한 군사상 기밀ㆍ초병ㆍ초소ㆍ유독음식물공급\n",
      "ㆍ포로ㆍ군용물에 관한 죄중 법률이 정한 경우와 비상계엄이 선포된 경우를 제외하고는 군사법원의 재판을 받지\n",
      "--------------------------------------------------\n",
      "[상위 청크] \n",
      "\n",
      "법제처                                                            3                                                       국가법령정보센터\n",
      "대한민국헌법\n",
      "제21조 ①모든 국민은 언론ㆍ출판의 자유와 집회ㆍ결사의 자유를 가진다.\n",
      "②언론ㆍ출판에 대한 허가나 검열과 집회ㆍ결사에 대한 허가는 인정되지 아니한다.\n",
      "③통신ㆍ방송의 시설기준과 신문의 기능을 보장하기 위하여 필요한 사항은 법률로 정한다.\n",
      "④언론ㆍ출판은 타인의 명예나 권리 또는 공중도덕이나 사회윤리를 침해하여서는 아니된다. 언론ㆍ출판이 타인의\n",
      "명예나 권리를 침해한 때에는 피해자는 이에 대한 피해의 배상을 청구할 수 있다.\n",
      " \n",
      "제22조 ①모든 국민은 학문과 예술의 자유를 가진다.\n",
      "②저작자ㆍ발명가ㆍ과학기술자와 예술가의 권리는 법률로써 보호한다.\n",
      " \n",
      "제23조 ①모든 국민의 재산권은 보장된다. 그 내용과 한계는 법률로 정한다.\n",
      "②재산권의 행사는 공공복리에 적합하도록 하여야 한다.\n",
      "③공공필요에 의한 재산권의 수용ㆍ사용 또는 제한 및 그에 대한 보상은 법률로써 하되, 정당한 보상을 지급하여야\n",
      "한다.\n",
      " \n",
      "제24조 모든 국민은 법률이 정하는 바에 의하여 선거권을 가진다.\n",
      " \n",
      "제25조 모든 국민은 법률이 정하는 바에 의하여 공무담임권을 가진다.\n",
      " \n",
      "제26조 ①모든 국민은 법률이 정하는 바에 의하여 국가기관에 문서로 청원할 권리를 가진다.\n",
      "②국가는 청원에 대하여 심사할 의무를 진다.\n",
      " \n",
      "제27조 ①모든 국민은 헌법과 법률이 정한 법관에 의하여 법률에 의한 재판을 받을 권리를 가진다.\n",
      "②군인 또는 군무원이 아닌 국민은 대한민국의 영역 안에서는 중대한 군사상 기밀ㆍ초병ㆍ초소ㆍ유독음식물공급\n",
      "ㆍ포로ㆍ군용물에 관한 죄중 법률이 정한 경우와 비상계엄이 선포된 경우를 제외하고는 군사법원의 재판을 받지\n",
      "아니한다.\n",
      "③모든 국민은 신속한 재판을 받을 권리를 가진다. 형사피고인은 상당한 이유가 없는 한 지체없이 공개재판을 받을\n",
      "권리를 가진다.\n",
      "④형사피고인은 유죄의 판결이 확정될 때까지는 무죄로 추정된다.\n",
      "⑤형사피해자는 법률이 정하는 바에 의하여 당해 사건의 재판절차에서 진술할 수 있다.\n",
      " \n",
      "제28조 형사피의자 또는 형사피고인으로서 구금되었던 자가 법률이 정하는 불기소처분을 받거나 무죄판결을 받은 때\n",
      "에는 법률이 정하는 바에 의하여 국가에 정당한 보상을 청구할 수 있다.\n",
      " \n",
      "제29조 ①공무원의 직무상 불법행위로 손해를 받은 국민은 법률이 정하는 바에 의하여 국가 또는 공공단체에 정당한\n",
      "배상을 청구할 수 있다. 이 경우 공무원 자신의 책임은 면제되지 아니한다.\n",
      "②군인ㆍ군무원ㆍ경찰공무원 기타 법률이 정하는 자가 전투ㆍ훈련등 직무집행과 관련하여 받은 손해에 대하여는\n",
      "법률이 정하는 보상 외에 국가 또는 공공단체에 공무원의 직무상 불법행위로 인한 배상은 청구할 수 없다.\n",
      " \n",
      "제30조 타인의 범죄행위로 인하여 생명ㆍ신체에 대한 피해를 받은 국민은 법률이 정하는 바에 의하여 국가로부터 구조\n",
      "를 받을 수 있다.\n",
      " \n",
      "제31조 ①모든 국민은 능력에 따라 균등하게 교육을 받을 권리를 가진다.\n",
      "②모든 국민은 그 보호하는 자녀에게 적어도 초등교육과 법률이 정하는 교육을 받게 할 의무를 진다.\n",
      "③의무교육은 무상으로 한다.\n",
      "④교육의 자주성ㆍ전문성ㆍ정치적 중립성 및 대학의 자율성은 법률이 정하는 바에 의하여 보장된다.\n",
      "⑤국가는 평생교육을 진흥하여야 한다.\n",
      "⑥학교교육 및 평생교육을 포함한 교육제도와 그 운영, 교육재정 및 교원의 지위에 관한 기본적인 사항은 법률로 정\n",
      "한다.\n"
     ]
    }
   ],
   "source": [
    "# Vectorstore alone retrieves the small chunks\n",
    "print(\"[하위 청크] \\n\")\n",
    "print(retriever.vectorstore.similarity_search(\"국민의 권리\")[0].page_content)\n",
    "print(\"-\"*50)\n",
    "print(\"[상위 청크] \\n\")\n",
    "print(retriever.invoke(\"국민의 권리\")[0].page_content)"
   ]
  },
  {
   "cell_type": "code",
   "execution_count": 23,
   "id": "206ebe83",
   "metadata": {},
   "outputs": [
    {
     "data": {
      "text/plain": [
       "[Document(id='015a9b71-7616-4eb4-a9d0-394c68fbcc85', metadata={}, page_content='L. 코넷은 최고의 셀틱스 선수 중 한 명입니다.'),\n",
       " Document(id='c6042b69-e1df-40a1-bd71-0c3101f97858', metadata={}, page_content='셀틱스는 제가 가장 좋아하는 팀입니다.'),\n",
       " Document(id='89d49725-937f-46e3-9af7-994d3d1e8b53', metadata={}, page_content='이것은 그냥 임의의 텍스트입니다.'),\n",
       " Document(id='f60c33b9-9ccb-45cf-8523-0b24d73ba786', metadata={}, page_content='이것은 보스턴 셀틱스에 관한 문서입니다.저는 단순히 영화 보러 가는 것을 좋아합니다'),\n",
       " Document(id='2896f67f-5b47-4738-bcf5-4ac4222c29c8', metadata={}, page_content='바스켓볼은 훌륭한 스포츠입니다.'),\n",
       " Document(id='6a64daa0-b2a0-4d3a-9d04-fd518b869efe', metadata={}, page_content='보스턴 셀틱스가 20점차로 이겼어요'),\n",
       " Document(id='0f5c775f-8662-403d-ab97-d585253cfbd6', metadata={}, page_content='플라이 미 투 더 문은 제가 가장 좋아하는 노래 중 하나입니다.'),\n",
       " Document(id='6e3ce86b-56cb-4ebe-b6ff-fd3550790f13', metadata={}, page_content='엘든 링은 지난 15 년 동안 최고의 게임 중 하나입니다.'),\n",
       " Document(id='1c34b317-e9ef-4043-a02b-16d67c4ddbf7', metadata={}, page_content='래리 버드는 상징적인 NBA 선수였습니다.')]"
      ]
     },
     "execution_count": 23,
     "metadata": {},
     "output_type": "execute_result"
    }
   ],
   "source": [
    "from langchain.chains import LLMChain, StuffDocumentsChain\n",
    "from langchain_chroma import Chroma\n",
    "from langchain.document_transformers import (\n",
    "    LongContextReorder,\n",
    ")\n",
    "from langchain.embeddings import HuggingFaceEmbeddings\n",
    "from langchain.prompts import PromptTemplate\n",
    "from langchain_openai import OpenAI\n",
    "\n",
    "Chroma().delete_collection()\n",
    "\n",
    "# 한글 임베딩 모델 선언\n",
    "model_name = \"jhgan/ko-sbert-nli\"\n",
    "model_kwargs = {'device': 'cpu'}\n",
    "encode_kwargs = {'normalize_embeddings': True}\n",
    "embedding = HuggingFaceEmbeddings(\n",
    "    model_name=model_name,\n",
    "    model_kwargs=model_kwargs,\n",
    "    encode_kwargs=encode_kwargs\n",
    ")\n",
    "\n",
    "texts = [\n",
    "    \"바스켓볼은 훌륭한 스포츠입니다.\",\n",
    "    \"플라이 미 투 더 문은 제가 가장 좋아하는 노래 중 하나입니다.\",\n",
    "    \"셀틱스는 제가 가장 좋아하는 팀입니다.\",\n",
    "    \"이것은 보스턴 셀틱스에 관한 문서입니다.\"\n",
    "    \"저는 단순히 영화 보러 가는 것을 좋아합니다\",\n",
    "    \"보스턴 셀틱스가 20점차로 이겼어요\",\n",
    "    \"이것은 그냥 임의의 텍스트입니다.\",\n",
    "    \"엘든 링은 지난 15 년 동안 최고의 게임 중 하나입니다.\",\n",
    "    \"L. 코넷은 최고의 셀틱스 선수 중 한 명입니다.\",\n",
    "    \"래리 버드는 상징적인 NBA 선수였습니다.\",\n",
    "]\n",
    "# Chroma Retriever 선언(10개의 유사 문서 출력)\n",
    "retriever = Chroma.from_texts(texts, embedding=embedding).as_retriever(\n",
    "    search_kwargs={\"k\": 10}\n",
    ")\n",
    "query = \"셀틱에 대해 설명해줘\"\n",
    "\n",
    "# 유사도 기준으로 검색 결과 출력\n",
    "docs = retriever.invoke(query)\n",
    "docs"
   ]
  },
  {
   "cell_type": "code",
   "execution_count": 24,
   "id": "f46686df",
   "metadata": {},
   "outputs": [
    {
     "data": {
      "text/plain": [
       "[Document(id='015a9b71-7616-4eb4-a9d0-394c68fbcc85', metadata={}, page_content='L. 코넷은 최고의 셀틱스 선수 중 한 명입니다.'),\n",
       " Document(id='89d49725-937f-46e3-9af7-994d3d1e8b53', metadata={}, page_content='이것은 그냥 임의의 텍스트입니다.'),\n",
       " Document(id='2896f67f-5b47-4738-bcf5-4ac4222c29c8', metadata={}, page_content='바스켓볼은 훌륭한 스포츠입니다.'),\n",
       " Document(id='0f5c775f-8662-403d-ab97-d585253cfbd6', metadata={}, page_content='플라이 미 투 더 문은 제가 가장 좋아하는 노래 중 하나입니다.'),\n",
       " Document(id='1c34b317-e9ef-4043-a02b-16d67c4ddbf7', metadata={}, page_content='래리 버드는 상징적인 NBA 선수였습니다.'),\n",
       " Document(id='6e3ce86b-56cb-4ebe-b6ff-fd3550790f13', metadata={}, page_content='엘든 링은 지난 15 년 동안 최고의 게임 중 하나입니다.'),\n",
       " Document(id='6a64daa0-b2a0-4d3a-9d04-fd518b869efe', metadata={}, page_content='보스턴 셀틱스가 20점차로 이겼어요'),\n",
       " Document(id='f60c33b9-9ccb-45cf-8523-0b24d73ba786', metadata={}, page_content='이것은 보스턴 셀틱스에 관한 문서입니다.저는 단순히 영화 보러 가는 것을 좋아합니다'),\n",
       " Document(id='c6042b69-e1df-40a1-bd71-0c3101f97858', metadata={}, page_content='셀틱스는 제가 가장 좋아하는 팀입니다.')]"
      ]
     },
     "execution_count": 24,
     "metadata": {},
     "output_type": "execute_result"
    }
   ],
   "source": [
    "#LongContextReorder 선언\n",
    "reordering = LongContextReorder()\n",
    "#검색된 유사문서 중 관련도가 높은 문서를 맨앞과 맨뒤에 재정배치\n",
    "reordered_docs = reordering.transform_documents(docs)\n",
    "reordered_docs"
   ]
  }
 ],
 "metadata": {
  "kernelspec": {
   "display_name": ".venv",
   "language": "python",
   "name": "python3"
  },
  "language_info": {
   "codemirror_mode": {
    "name": "ipython",
    "version": 3
   },
   "file_extension": ".py",
   "mimetype": "text/x-python",
   "name": "python",
   "nbconvert_exporter": "python",
   "pygments_lexer": "ipython3",
   "version": "3.13.3"
  }
 },
 "nbformat": 4,
 "nbformat_minor": 5
}
